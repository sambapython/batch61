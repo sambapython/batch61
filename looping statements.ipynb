{
 "cells": [
  {
   "cell_type": "code",
   "execution_count": 1,
   "metadata": {},
   "outputs": [
    {
     "name": "stdout",
     "output_type": "stream",
     "text": [
      "10\n",
      "23\n",
      "14\n",
      "46\n",
      "73\n",
      "48\n"
     ]
    }
   ],
   "source": [
    "l=[10,23,14,46,73,48]\n",
    "print(l[0])\n",
    "print(l[1])\n",
    "print(l[2])\n",
    "print(l[3])\n",
    "print(l[4])\n",
    "print(l[5])"
   ]
  },
  {
   "cell_type": "code",
   "execution_count": 3,
   "metadata": {},
   "outputs": [
    {
     "name": "stdout",
     "output_type": "stream",
     "text": [
      "10 is even\n",
      "23 is odd\n",
      "14 is even\n",
      "46 is even\n",
      "73 is odd\n",
      "48 is even\n"
     ]
    }
   ],
   "source": [
    "l=[10,23,14,46,73,48]\n",
    "if l[0]%2 == 0:\n",
    "    print(f\"{l[0]} is even\")\n",
    "else:\n",
    "    print(f\"{l[0]} is odd\")\n",
    "if l[1]%2 == 0:\n",
    "    print(f\"{l[1]} is even\")\n",
    "else:\n",
    "    print(f\"{l[1]} is odd\")\n",
    "if l[2]%2 == 0:\n",
    "    print(f\"{l[2]} is even\")\n",
    "else:\n",
    "    print(f\"{l[2]} is odd\")\n",
    "if l[3]%2 == 0:\n",
    "    print(f\"{l[3]} is even\")\n",
    "else:\n",
    "    print(f\"{l[3]} is odd\")\n",
    "if l[4]%2 == 0:\n",
    "    print(f\"{l[4]} is even\")\n",
    "else:\n",
    "    print(f\"{l[4]} is odd\")\n",
    "if l[5]%2 == 0:\n",
    "    print(f\"{l[5]} is even\")\n",
    "else:\n",
    "    print(f\"{l[5]} is odd\")"
   ]
  },
  {
   "cell_type": "code",
   "execution_count": 4,
   "metadata": {},
   "outputs": [
    {
     "name": "stdout",
     "output_type": "stream",
     "text": [
      "this is an iteration..\n",
      "10\n",
      "this is an iteration..\n",
      "23\n",
      "this is an iteration..\n",
      "14\n",
      "this is an iteration..\n",
      "46\n",
      "this is an iteration..\n",
      "73\n",
      "this is an iteration..\n",
      "48\n",
      "thanks\n"
     ]
    }
   ],
   "source": [
    "l=[10,23,14,46,73,48]\n",
    "for ele in l:\n",
    "    print(\"this is an iteration..\")\n",
    "    print(ele)\n",
    "print(\"thanks\")"
   ]
  },
  {
   "cell_type": "code",
   "execution_count": 5,
   "metadata": {},
   "outputs": [
    {
     "name": "stdout",
     "output_type": "stream",
     "text": [
      "10\n",
      "23\n",
      "14\n",
      "46\n",
      "73\n",
      "48\n"
     ]
    }
   ],
   "source": [
    "l=[10,23,14,46,73,48]\n",
    "i=0\n",
    "while i<len(l):\n",
    "    print(l[i])\n",
    "    i=i+1\n"
   ]
  },
  {
   "cell_type": "code",
   "execution_count": 6,
   "metadata": {},
   "outputs": [
    {
     "name": "stdout",
     "output_type": "stream",
     "text": [
      "10\n",
      "23\n",
      "14\n",
      "46\n",
      "73\n",
      "48\n"
     ]
    }
   ],
   "source": [
    "l=[10,23,14,46,73,48]\n",
    "for i in l:\n",
    "    print(i)"
   ]
  },
  {
   "cell_type": "code",
   "execution_count": 7,
   "metadata": {},
   "outputs": [
    {
     "name": "stdout",
     "output_type": "stream",
     "text": [
      "10 is even\n",
      "23 is odd\n",
      "14 is even\n",
      "46 is even\n",
      "73 is odd\n",
      "48 is even\n",
      "thanks\n"
     ]
    }
   ],
   "source": [
    "l=[10,23,14,46,73,48]\n",
    "for element in l:\n",
    "    if element%2==0:\n",
    "        print(f\"{element} is even\")\n",
    "    else:\n",
    "        print(f\"{element} is odd\")\n",
    "print(\"thanks\")"
   ]
  },
  {
   "cell_type": "code",
   "execution_count": 8,
   "metadata": {},
   "outputs": [],
   "source": [
    "l=[10,20,30,40]\n",
    "t=(10,20,30,40)\n",
    "s={10,20,30,40}\n",
    "d={1:2,3:4,5:6}\n",
    "e=\"10,20,30,40\"\n"
   ]
  },
  {
   "cell_type": "code",
   "execution_count": 9,
   "metadata": {},
   "outputs": [
    {
     "ename": "SyntaxError",
     "evalue": "EOL while scanning string literal (<ipython-input-9-83abcea76e4d>, line 3)",
     "output_type": "error",
     "traceback": [
      "\u001b[0;36m  File \u001b[0;32m\"<ipython-input-9-83abcea76e4d>\"\u001b[0;36m, line \u001b[0;32m3\u001b[0m\n\u001b[0;31m    print(\"sdfsdfsd)\u001b[0m\n\u001b[0m                    ^\u001b[0m\n\u001b[0;31mSyntaxError\u001b[0m\u001b[0;31m:\u001b[0m EOL while scanning string literal\n"
     ]
    }
   ],
   "source": [
    "print(\"sdfsd\")\n",
    "print(\"sdfsdfsd\")\n",
    "print(\"sdfsdfsd)\n",
    "print(\"dsfsdf\")"
   ]
  },
  {
   "cell_type": "code",
   "execution_count": 10,
   "metadata": {},
   "outputs": [],
   "source": [
    "l=[10,20,30,40]\n",
    "t=(10,20,30,40)\n",
    "s={10,20,30,40}\n",
    "d={1:2,3:4,5:6}\n",
    "e=\"10,20,30,40\"\n"
   ]
  },
  {
   "cell_type": "code",
   "execution_count": 11,
   "metadata": {},
   "outputs": [
    {
     "name": "stdout",
     "output_type": "stream",
     "text": [
      "the element is ele\n"
     ]
    }
   ],
   "source": [
    "ele = 20\n",
    "print(\"the element is ele\")"
   ]
  },
  {
   "cell_type": "code",
   "execution_count": 12,
   "metadata": {},
   "outputs": [
    {
     "name": "stdout",
     "output_type": "stream",
     "text": [
      "the element is 20\n"
     ]
    }
   ],
   "source": [
    "ele = 20\n",
    "print(f\"the element is {ele}\")"
   ]
  },
  {
   "cell_type": "code",
   "execution_count": 13,
   "metadata": {},
   "outputs": [
    {
     "name": "stdout",
     "output_type": "stream",
     "text": [
      "the element is {ele}\n"
     ]
    }
   ],
   "source": [
    "ele = 20\n",
    "print(\"the element is {ele}\")"
   ]
  },
  {
   "cell_type": "code",
   "execution_count": null,
   "metadata": {},
   "outputs": [],
   "source": [
    "l=[10,20,30,40]\n",
    "t=(10,20,30,40)\n",
    "s={10,20,30,40}\n",
    "d={1:2,3:4,5:6}\n",
    "e=\"10,20,30,40\"\n",
    "for i in l:\n",
    "    print(i)"
   ]
  },
  {
   "cell_type": "code",
   "execution_count": 1,
   "metadata": {},
   "outputs": [
    {
     "name": "stdout",
     "output_type": "stream",
     "text": [
      "welcome\n",
      "0\n",
      "thanks\n"
     ]
    }
   ],
   "source": [
    "print(\"welcome\")\n",
    "i=0\n",
    "if i<4:\n",
    "    print(i)\n",
    "    i=i+1\n",
    "print(\"thanks\")"
   ]
  },
  {
   "cell_type": "code",
   "execution_count": 2,
   "metadata": {},
   "outputs": [
    {
     "name": "stdout",
     "output_type": "stream",
     "text": [
      "welcome\n",
      "0\n",
      "1\n",
      "2\n",
      "3\n",
      "thanks\n"
     ]
    }
   ],
   "source": [
    "print(\"welcome\")\n",
    "i=0\n",
    "while i<4:\n",
    "    print(i)\n",
    "    i=i+1\n",
    "print(\"thanks\")"
   ]
  },
  {
   "cell_type": "code",
   "execution_count": 3,
   "metadata": {},
   "outputs": [
    {
     "name": "stdout",
     "output_type": "stream",
     "text": [
      "welcome\n",
      "thanks\n"
     ]
    }
   ],
   "source": [
    "print(\"welcome\")\n",
    "i=10\n",
    "while i<4:\n",
    "    print(i)\n",
    "    i=i+1\n",
    "print(\"thanks\")"
   ]
  },
  {
   "cell_type": "code",
   "execution_count": 4,
   "metadata": {},
   "outputs": [
    {
     "name": "stdout",
     "output_type": "stream",
     "text": [
      "welcome\n",
      "i iout isde the loop: 10\n",
      "thanks\n"
     ]
    }
   ],
   "source": [
    "print(\"welcome\")\n",
    "i=10\n",
    "while i<4:\n",
    "    print(i)\n",
    "    i=i+1\n",
    "print(\"i iout isde the loop:\",i)\n",
    "print(\"thanks\")"
   ]
  },
  {
   "cell_type": "code",
   "execution_count": 6,
   "metadata": {},
   "outputs": [
    {
     "name": "stdout",
     "output_type": "stream",
     "text": [
      "welcome\n",
      "0\n",
      "1\n",
      "2\n",
      "3\n",
      "i iout isde the loop: 4\n",
      "thanks\n"
     ]
    }
   ],
   "source": [
    "print(\"welcome\")\n",
    "i=0\n",
    "while i<4:\n",
    "    print(i)\n",
    "    i=i+1\n",
    "print(\"i iout isde the loop:\",i)\n",
    "print(\"thanks\")"
   ]
  },
  {
   "cell_type": "code",
   "execution_count": 7,
   "metadata": {},
   "outputs": [
    {
     "name": "stdout",
     "output_type": "stream",
     "text": [
      "number of evenes:5\n",
      "number of odds:3\n"
     ]
    }
   ],
   "source": [
    "l=[10,20,31,43,46,78,24,57]\n",
    "# how many number of odd numbers are there, number of even  numbers..\n",
    "print(\"number of evenes:5\")\n",
    "print(\"number of odds:3\")"
   ]
  },
  {
   "cell_type": "code",
   "execution_count": 8,
   "metadata": {},
   "outputs": [
    {
     "name": "stdout",
     "output_type": "stream",
     "text": [
      "10\n",
      "20\n",
      "31\n",
      "43\n",
      "46\n",
      "78\n",
      "24\n",
      "57\n"
     ]
    }
   ],
   "source": [
    "l=[10,20,31,43,46,78,24,57]\n",
    "for i in l:\n",
    "    print(i)"
   ]
  },
  {
   "cell_type": "code",
   "execution_count": 10,
   "metadata": {},
   "outputs": [
    {
     "name": "stdout",
     "output_type": "stream",
     "text": [
      "10-->even\n",
      "20-->even\n",
      "31-->odd\n",
      "43-->odd\n",
      "46-->even\n",
      "78-->even\n",
      "24-->even\n",
      "57-->odd\n"
     ]
    }
   ],
   "source": [
    "l=[10,20,31,43,46,78,24,57]\n",
    "for i in l:\n",
    "    if i%2==0:\n",
    "        print(f\"{i}-->even\")\n",
    "    else:\n",
    "        print(f\"{i}-->odd\")\n",
    "        \n",
    "print(\"thanks\")"
   ]
  },
  {
   "cell_type": "code",
   "execution_count": 11,
   "metadata": {},
   "outputs": [
    {
     "name": "stdout",
     "output_type": "stream",
     "text": [
      "10-->even\n",
      "20-->even\n",
      "31-->odd\n",
      "43-->odd\n",
      "46-->even\n",
      "78-->even\n",
      "24-->even\n",
      "57-->odd\n",
      "number of evens: 5\n",
      "number of odds: 3\n",
      "thanks\n"
     ]
    }
   ],
   "source": [
    "l=[10,20,31,43,46,78,24,57]\n",
    "even_count=0\n",
    "odd_count=0\n",
    "for i in l:\n",
    "    if i%2==0:\n",
    "        print(f\"{i}-->even\")\n",
    "        even_count=even_count+1\n",
    "    else:\n",
    "        print(f\"{i}-->odd\")\n",
    "        odd_count = odd_count+1\n",
    "print(\"number of evens:\",even_count)\n",
    "print(\"number of odds:\",odd_count)\n",
    "print(\"thanks\")"
   ]
  },
  {
   "cell_type": "code",
   "execution_count": 12,
   "metadata": {},
   "outputs": [
    {
     "name": "stdout",
     "output_type": "stream",
     "text": [
      "10\n",
      "20\n",
      "31\n",
      "43\n",
      "46\n",
      "78\n",
      "24\n",
      "57\n"
     ]
    }
   ],
   "source": [
    "l=[10,20,31,43,46,78,24,57]\n",
    "for i in l:\n",
    "    print(i)"
   ]
  },
  {
   "cell_type": "code",
   "execution_count": 14,
   "metadata": {},
   "outputs": [
    {
     "name": "stdout",
     "output_type": "stream",
     "text": [
      "10\n",
      "20\n",
      "31\n",
      "43\n",
      "46\n",
      "78\n",
      "24\n",
      "57\n"
     ]
    }
   ],
   "source": [
    "l=[10,20,31,43,46,78,24,57]\n",
    "print(l[0])\n",
    "print(l[1])\n",
    "print(l[2])\n",
    "print(l[3])\n",
    "print(l[4])\n",
    "print(l[5])\n",
    "print(l[6])\n",
    "print(l[7])"
   ]
  },
  {
   "cell_type": "code",
   "execution_count": 15,
   "metadata": {},
   "outputs": [
    {
     "name": "stdout",
     "output_type": "stream",
     "text": [
      "0\n",
      "1\n",
      "2\n",
      "3\n",
      "4\n",
      "5\n",
      "6\n",
      "7\n"
     ]
    }
   ],
   "source": [
    "i=0\n",
    "while i<8:\n",
    "    print(i)\n",
    "    i=i+1"
   ]
  },
  {
   "cell_type": "code",
   "execution_count": 16,
   "metadata": {},
   "outputs": [
    {
     "name": "stdout",
     "output_type": "stream",
     "text": [
      "10\n",
      "20\n",
      "31\n",
      "43\n",
      "46\n",
      "78\n",
      "24\n",
      "57\n"
     ]
    }
   ],
   "source": [
    "l=[10,20,31,43,46,78,24,57]\n",
    "i=0\n",
    "while i<8:\n",
    "    print(l[i])\n",
    "    i=i+1"
   ]
  },
  {
   "cell_type": "code",
   "execution_count": 18,
   "metadata": {},
   "outputs": [
    {
     "name": "stdout",
     "output_type": "stream",
     "text": [
      "10\n",
      "20\n",
      "31\n",
      "43\n",
      "46\n",
      "78\n",
      "24\n",
      "57\n"
     ]
    }
   ],
   "source": [
    "l=[10,20,31,43,46,78,24,57]\n",
    "i=0\n",
    "while i<len(l):\n",
    "    print(l[i])\n",
    "    i=i+1"
   ]
  },
  {
   "cell_type": "code",
   "execution_count": 1,
   "metadata": {},
   "outputs": [
    {
     "name": "stdout",
     "output_type": "stream",
     "text": [
      "0\n"
     ]
    }
   ],
   "source": [
    "# check whether given list conatins atleast one even number or not..\n",
    "l=[1,21,23,25]\n",
    "e_c=0\n",
    "for i in l:\n",
    "    if i%2==0:\n",
    "        e_c=e_c+1\n",
    "print(e_c)"
   ]
  },
  {
   "cell_type": "code",
   "execution_count": 2,
   "metadata": {},
   "outputs": [
    {
     "name": "stdout",
     "output_type": "stream",
     "text": [
      "no even numbers\n"
     ]
    }
   ],
   "source": [
    "# check whether given list conatins atleast one even number or not..\n",
    "l=[1,21,23,25]\n",
    "e_c=0\n",
    "for i in l:\n",
    "    if i%2==0:\n",
    "        e_c=e_c+1\n",
    "if e_c==0:\n",
    "    print(\"no even numbers\")\n",
    "else:\n",
    "    print(\"there is an even numbers\")"
   ]
  },
  {
   "cell_type": "code",
   "execution_count": 3,
   "metadata": {},
   "outputs": [
    {
     "name": "stdout",
     "output_type": "stream",
     "text": [
      "no even numbers\n"
     ]
    }
   ],
   "source": [
    "# check whether given list conatins atleast one even number or not..\n",
    "l=[1,21,23,25]\n",
    "e_c=0\n",
    "for i in l:\n",
    "    if i%2==0:\n",
    "        e_c+=1\n",
    "if e_c==0:\n",
    "    print(\"no even numbers\")\n",
    "else:\n",
    "    print(\"there is an even numbers\")"
   ]
  },
  {
   "cell_type": "code",
   "execution_count": 4,
   "metadata": {},
   "outputs": [
    {
     "name": "stdout",
     "output_type": "stream",
     "text": [
      "there is an even numbers\n"
     ]
    }
   ],
   "source": [
    "# check whether given list conatins atleast one even number or not..\n",
    "l=[1,21,23,25,24]\n",
    "e_c=0\n",
    "for i in l:\n",
    "    if i%2==0:\n",
    "        e_c=e_c+1\n",
    "if e_c==0:\n",
    "    print(\"no even numbers\")\n",
    "else:\n",
    "    print(\"there is an even numbers\")"
   ]
  },
  {
   "cell_type": "code",
   "execution_count": 5,
   "metadata": {},
   "outputs": [
    {
     "name": "stdout",
     "output_type": "stream",
     "text": [
      "there is an even numbers\n"
     ]
    }
   ],
   "source": [
    "# check whether given list conatins atleast one even number or not..\n",
    "l=[1,21,26,23,25,24]\n",
    "e_c=0\n",
    "for i in l:\n",
    "    if i%2==0:\n",
    "        e_c=e_c+1\n",
    "if e_c==0:\n",
    "    print(\"no even numbers\")\n",
    "else:\n",
    "    print(\"there is an even numbers\")"
   ]
  },
  {
   "cell_type": "code",
   "execution_count": 6,
   "metadata": {},
   "outputs": [
    {
     "name": "stdout",
     "output_type": "stream",
     "text": [
      "1\n",
      "21\n",
      "26\n",
      "23\n",
      "25\n",
      "24\n",
      "there is an even numbers\n"
     ]
    }
   ],
   "source": [
    "# check whether given list conatins atleast one even number or not..\n",
    "l=[1,21,26,23,25,24]\n",
    "e_c=0\n",
    "for i in l:\n",
    "    print(i)\n",
    "    if i%2==0:\n",
    "        e_c=e_c+1\n",
    "if e_c==0:\n",
    "    print(\"no even numbers\")\n",
    "else:\n",
    "    print(\"there is an even numbers\")"
   ]
  },
  {
   "cell_type": "code",
   "execution_count": 7,
   "metadata": {},
   "outputs": [
    {
     "name": "stdout",
     "output_type": "stream",
     "text": [
      "12\n",
      "1\n",
      "21\n",
      "26\n",
      "23\n",
      "25\n",
      "24\n",
      "there is an even numbers\n"
     ]
    }
   ],
   "source": [
    "# check whether given list conatins atleast one even number or not..\n",
    "l=[12,1,21,26,23,25,24]\n",
    "e_c=0\n",
    "for i in l:\n",
    "    print(i)\n",
    "    if i%2==0:\n",
    "        e_c=e_c+1\n",
    "if e_c==0:\n",
    "    print(\"no even numbers\")\n",
    "else:\n",
    "    print(\"there is an even numbers\")"
   ]
  },
  {
   "cell_type": "code",
   "execution_count": 8,
   "metadata": {},
   "outputs": [
    {
     "name": "stdout",
     "output_type": "stream",
     "text": [
      "12\n",
      "there is an even numbers\n"
     ]
    }
   ],
   "source": [
    "# check whether given list conatins atleast one even number or not..\n",
    "l=[12,1,21,26,23,25,24]\n",
    "e_c=0\n",
    "for i in l:\n",
    "    print(i)\n",
    "    if i%2==0:\n",
    "        e_c=e_c+1\n",
    "        break\n",
    "if e_c==0:\n",
    "    print(\"no even numbers\")\n",
    "else:\n",
    "    print(\"there is an even numbers\")"
   ]
  },
  {
   "cell_type": "code",
   "execution_count": 9,
   "metadata": {},
   "outputs": [
    {
     "name": "stdout",
     "output_type": "stream",
     "text": [
      "1\n",
      "21\n",
      "26\n",
      "there is an even numbers\n"
     ]
    }
   ],
   "source": [
    "# check whether given list conatins atleast one even number or not..\n",
    "l=[1,21,26,23,25,24]\n",
    "e_c=0\n",
    "for i in l:\n",
    "    print(i)\n",
    "    if i%2==0:\n",
    "        e_c=e_c+1\n",
    "        break\n",
    "if e_c==0:\n",
    "    print(\"no even numbers\")\n",
    "else:\n",
    "    print(\"there is an even numbers\")"
   ]
  },
  {
   "cell_type": "code",
   "execution_count": 10,
   "metadata": {},
   "outputs": [
    {
     "name": "stdout",
     "output_type": "stream",
     "text": [
      "p\n"
     ]
    }
   ],
   "source": [
    "for i in \"python\":\n",
    "    break\n",
    "print(i)"
   ]
  },
  {
   "cell_type": "code",
   "execution_count": 11,
   "metadata": {},
   "outputs": [
    {
     "name": "stdout",
     "output_type": "stream",
     "text": [
      "h\n"
     ]
    }
   ],
   "source": [
    "for i in \"python\":\n",
    "    if i==\"h\":\n",
    "        break\n",
    "print(i)"
   ]
  },
  {
   "cell_type": "code",
   "execution_count": 12,
   "metadata": {},
   "outputs": [
    {
     "name": "stdout",
     "output_type": "stream",
     "text": [
      "p\n",
      "y\n",
      "t\n",
      "thanks\n"
     ]
    }
   ],
   "source": [
    "for i in \"python\":\n",
    "    if i==\"h\":\n",
    "        break\n",
    "    print(i)\n",
    "print(\"thanks\")"
   ]
  },
  {
   "cell_type": "code",
   "execution_count": 13,
   "metadata": {},
   "outputs": [
    {
     "name": "stdout",
     "output_type": "stream",
     "text": [
      "p\n",
      "y\n",
      "t\n",
      "o\n",
      "n\n",
      "thanks\n"
     ]
    }
   ],
   "source": [
    "for i in \"python\":\n",
    "    if i==\"h\":\n",
    "        continue\n",
    "    print(i)\n",
    "print(\"thanks\")"
   ]
  },
  {
   "cell_type": "code",
   "execution_count": 14,
   "metadata": {},
   "outputs": [
    {
     "name": "stdout",
     "output_type": "stream",
     "text": [
      "there is an even numbers..\n"
     ]
    }
   ],
   "source": [
    "# check whether given list conatins atleast one even number or not..\n",
    "l=[12,1,21,26,23,25,24]\n",
    "for i in l:\n",
    "    if i%2==0:\n",
    "        print(\"there is an even numbers..\")\n",
    "        break\n",
    "        \n"
   ]
  },
  {
   "cell_type": "code",
   "execution_count": 16,
   "metadata": {},
   "outputs": [
    {
     "name": "stdout",
     "output_type": "stream",
     "text": [
      "p\n",
      "y\n",
      "t\n",
      "h\n",
      "o\n",
      "n\n",
      "this is else block\n",
      "thanks\n"
     ]
    }
   ],
   "source": [
    "for i in \"python\":\n",
    "    print(i)\n",
    "else:\n",
    "    print(\"this is else block\")\n",
    "print(\"thanks\")"
   ]
  },
  {
   "cell_type": "code",
   "execution_count": 17,
   "metadata": {},
   "outputs": [
    {
     "name": "stdout",
     "output_type": "stream",
     "text": [
      "p\n",
      "thanks\n"
     ]
    }
   ],
   "source": [
    "for i in \"python\":\n",
    "    print(i)\n",
    "    break\n",
    "else:\n",
    "    print(\"this is else block\")\n",
    "print(\"thanks\")"
   ]
  },
  {
   "cell_type": "code",
   "execution_count": 18,
   "metadata": {},
   "outputs": [
    {
     "name": "stdout",
     "output_type": "stream",
     "text": [
      "p\n",
      "y\n",
      "t\n",
      "h\n",
      "o\n",
      "n\n",
      "thanks\n"
     ]
    }
   ],
   "source": [
    "for i in \"python\":\n",
    "    print(i)\n",
    "    if i==\"n\":\n",
    "        break\n",
    "else:\n",
    "    print(\"this is else block\")\n",
    "print(\"thanks\")"
   ]
  },
  {
   "cell_type": "code",
   "execution_count": 19,
   "metadata": {},
   "outputs": [
    {
     "name": "stdout",
     "output_type": "stream",
     "text": [
      "1\n",
      "21\n",
      "26\n",
      "there is an even numbers\n"
     ]
    }
   ],
   "source": [
    "# check whether given list conatins atleast one even number or not..\n",
    "l=[1,21,26,23,25,24]\n",
    "for i in l:\n",
    "    if i%2==0:\n",
    "        print(\"there is an even numbers\")\n",
    "        break\n",
    "else:\n",
    "    print(\"there is no even numbers\")\n",
    "    "
   ]
  },
  {
   "cell_type": "code",
   "execution_count": null,
   "metadata": {},
   "outputs": [],
   "source": [
    "# to check given list contains atleast one +ve number or not..\n"
   ]
  }
 ],
 "metadata": {
  "kernelspec": {
   "display_name": "Python 3",
   "language": "python",
   "name": "python3"
  },
  "language_info": {
   "codemirror_mode": {
    "name": "ipython",
    "version": 3
   },
   "file_extension": ".py",
   "mimetype": "text/x-python",
   "name": "python",
   "nbconvert_exporter": "python",
   "pygments_lexer": "ipython3",
   "version": "3.7.0"
  }
 },
 "nbformat": 4,
 "nbformat_minor": 2
}
