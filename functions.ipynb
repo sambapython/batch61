{
 "cells": [
  {
   "cell_type": "code",
   "execution_count": 1,
   "metadata": {},
   "outputs": [
    {
     "name": "stdout",
     "output_type": "stream",
     "text": [
      "welcome\n",
      "thanks\n"
     ]
    }
   ],
   "source": [
    "print(\"welcome\")\n",
    "# function definition\n",
    "def fun():\n",
    "    print(\"this is fun\")\n",
    "print(\"thanks\")"
   ]
  },
  {
   "cell_type": "code",
   "execution_count": 2,
   "metadata": {},
   "outputs": [
    {
     "name": "stdout",
     "output_type": "stream",
     "text": [
      "welcome\n",
      "thanks\n",
      "this is fun\n"
     ]
    }
   ],
   "source": [
    "print(\"welcome\")\n",
    "# function definition\n",
    "def fun():\n",
    "    print(\"this is fun\")\n",
    "print(\"thanks\")\n",
    "fun() # function call"
   ]
  },
  {
   "cell_type": "code",
   "execution_count": 3,
   "metadata": {},
   "outputs": [
    {
     "name": "stdout",
     "output_type": "stream",
     "text": [
      "welcome\n",
      "thanks\n",
      "this is fun\n",
      "this is fun\n",
      "this is fun\n",
      "this is fun\n"
     ]
    }
   ],
   "source": [
    "print(\"welcome\")\n",
    "# function definition\n",
    "def fun():\n",
    "    print(\"this is fun\")\n",
    "print(\"thanks\")\n",
    "fun() # function call\n",
    "fun()\n",
    "fun()\n",
    "fun()"
   ]
  },
  {
   "cell_type": "code",
   "execution_count": 4,
   "metadata": {},
   "outputs": [
    {
     "name": "stdout",
     "output_type": "stream",
     "text": [
      "welcome\n",
      "thanks\n",
      "x=10,y=20\n",
      "result= 30\n"
     ]
    }
   ],
   "source": [
    "print(\"welcome\")\n",
    "# function definition\n",
    "def fun(x,y): #(x,y are parameters)\n",
    "    print(f\"x={x},y={y}\")\n",
    "    z=x+y\n",
    "    print(\"result=\",z)\n",
    "print(\"thanks\")\n",
    "fun(10,20) # function call(10,20 are arguments)\n"
   ]
  },
  {
   "cell_type": "code",
   "execution_count": 6,
   "metadata": {},
   "outputs": [
    {
     "name": "stdout",
     "output_type": "stream",
     "text": [
      "welcome\n",
      "thanks\n",
      "********************\n",
      "x=10,y=20\n",
      "result= 30\n",
      "********************\n",
      "********************\n",
      "x=12.34,y=56.78\n",
      "result= 69.12\n",
      "********************\n",
      "********************\n",
      "x=100,y=200\n",
      "result= 300\n",
      "********************\n",
      "********************\n",
      "x=1000,y=2000\n",
      "result= 3000\n",
      "********************\n",
      "********************\n",
      "x=(1+2j),y=(3+4j)\n",
      "result= (4+6j)\n",
      "********************\n",
      "********************\n",
      "x=str1,y=str2\n",
      "result= str1str2\n",
      "********************\n"
     ]
    }
   ],
   "source": [
    "print(\"welcome\")\n",
    "# function definition\n",
    "def fun(x,y): #(x,y are parameters)\n",
    "    print(\"*\"*20)\n",
    "    print(f\"x={x},y={y}\")\n",
    "    z=x+y\n",
    "    print(\"result=\",z)\n",
    "    print(\"*\"*20)\n",
    "print(\"thanks\")\n",
    "fun(10,20) # function call(10,20 are arguments)\n",
    "fun(12.34,56.78)\n",
    "fun(100,200)\n",
    "fun(1000,2000)\n",
    "fun(1+2j,3+4j)\n",
    "fun(\"str1\",\"str2\")"
   ]
  },
  {
   "cell_type": "code",
   "execution_count": null,
   "metadata": {},
   "outputs": [],
   "source": [
    "# define four functions for add, sub, mul,div. call the functions with some values."
   ]
  },
  {
   "cell_type": "code",
   "execution_count": 1,
   "metadata": {},
   "outputs": [],
   "source": [
    "#write a order_sales_price() to calculate the order sales price  based on order cost, \n",
    "#delivery charges, tax, discount, profit.\n",
    "#\n",
    "# write a check_pincode functino to check the product can be deliverable to the given pincode or not."
   ]
  },
  {
   "cell_type": "code",
   "execution_count": 2,
   "metadata": {},
   "outputs": [
    {
     "name": "stdout",
     "output_type": "stream",
     "text": [
      "30\n"
     ]
    }
   ],
   "source": [
    "def add(x,y):\n",
    "    print(x+y)\n",
    "add(10,20)"
   ]
  },
  {
   "cell_type": "code",
   "execution_count": 3,
   "metadata": {},
   "outputs": [
    {
     "ename": "TypeError",
     "evalue": "add() takes 2 positional arguments but 3 were given",
     "output_type": "error",
     "traceback": [
      "\u001b[0;31m---------------------------------------------------------------------------\u001b[0m",
      "\u001b[0;31mTypeError\u001b[0m                                 Traceback (most recent call last)",
      "\u001b[0;32m<ipython-input-3-130f51d6ec0e>\u001b[0m in \u001b[0;36m<module>\u001b[0;34m()\u001b[0m\n\u001b[1;32m      1\u001b[0m \u001b[0;32mdef\u001b[0m \u001b[0madd\u001b[0m\u001b[0;34m(\u001b[0m\u001b[0mx\u001b[0m\u001b[0;34m,\u001b[0m\u001b[0my\u001b[0m\u001b[0;34m)\u001b[0m\u001b[0;34m:\u001b[0m\u001b[0;34m\u001b[0m\u001b[0m\n\u001b[1;32m      2\u001b[0m     \u001b[0mprint\u001b[0m\u001b[0;34m(\u001b[0m\u001b[0mx\u001b[0m\u001b[0;34m+\u001b[0m\u001b[0my\u001b[0m\u001b[0;34m)\u001b[0m\u001b[0;34m\u001b[0m\u001b[0m\n\u001b[0;32m----> 3\u001b[0;31m \u001b[0madd\u001b[0m\u001b[0;34m(\u001b[0m\u001b[0;36m10\u001b[0m\u001b[0;34m,\u001b[0m\u001b[0;36m20\u001b[0m\u001b[0;34m,\u001b[0m\u001b[0;36m30\u001b[0m\u001b[0;34m)\u001b[0m\u001b[0;34m\u001b[0m\u001b[0m\n\u001b[0m",
      "\u001b[0;31mTypeError\u001b[0m: add() takes 2 positional arguments but 3 were given"
     ]
    }
   ],
   "source": [
    "def add(x,y):\n",
    "    print(x+y)\n",
    "add(10,20,30)"
   ]
  },
  {
   "cell_type": "code",
   "execution_count": 4,
   "metadata": {},
   "outputs": [
    {
     "ename": "TypeError",
     "evalue": "add() missing 1 required positional argument: 'y'",
     "output_type": "error",
     "traceback": [
      "\u001b[0;31m---------------------------------------------------------------------------\u001b[0m",
      "\u001b[0;31mTypeError\u001b[0m                                 Traceback (most recent call last)",
      "\u001b[0;32m<ipython-input-4-b904da9d5100>\u001b[0m in \u001b[0;36m<module>\u001b[0;34m()\u001b[0m\n\u001b[1;32m      1\u001b[0m \u001b[0;32mdef\u001b[0m \u001b[0madd\u001b[0m\u001b[0;34m(\u001b[0m\u001b[0mx\u001b[0m\u001b[0;34m,\u001b[0m\u001b[0my\u001b[0m\u001b[0;34m)\u001b[0m\u001b[0;34m:\u001b[0m\u001b[0;34m\u001b[0m\u001b[0m\n\u001b[1;32m      2\u001b[0m     \u001b[0mprint\u001b[0m\u001b[0;34m(\u001b[0m\u001b[0mx\u001b[0m\u001b[0;34m+\u001b[0m\u001b[0my\u001b[0m\u001b[0;34m)\u001b[0m\u001b[0;34m\u001b[0m\u001b[0m\n\u001b[0;32m----> 3\u001b[0;31m \u001b[0madd\u001b[0m\u001b[0;34m(\u001b[0m\u001b[0;36m10\u001b[0m\u001b[0;34m)\u001b[0m\u001b[0;34m\u001b[0m\u001b[0m\n\u001b[0m",
      "\u001b[0;31mTypeError\u001b[0m: add() missing 1 required positional argument: 'y'"
     ]
    }
   ],
   "source": [
    "def add(x,y):\n",
    "    print(x+y)\n",
    "add(10)"
   ]
  },
  {
   "cell_type": "code",
   "execution_count": 5,
   "metadata": {},
   "outputs": [
    {
     "name": "stdout",
     "output_type": "stream",
     "text": [
      "a=10,b=20,c=30,d=40,e=50\n",
      "150\n"
     ]
    },
    {
     "ename": "TypeError",
     "evalue": "add() missing 4 required positional arguments: 'b', 'c', 'd', and 'e'",
     "output_type": "error",
     "traceback": [
      "\u001b[0;31m---------------------------------------------------------------------------\u001b[0m",
      "\u001b[0;31mTypeError\u001b[0m                                 Traceback (most recent call last)",
      "\u001b[0;32m<ipython-input-5-a42f688eed35>\u001b[0m in \u001b[0;36m<module>\u001b[0;34m()\u001b[0m\n\u001b[1;32m      4\u001b[0m     \u001b[0mprint\u001b[0m\u001b[0;34m(\u001b[0m\u001b[0mres\u001b[0m\u001b[0;34m)\u001b[0m\u001b[0;34m\u001b[0m\u001b[0m\n\u001b[1;32m      5\u001b[0m \u001b[0madd\u001b[0m\u001b[0;34m(\u001b[0m\u001b[0;36m10\u001b[0m\u001b[0;34m,\u001b[0m\u001b[0;36m20\u001b[0m\u001b[0;34m,\u001b[0m\u001b[0;36m30\u001b[0m\u001b[0;34m,\u001b[0m\u001b[0;36m40\u001b[0m\u001b[0;34m,\u001b[0m\u001b[0;36m50\u001b[0m\u001b[0;34m)\u001b[0m\u001b[0;34m\u001b[0m\u001b[0m\n\u001b[0;32m----> 6\u001b[0;31m \u001b[0madd\u001b[0m\u001b[0;34m(\u001b[0m\u001b[0;36m10\u001b[0m\u001b[0;34m)\u001b[0m\u001b[0;34m\u001b[0m\u001b[0m\n\u001b[0m\u001b[1;32m      7\u001b[0m \u001b[0madd\u001b[0m\u001b[0;34m(\u001b[0m\u001b[0;36m10\u001b[0m\u001b[0;34m,\u001b[0m\u001b[0;36m20\u001b[0m\u001b[0;34m)\u001b[0m\u001b[0;34m\u001b[0m\u001b[0m\n\u001b[1;32m      8\u001b[0m \u001b[0madd\u001b[0m\u001b[0;34m(\u001b[0m\u001b[0;36m10\u001b[0m\u001b[0;34m,\u001b[0m\u001b[0;36m20\u001b[0m\u001b[0;34m,\u001b[0m\u001b[0;36m30\u001b[0m\u001b[0;34m)\u001b[0m\u001b[0;34m\u001b[0m\u001b[0m\n",
      "\u001b[0;31mTypeError\u001b[0m: add() missing 4 required positional arguments: 'b', 'c', 'd', and 'e'"
     ]
    }
   ],
   "source": [
    "def add(a,b,c,d,e):\n",
    "    print(f\"a={a},b={b},c={c},d={d},e={e}\")\n",
    "    res=a+b+c+d+e\n",
    "    print(res)\n",
    "add(10,20,30,40,50)\n",
    "add(10)\n",
    "add(10,20)\n",
    "add(10,20,30)\n",
    "add(10,20,30,40)\n",
    "add(10,20,30,40,50)"
   ]
  },
  {
   "cell_type": "code",
   "execution_count": 6,
   "metadata": {},
   "outputs": [
    {
     "name": "stdout",
     "output_type": "stream",
     "text": [
      "a=10,b=20,c=30,d=40,e=50\n",
      "150\n",
      "a=10,b=0,c=0,d=0,e=0\n",
      "10\n",
      "a=10,b=20,c=0,d=0,e=0\n",
      "30\n",
      "a=10,b=20,c=30,d=0,e=0\n",
      "60\n",
      "a=10,b=20,c=30,d=40,e=0\n",
      "100\n",
      "a=10,b=20,c=30,d=40,e=50\n",
      "150\n"
     ]
    }
   ],
   "source": [
    "def add(a,b=0,c=0,d=0,e=0):\n",
    "    \"\"\"\n",
    "    a is a mandatory parameter: int\n",
    "    b,c,d,e are optional parameters: int\n",
    "    calcualting adition of given numbers\n",
    "    \"\"\"\n",
    "    print(f\"a={a},b={b},c={c},d={d},e={e}\")\n",
    "    res=a+b+c+d+e\n",
    "    print(res)\n",
    "add(10,20,30,40,50)\n",
    "add(10)\n",
    "add(10,20)\n",
    "add(10,20,30)\n",
    "add(10,20,30,40)\n",
    "add(10,20,30,40,50)"
   ]
  },
  {
   "cell_type": "code",
   "execution_count": 7,
   "metadata": {},
   "outputs": [
    {
     "ename": "TypeError",
     "evalue": "add() missing 1 required positional argument: 'a'",
     "output_type": "error",
     "traceback": [
      "\u001b[0;31m---------------------------------------------------------------------------\u001b[0m",
      "\u001b[0;31mTypeError\u001b[0m                                 Traceback (most recent call last)",
      "\u001b[0;32m<ipython-input-7-73b2375f53cf>\u001b[0m in \u001b[0;36m<module>\u001b[0;34m()\u001b[0m\n\u001b[1;32m      8\u001b[0m     \u001b[0mres\u001b[0m\u001b[0;34m=\u001b[0m\u001b[0ma\u001b[0m\u001b[0;34m+\u001b[0m\u001b[0mb\u001b[0m\u001b[0;34m+\u001b[0m\u001b[0mc\u001b[0m\u001b[0;34m+\u001b[0m\u001b[0md\u001b[0m\u001b[0;34m+\u001b[0m\u001b[0me\u001b[0m\u001b[0;34m\u001b[0m\u001b[0m\n\u001b[1;32m      9\u001b[0m     \u001b[0mprint\u001b[0m\u001b[0;34m(\u001b[0m\u001b[0mres\u001b[0m\u001b[0;34m)\u001b[0m\u001b[0;34m\u001b[0m\u001b[0m\n\u001b[0;32m---> 10\u001b[0;31m \u001b[0madd\u001b[0m\u001b[0;34m(\u001b[0m\u001b[0;34m)\u001b[0m\u001b[0;34m\u001b[0m\u001b[0m\n\u001b[0m",
      "\u001b[0;31mTypeError\u001b[0m: add() missing 1 required positional argument: 'a'"
     ]
    }
   ],
   "source": [
    "def add(a,b=0,c=0,d=0,e=0):\n",
    "    \"\"\"\n",
    "    a is a mandatory parameter: int\n",
    "    b,c,d,e are optional parameters: int\n",
    "    calcualting adition of given numbers\n",
    "    \"\"\"\n",
    "    print(f\"a={a},b={b},c={c},d={d},e={e}\")\n",
    "    res=a+b+c+d+e\n",
    "    print(res)\n",
    "add()"
   ]
  },
  {
   "cell_type": "code",
   "execution_count": 8,
   "metadata": {},
   "outputs": [
    {
     "ename": "TypeError",
     "evalue": "add() takes from 1 to 5 positional arguments but 6 were given",
     "output_type": "error",
     "traceback": [
      "\u001b[0;31m---------------------------------------------------------------------------\u001b[0m",
      "\u001b[0;31mTypeError\u001b[0m                                 Traceback (most recent call last)",
      "\u001b[0;32m<ipython-input-8-84754a0eb915>\u001b[0m in \u001b[0;36m<module>\u001b[0;34m()\u001b[0m\n\u001b[1;32m      8\u001b[0m     \u001b[0mres\u001b[0m\u001b[0;34m=\u001b[0m\u001b[0ma\u001b[0m\u001b[0;34m+\u001b[0m\u001b[0mb\u001b[0m\u001b[0;34m+\u001b[0m\u001b[0mc\u001b[0m\u001b[0;34m+\u001b[0m\u001b[0md\u001b[0m\u001b[0;34m+\u001b[0m\u001b[0me\u001b[0m\u001b[0;34m\u001b[0m\u001b[0m\n\u001b[1;32m      9\u001b[0m     \u001b[0mprint\u001b[0m\u001b[0;34m(\u001b[0m\u001b[0mres\u001b[0m\u001b[0;34m)\u001b[0m\u001b[0;34m\u001b[0m\u001b[0m\n\u001b[0;32m---> 10\u001b[0;31m \u001b[0madd\u001b[0m\u001b[0;34m(\u001b[0m\u001b[0;36m10\u001b[0m\u001b[0;34m,\u001b[0m\u001b[0;36m20\u001b[0m\u001b[0;34m,\u001b[0m\u001b[0;36m30\u001b[0m\u001b[0;34m,\u001b[0m\u001b[0;36m40\u001b[0m\u001b[0;34m,\u001b[0m\u001b[0;36m50\u001b[0m\u001b[0;34m,\u001b[0m\u001b[0;36m60\u001b[0m\u001b[0;34m)\u001b[0m\u001b[0;34m\u001b[0m\u001b[0m\n\u001b[0m",
      "\u001b[0;31mTypeError\u001b[0m: add() takes from 1 to 5 positional arguments but 6 were given"
     ]
    }
   ],
   "source": [
    "def add(a,b=0,c=0,d=0,e=0):\n",
    "    \"\"\"\n",
    "    a is a mandatory parameter: int\n",
    "    b,c,d,e are optional parameters: int\n",
    "    calcualting adition of given numbers\n",
    "    \"\"\"\n",
    "    print(f\"a={a},b={b},c={c},d={d},e={e}\")\n",
    "    res=a+b+c+d+e\n",
    "    print(res)\n",
    "add(10,20,30,40,50,60)"
   ]
  },
  {
   "cell_type": "code",
   "execution_count": 9,
   "metadata": {},
   "outputs": [
    {
     "name": "stdout",
     "output_type": "stream",
     "text": [
      "a=10,b=200,c=0,d=0,e=0\n",
      "210\n"
     ]
    }
   ],
   "source": [
    "def add(a,b=0,c=0,d=0,e=0):\n",
    "    \"\"\"\n",
    "    a is a mandatory parameter: int\n",
    "    b,c,d,e are optional parameters: int\n",
    "    calcualting adition of given numbers\n",
    "    \"\"\"\n",
    "    print(f\"a={a},b={b},c={c},d={d},e={e}\")\n",
    "    res=a+b+c+d+e\n",
    "    print(res)\n",
    "add(10,200)"
   ]
  },
  {
   "cell_type": "code",
   "execution_count": 10,
   "metadata": {},
   "outputs": [
    {
     "name": "stdout",
     "output_type": "stream",
     "text": [
      "a=10,b=0,c=0,d=200,e=0\n",
      "210\n"
     ]
    }
   ],
   "source": [
    "def add(a,b=0,c=0,d=0,e=0):\n",
    "    \"\"\"\n",
    "    a is a mandatory parameter: int\n",
    "    b,c,d,e are optional parameters: int\n",
    "    calcualting adition of given numbers\n",
    "    \"\"\"\n",
    "    print(f\"a={a},b={b},c={c},d={d},e={e}\")\n",
    "    res=a+b+c+d+e\n",
    "    print(res)\n",
    "add(10,0,0,200)"
   ]
  },
  {
   "cell_type": "code",
   "execution_count": 11,
   "metadata": {},
   "outputs": [],
   "source": [
    "import pandas as pd"
   ]
  },
  {
   "cell_type": "code",
   "execution_count": 12,
   "metadata": {},
   "outputs": [],
   "source": [
    "pd.read_csv?"
   ]
  },
  {
   "cell_type": "code",
   "execution_count": 14,
   "metadata": {},
   "outputs": [
    {
     "name": "stdout",
     "output_type": "stream",
     "text": [
      "a=10,b=200,c=0,d=0,e=0\n",
      "210\n",
      "a=10,b=0,c=0,d=200,e=0\n",
      "210\n"
     ]
    }
   ],
   "source": [
    "def add(a,b=0,c=0,d=0,e=0):\n",
    "    \"\"\"\n",
    "    a is a mandatory parameter: int\n",
    "    b,c,d,e are optional parameters: int\n",
    "    calcualting adition of given numbers\n",
    "    \"\"\"\n",
    "    print(f\"a={a},b={b},c={c},d={d},e={e}\")\n",
    "    res=a+b+c+d+e\n",
    "    print(res)\n",
    "add(10,200) # postional arguments\n",
    "add(10,d=200) # keyword arguments"
   ]
  },
  {
   "cell_type": "code",
   "execution_count": 15,
   "metadata": {},
   "outputs": [],
   "source": [
    "# define a person function with name and pan as a mandatory parameters cell,adhar,address as a default parameters.\n",
    "def person(name, pan, cell=None, adhar=None, address=\"\"):\n",
    "    pass\n",
    "person(\"jay\",\"sdfd1231\")\n",
    "person(name=\"vedha\",pan=\"sdfdsf\",address=\"devender nagar\")\n",
    "person(pan=\"sdfsdf\",name=\"sai\",cell=\"9676622023\")"
   ]
  },
  {
   "cell_type": "code",
   "execution_count": 16,
   "metadata": {},
   "outputs": [
    {
     "name": "stdout",
     "output_type": "stream",
     "text": [
      "a=10,b=0,c=0,d=200,e=0\n",
      "210\n"
     ]
    }
   ],
   "source": [
    "def add(a,b=0,c=0,d=0,e=0):\n",
    "    print(f\"a={a},b={b},c={c},d={d},e={e}\")\n",
    "    res=a+b+c+d+e\n",
    "    print(res)\n",
    "add(10,d=200)"
   ]
  },
  {
   "cell_type": "code",
   "execution_count": 17,
   "metadata": {},
   "outputs": [
    {
     "name": "stdout",
     "output_type": "stream",
     "text": [
      "a=30,b=10,c=0,d=200,e=0\n",
      "240\n"
     ]
    }
   ],
   "source": [
    "def add(a,b=0,c=0,d=0,e=0):\n",
    "    print(f\"a={a},b={b},c={c},d={d},e={e}\")\n",
    "    res=a+b+c+d+e\n",
    "    print(res)\n",
    "add(b=10,d=200,a=30)"
   ]
  },
  {
   "cell_type": "code",
   "execution_count": 18,
   "metadata": {},
   "outputs": [
    {
     "ename": "TypeError",
     "evalue": "add() missing 1 required positional argument: 'a'",
     "output_type": "error",
     "traceback": [
      "\u001b[0;31m---------------------------------------------------------------------------\u001b[0m",
      "\u001b[0;31mTypeError\u001b[0m                                 Traceback (most recent call last)",
      "\u001b[0;32m<ipython-input-18-e1a20bff525a>\u001b[0m in \u001b[0;36m<module>\u001b[0;34m()\u001b[0m\n\u001b[1;32m      3\u001b[0m     \u001b[0mres\u001b[0m\u001b[0;34m=\u001b[0m\u001b[0ma\u001b[0m\u001b[0;34m+\u001b[0m\u001b[0mb\u001b[0m\u001b[0;34m+\u001b[0m\u001b[0mc\u001b[0m\u001b[0;34m+\u001b[0m\u001b[0md\u001b[0m\u001b[0;34m+\u001b[0m\u001b[0me\u001b[0m\u001b[0;34m\u001b[0m\u001b[0m\n\u001b[1;32m      4\u001b[0m     \u001b[0mprint\u001b[0m\u001b[0;34m(\u001b[0m\u001b[0mres\u001b[0m\u001b[0;34m)\u001b[0m\u001b[0;34m\u001b[0m\u001b[0m\n\u001b[0;32m----> 5\u001b[0;31m \u001b[0madd\u001b[0m\u001b[0;34m(\u001b[0m\u001b[0mb\u001b[0m\u001b[0;34m=\u001b[0m\u001b[0;36m10\u001b[0m\u001b[0;34m,\u001b[0m\u001b[0md\u001b[0m\u001b[0;34m=\u001b[0m\u001b[0;36m200\u001b[0m\u001b[0;34m)\u001b[0m\u001b[0;34m\u001b[0m\u001b[0m\n\u001b[0m",
      "\u001b[0;31mTypeError\u001b[0m: add() missing 1 required positional argument: 'a'"
     ]
    }
   ],
   "source": [
    "def add(a,b=0,c=0,d=0,e=0):\n",
    "    print(f\"a={a},b={b},c={c},d={d},e={e}\")\n",
    "    res=a+b+c+d+e\n",
    "    print(res)\n",
    "add(b=10,d=200)"
   ]
  },
  {
   "cell_type": "code",
   "execution_count": 19,
   "metadata": {},
   "outputs": [
    {
     "ename": "TypeError",
     "evalue": "add() got multiple values for argument 'a'",
     "output_type": "error",
     "traceback": [
      "\u001b[0;31m---------------------------------------------------------------------------\u001b[0m",
      "\u001b[0;31mTypeError\u001b[0m                                 Traceback (most recent call last)",
      "\u001b[0;32m<ipython-input-19-cb46323e9bb9>\u001b[0m in \u001b[0;36m<module>\u001b[0;34m()\u001b[0m\n\u001b[1;32m      3\u001b[0m     \u001b[0mres\u001b[0m\u001b[0;34m=\u001b[0m\u001b[0ma\u001b[0m\u001b[0;34m+\u001b[0m\u001b[0mb\u001b[0m\u001b[0;34m+\u001b[0m\u001b[0mc\u001b[0m\u001b[0;34m+\u001b[0m\u001b[0md\u001b[0m\u001b[0;34m+\u001b[0m\u001b[0me\u001b[0m\u001b[0;34m\u001b[0m\u001b[0m\n\u001b[1;32m      4\u001b[0m     \u001b[0mprint\u001b[0m\u001b[0;34m(\u001b[0m\u001b[0mres\u001b[0m\u001b[0;34m)\u001b[0m\u001b[0;34m\u001b[0m\u001b[0m\n\u001b[0;32m----> 5\u001b[0;31m \u001b[0madd\u001b[0m\u001b[0;34m(\u001b[0m\u001b[0;36m10\u001b[0m\u001b[0;34m,\u001b[0m\u001b[0;36m20\u001b[0m\u001b[0;34m,\u001b[0m\u001b[0;36m30\u001b[0m\u001b[0;34m,\u001b[0m\u001b[0ma\u001b[0m\u001b[0;34m=\u001b[0m\u001b[0;36m200\u001b[0m\u001b[0;34m)\u001b[0m\u001b[0;34m\u001b[0m\u001b[0m\n\u001b[0m",
      "\u001b[0;31mTypeError\u001b[0m: add() got multiple values for argument 'a'"
     ]
    }
   ],
   "source": [
    "def add(a,b=0,c=0,d=0,e=0):\n",
    "    print(f\"a={a},b={b},c={c},d={d},e={e}\")\n",
    "    res=a+b+c+d+e\n",
    "    print(res)\n",
    "add(10,20,30,a=200)"
   ]
  },
  {
   "cell_type": "code",
   "execution_count": 20,
   "metadata": {},
   "outputs": [
    {
     "name": "stdout",
     "output_type": "stream",
     "text": [
      "() <class 'tuple'>\n",
      "(10, 20, 30, 4) <class 'tuple'>\n",
      "(10,) <class 'tuple'>\n",
      "(10, 20) <class 'tuple'>\n",
      "(10, 20, 30, 40, 50, 650, 60, 70, 870, 80, 80, 560, 70, 50, 604, 5, 3) <class 'tuple'>\n"
     ]
    }
   ],
   "source": [
    "def add(*k): #*args , Can pass any number os positional arguments\n",
    "    print(k, type(k))\n",
    "add()\n",
    "add(10,20,30,4)\n",
    "add(10)\n",
    "add(10,20)\n",
    "add(10,20,30,40,50,650,60,70,870,80,80,560,70,50,604,5,3)"
   ]
  },
  {
   "cell_type": "code",
   "execution_count": 21,
   "metadata": {},
   "outputs": [
    {
     "ename": "TypeError",
     "evalue": "add() got an unexpected keyword argument 'a'",
     "output_type": "error",
     "traceback": [
      "\u001b[0;31m---------------------------------------------------------------------------\u001b[0m",
      "\u001b[0;31mTypeError\u001b[0m                                 Traceback (most recent call last)",
      "\u001b[0;32m<ipython-input-21-4ea38594ef5d>\u001b[0m in \u001b[0;36m<module>\u001b[0;34m()\u001b[0m\n\u001b[1;32m      1\u001b[0m \u001b[0;32mdef\u001b[0m \u001b[0madd\u001b[0m\u001b[0;34m(\u001b[0m\u001b[0;34m*\u001b[0m\u001b[0mk\u001b[0m\u001b[0;34m)\u001b[0m\u001b[0;34m:\u001b[0m \u001b[0;31m#*args , Can pass any number os positional arguments\u001b[0m\u001b[0;34m\u001b[0m\u001b[0m\n\u001b[1;32m      2\u001b[0m     \u001b[0mprint\u001b[0m\u001b[0;34m(\u001b[0m\u001b[0mk\u001b[0m\u001b[0;34m,\u001b[0m \u001b[0mtype\u001b[0m\u001b[0;34m(\u001b[0m\u001b[0mk\u001b[0m\u001b[0;34m)\u001b[0m\u001b[0;34m)\u001b[0m\u001b[0;34m\u001b[0m\u001b[0m\n\u001b[0;32m----> 3\u001b[0;31m \u001b[0madd\u001b[0m\u001b[0;34m(\u001b[0m\u001b[0ma\u001b[0m\u001b[0;34m=\u001b[0m\u001b[0;36m10\u001b[0m\u001b[0;34m,\u001b[0m\u001b[0mb\u001b[0m\u001b[0;34m=\u001b[0m\u001b[0;36m20\u001b[0m\u001b[0;34m,\u001b[0m\u001b[0mc\u001b[0m\u001b[0;34m=\u001b[0m\u001b[0;36m30\u001b[0m\u001b[0;34m,\u001b[0m\u001b[0md\u001b[0m\u001b[0;34m=\u001b[0m\u001b[0;36m40\u001b[0m\u001b[0;34m)\u001b[0m\u001b[0;34m\u001b[0m\u001b[0m\n\u001b[0m",
      "\u001b[0;31mTypeError\u001b[0m: add() got an unexpected keyword argument 'a'"
     ]
    }
   ],
   "source": [
    "def add(*k): #*args , Can pass any number os positional arguments\n",
    "    print(k, type(k))\n",
    "add(a=10,b=20,c=30,d=40)"
   ]
  },
  {
   "cell_type": "code",
   "execution_count": 22,
   "metadata": {},
   "outputs": [
    {
     "name": "stdout",
     "output_type": "stream",
     "text": [
      "{'a': 10, 'b': 20, 'c': 30, 'd': 40} <class 'dict'>\n",
      "{} <class 'dict'>\n",
      "{'x': 10, 'y': 20, 'z': 30} <class 'dict'>\n"
     ]
    }
   ],
   "source": [
    "def add(**k): #**kwargs , Can pass any number os keyword arguments\n",
    "    print(k, type(k))\n",
    "add(a=10,b=20,c=30,d=40)\n",
    "add()\n",
    "add(x=10,y=20,z=30)"
   ]
  },
  {
   "cell_type": "code",
   "execution_count": 24,
   "metadata": {},
   "outputs": [
    {
     "name": "stdout",
     "output_type": "stream",
     "text": [
      "a=100,b=0,c=0,k=(),kw={}\n",
      "a=100,b=200,c=300,k=(400, 50, 60),kw={}\n"
     ]
    }
   ],
   "source": [
    "def fun(a,b=0,c=0,*k, **kw):\n",
    "    print(f\"a={a},b={b},c={c},k={k},kw={kw}\")\n",
    "fun(100)\n",
    "fun(100,200,300,400,50,60)"
   ]
  },
  {
   "cell_type": "code",
   "execution_count": 25,
   "metadata": {},
   "outputs": [
    {
     "name": "stdout",
     "output_type": "stream",
     "text": [
      "a=100,b=0,c=0,k=(),kw={}\n",
      "a=100,b=200,c=300,k=(400, 500, 600),kw={'x': 50, 'y': 70, 'z': 60}\n"
     ]
    }
   ],
   "source": [
    "def fun(a,b=0,c=0,*k, **kw):\n",
    "    print(f\"a={a},b={b},c={c},k={k},kw={kw}\")\n",
    "fun(100)\n",
    "fun(100,200,300,400,500,600,x=50,y=70,z=60)"
   ]
  },
  {
   "cell_type": "code",
   "execution_count": 26,
   "metadata": {},
   "outputs": [
    {
     "ename": "SyntaxError",
     "evalue": "positional argument follows keyword argument (<ipython-input-26-9fa90d8e4be7>, line 4)",
     "output_type": "error",
     "traceback": [
      "\u001b[0;36m  File \u001b[0;32m\"<ipython-input-26-9fa90d8e4be7>\"\u001b[0;36m, line \u001b[0;32m4\u001b[0m\n\u001b[0;31m    fun(100,200,300,400,500,600,x=50,y=70,z=60,10)\u001b[0m\n\u001b[0m                                              ^\u001b[0m\n\u001b[0;31mSyntaxError\u001b[0m\u001b[0;31m:\u001b[0m positional argument follows keyword argument\n"
     ]
    }
   ],
   "source": [
    "def fun(a,b=0,c=0,*k, **kw):\n",
    "    print(f\"a={a},b={b},c={c},k={k},kw={kw}\")\n",
    "fun(100)\n",
    "fun(100,200,300,400,500,600,x=50,y=70,z=60,10)"
   ]
  },
  {
   "cell_type": "code",
   "execution_count": 27,
   "metadata": {},
   "outputs": [
    {
     "ename": "SyntaxError",
     "evalue": "invalid syntax (<ipython-input-27-60d84c96cead>, line 1)",
     "output_type": "error",
     "traceback": [
      "\u001b[0;36m  File \u001b[0;32m\"<ipython-input-27-60d84c96cead>\"\u001b[0;36m, line \u001b[0;32m1\u001b[0m\n\u001b[0;31m    def fun(a,b=0,c=0,*k, **kw,x,y):\u001b[0m\n\u001b[0m                               ^\u001b[0m\n\u001b[0;31mSyntaxError\u001b[0m\u001b[0;31m:\u001b[0m invalid syntax\n"
     ]
    }
   ],
   "source": [
    "def fun(a,b=0,c=0,*k, **kw,x,y):\n",
    "    print(f\"a={a},b={b},c={c},k={k},kw={kw}\")\n",
    "fun(100)\n",
    "fun(100,200,300,400,500,600,x=50,y=70,z=60)"
   ]
  },
  {
   "cell_type": "code",
   "execution_count": 28,
   "metadata": {},
   "outputs": [
    {
     "ename": "SyntaxError",
     "evalue": "non-default argument follows default argument (<ipython-input-28-f197c66e208a>, line 1)",
     "output_type": "error",
     "traceback": [
      "\u001b[0;36m  File \u001b[0;32m\"<ipython-input-28-f197c66e208a>\"\u001b[0;36m, line \u001b[0;32m1\u001b[0m\n\u001b[0;31m    def fun(a,b=0,c=0,x,*k, **kw):\u001b[0m\n\u001b[0m           ^\u001b[0m\n\u001b[0;31mSyntaxError\u001b[0m\u001b[0;31m:\u001b[0m non-default argument follows default argument\n"
     ]
    }
   ],
   "source": [
    "def fun(a,b=0,c=0,x,*k, **kw):\n",
    "    print(f\"a={a},b={b},c={c},k={k},kw={kw}\")\n",
    "fun(100)\n",
    "fun(100,200,300,400,500,600,x=50,y=70,z=60)"
   ]
  },
  {
   "cell_type": "code",
   "execution_count": null,
   "metadata": {},
   "outputs": [],
   "source": []
  }
 ],
 "metadata": {
  "kernelspec": {
   "display_name": "Python 3",
   "language": "python",
   "name": "python3"
  },
  "language_info": {
   "codemirror_mode": {
    "name": "ipython",
    "version": 3
   },
   "file_extension": ".py",
   "mimetype": "text/x-python",
   "name": "python",
   "nbconvert_exporter": "python",
   "pygments_lexer": "ipython3",
   "version": "3.7.0"
  }
 },
 "nbformat": 4,
 "nbformat_minor": 2
}
