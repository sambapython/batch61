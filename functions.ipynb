{
 "cells": [
  {
   "cell_type": "code",
   "execution_count": 1,
   "metadata": {},
   "outputs": [
    {
     "name": "stdout",
     "output_type": "stream",
     "text": [
      "welcome\n",
      "thanks\n"
     ]
    }
   ],
   "source": [
    "print(\"welcome\")\n",
    "# function definition\n",
    "def fun():\n",
    "    print(\"this is fun\")\n",
    "print(\"thanks\")"
   ]
  },
  {
   "cell_type": "code",
   "execution_count": 2,
   "metadata": {},
   "outputs": [
    {
     "name": "stdout",
     "output_type": "stream",
     "text": [
      "welcome\n",
      "thanks\n",
      "this is fun\n"
     ]
    }
   ],
   "source": [
    "print(\"welcome\")\n",
    "# function definition\n",
    "def fun():\n",
    "    print(\"this is fun\")\n",
    "print(\"thanks\")\n",
    "fun() # function call"
   ]
  },
  {
   "cell_type": "code",
   "execution_count": 3,
   "metadata": {},
   "outputs": [
    {
     "name": "stdout",
     "output_type": "stream",
     "text": [
      "welcome\n",
      "thanks\n",
      "this is fun\n",
      "this is fun\n",
      "this is fun\n",
      "this is fun\n"
     ]
    }
   ],
   "source": [
    "print(\"welcome\")\n",
    "# function definition\n",
    "def fun():\n",
    "    print(\"this is fun\")\n",
    "print(\"thanks\")\n",
    "fun() # function call\n",
    "fun()\n",
    "fun()\n",
    "fun()"
   ]
  },
  {
   "cell_type": "code",
   "execution_count": 4,
   "metadata": {},
   "outputs": [
    {
     "name": "stdout",
     "output_type": "stream",
     "text": [
      "welcome\n",
      "thanks\n",
      "x=10,y=20\n",
      "result= 30\n"
     ]
    }
   ],
   "source": [
    "print(\"welcome\")\n",
    "# function definition\n",
    "def fun(x,y): #(x,y are parameters)\n",
    "    print(f\"x={x},y={y}\")\n",
    "    z=x+y\n",
    "    print(\"result=\",z)\n",
    "print(\"thanks\")\n",
    "fun(10,20) # function call(10,20 are arguments)\n"
   ]
  },
  {
   "cell_type": "code",
   "execution_count": 6,
   "metadata": {},
   "outputs": [
    {
     "name": "stdout",
     "output_type": "stream",
     "text": [
      "welcome\n",
      "thanks\n",
      "********************\n",
      "x=10,y=20\n",
      "result= 30\n",
      "********************\n",
      "********************\n",
      "x=12.34,y=56.78\n",
      "result= 69.12\n",
      "********************\n",
      "********************\n",
      "x=100,y=200\n",
      "result= 300\n",
      "********************\n",
      "********************\n",
      "x=1000,y=2000\n",
      "result= 3000\n",
      "********************\n",
      "********************\n",
      "x=(1+2j),y=(3+4j)\n",
      "result= (4+6j)\n",
      "********************\n",
      "********************\n",
      "x=str1,y=str2\n",
      "result= str1str2\n",
      "********************\n"
     ]
    }
   ],
   "source": [
    "print(\"welcome\")\n",
    "# function definition\n",
    "def fun(x,y): #(x,y are parameters)\n",
    "    print(\"*\"*20)\n",
    "    print(f\"x={x},y={y}\")\n",
    "    z=x+y\n",
    "    print(\"result=\",z)\n",
    "    print(\"*\"*20)\n",
    "print(\"thanks\")\n",
    "fun(10,20) # function call(10,20 are arguments)\n",
    "fun(12.34,56.78)\n",
    "fun(100,200)\n",
    "fun(1000,2000)\n",
    "fun(1+2j,3+4j)\n",
    "fun(\"str1\",\"str2\")"
   ]
  },
  {
   "cell_type": "code",
   "execution_count": null,
   "metadata": {},
   "outputs": [],
   "source": [
    "# define four functions for add, sub, mul,div. call the functions with some values."
   ]
  },
  {
   "cell_type": "code",
   "execution_count": null,
   "metadata": {},
   "outputs": [],
   "source": [
    "#write a order_sales_price() to calculate the order sales price  based on order cost, \n",
    "#delivery charges, tax, discount, profit.\n",
    "#\n",
    "# write a check_pincode functino to check the product can be deliverable to the given pincode or not."
   ]
  }
 ],
 "metadata": {
  "kernelspec": {
   "display_name": "Python 3",
   "language": "python",
   "name": "python3"
  },
  "language_info": {
   "codemirror_mode": {
    "name": "ipython",
    "version": 3
   },
   "file_extension": ".py",
   "mimetype": "text/x-python",
   "name": "python",
   "nbconvert_exporter": "python",
   "pygments_lexer": "ipython3",
   "version": "3.7.0"
  }
 },
 "nbformat": 4,
 "nbformat_minor": 2
}
