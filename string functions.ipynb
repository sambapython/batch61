{
 "cells": [
  {
   "cell_type": "code",
   "execution_count": 1,
   "metadata": {},
   "outputs": [],
   "source": [
    "s=\"python program\"\n"
   ]
  },
  {
   "cell_type": "code",
   "execution_count": 2,
   "metadata": {},
   "outputs": [
    {
     "name": "stdout",
     "output_type": "stream",
     "text": [
      "python program\n",
      "python programlanguage\n"
     ]
    }
   ],
   "source": [
    "s1=s+\"language\"\n",
    "print(s)\n",
    "print(s1)"
   ]
  },
  {
   "cell_type": "code",
   "execution_count": 3,
   "metadata": {},
   "outputs": [
    {
     "ename": "TypeError",
     "evalue": "can only concatenate str (not \"int\") to str",
     "output_type": "error",
     "traceback": [
      "\u001b[0;31m---------------------------------------------------------------------------\u001b[0m",
      "\u001b[0;31mTypeError\u001b[0m                                 Traceback (most recent call last)",
      "\u001b[0;32m<ipython-input-3-e4e3e07c3f8e>\u001b[0m in \u001b[0;36m<module>\u001b[0;34m()\u001b[0m\n\u001b[0;32m----> 1\u001b[0;31m \u001b[0ms1\u001b[0m\u001b[0;34m=\u001b[0m\u001b[0ms\u001b[0m\u001b[0;34m+\u001b[0m\u001b[0;36m12\u001b[0m\u001b[0;34m\u001b[0m\u001b[0m\n\u001b[0m\u001b[1;32m      2\u001b[0m \u001b[0mprint\u001b[0m\u001b[0;34m(\u001b[0m\u001b[0ms\u001b[0m\u001b[0;34m)\u001b[0m\u001b[0;34m\u001b[0m\u001b[0m\n\u001b[1;32m      3\u001b[0m \u001b[0mprint\u001b[0m\u001b[0;34m(\u001b[0m\u001b[0ms1\u001b[0m\u001b[0;34m)\u001b[0m\u001b[0;34m\u001b[0m\u001b[0m\n",
      "\u001b[0;31mTypeError\u001b[0m: can only concatenate str (not \"int\") to str"
     ]
    }
   ],
   "source": [
    "s1=s+12\n",
    "print(s)\n",
    "print(s1)"
   ]
  },
  {
   "cell_type": "code",
   "execution_count": 4,
   "metadata": {},
   "outputs": [
    {
     "name": "stdout",
     "output_type": "stream",
     "text": [
      "python program\n",
      "python program12\n"
     ]
    }
   ],
   "source": [
    "s1=s+str(12)\n",
    "print(s)\n",
    "print(s1)"
   ]
  },
  {
   "cell_type": "code",
   "execution_count": 5,
   "metadata": {},
   "outputs": [
    {
     "name": "stdout",
     "output_type": "stream",
     "text": [
      "python program\n",
      "python programpython programpython programpython programpython programpython programpython programpython programpython programpython programpython programpython program\n"
     ]
    }
   ],
   "source": [
    "s1=s*12\n",
    "print(s)\n",
    "print(s1)"
   ]
  },
  {
   "cell_type": "code",
   "execution_count": 6,
   "metadata": {},
   "outputs": [],
   "source": [
    "s=\"python program\""
   ]
  },
  {
   "cell_type": "code",
   "execution_count": 7,
   "metadata": {},
   "outputs": [
    {
     "data": {
      "text/plain": [
       "'PYTHON PROGRAM'"
      ]
     },
     "execution_count": 7,
     "metadata": {},
     "output_type": "execute_result"
    }
   ],
   "source": [
    "s.upper()"
   ]
  },
  {
   "cell_type": "code",
   "execution_count": 8,
   "metadata": {},
   "outputs": [
    {
     "data": {
      "text/plain": [
       "'python program'"
      ]
     },
     "execution_count": 8,
     "metadata": {},
     "output_type": "execute_result"
    }
   ],
   "source": [
    "s.lower()"
   ]
  },
  {
   "cell_type": "code",
   "execution_count": 9,
   "metadata": {},
   "outputs": [
    {
     "data": {
      "text/plain": [
       "['python', 'program']"
      ]
     },
     "execution_count": 9,
     "metadata": {},
     "output_type": "execute_result"
    }
   ],
   "source": [
    "s.split()"
   ]
  },
  {
   "cell_type": "code",
   "execution_count": 10,
   "metadata": {},
   "outputs": [
    {
     "data": {
      "text/plain": [
       "'Python program'"
      ]
     },
     "execution_count": 10,
     "metadata": {},
     "output_type": "execute_result"
    }
   ],
   "source": [
    "s=\"python program\"\n",
    "s.capitalize()"
   ]
  },
  {
   "cell_type": "code",
   "execution_count": 11,
   "metadata": {},
   "outputs": [
    {
     "name": "stdout",
     "output_type": "stream",
     "text": [
      "Python program\n",
      "Python Program\n"
     ]
    }
   ],
   "source": [
    "s=\"python program\"\n",
    "print(s.capitalize())\n",
    "print(s.title())"
   ]
  },
  {
   "cell_type": "code",
   "execution_count": 12,
   "metadata": {},
   "outputs": [
    {
     "name": "stdout",
     "output_type": "stream",
     "text": [
      "Python program\n",
      "Python Program\n"
     ]
    }
   ],
   "source": [
    "s=\"python proGRAM\"\n",
    "print(s.capitalize())\n",
    "print(s.title())"
   ]
  },
  {
   "cell_type": "code",
   "execution_count": 13,
   "metadata": {},
   "outputs": [
    {
     "name": "stdout",
     "output_type": "stream",
     "text": [
      "1pyt$hon p1rogram\n",
      "1Pyt$Hon P1Rogram\n"
     ]
    }
   ],
   "source": [
    "s=\"1pyt$hon p1roGRAM\"\n",
    "print(s.capitalize())\n",
    "print(s.title())"
   ]
  },
  {
   "cell_type": "code",
   "execution_count": 14,
   "metadata": {},
   "outputs": [
    {
     "name": "stdout",
     "output_type": "stream",
     "text": [
      "\n",
      "\n"
     ]
    }
   ],
   "source": [
    "s=\"\"\n",
    "print(s.capitalize())\n",
    "print(s.title())"
   ]
  },
  {
   "cell_type": "code",
   "execution_count": 15,
   "metadata": {},
   "outputs": [
    {
     "name": "stdout",
     "output_type": "stream",
     "text": [
      "మీరు ఏలా ఉన్నారు ?\n",
      "మీరు ఏలా ఉన్నారు ?\n"
     ]
    }
   ],
   "source": [
    "s=\"మీరు ఏలా ఉన్నారు ?\"\n",
    "print(s.capitalize())\n",
    "print(s.title())"
   ]
  },
  {
   "cell_type": "code",
   "execution_count": 16,
   "metadata": {},
   "outputs": [
    {
     "data": {
      "text/plain": [
       "False"
      ]
     },
     "execution_count": 16,
     "metadata": {},
     "output_type": "execute_result"
    }
   ],
   "source": [
    "\"python\"==\"PYthon\""
   ]
  },
  {
   "cell_type": "code",
   "execution_count": 18,
   "metadata": {},
   "outputs": [
    {
     "data": {
      "text/plain": [
       "True"
      ]
     },
     "execution_count": 18,
     "metadata": {},
     "output_type": "execute_result"
    }
   ],
   "source": [
    "\"python\".lower()==\"PYthon\".lower()"
   ]
  },
  {
   "cell_type": "code",
   "execution_count": 19,
   "metadata": {},
   "outputs": [
    {
     "data": {
      "text/plain": [
       "True"
      ]
     },
     "execution_count": 19,
     "metadata": {},
     "output_type": "execute_result"
    }
   ],
   "source": [
    "\"python\".upper()==\"PYthon\".upper()"
   ]
  },
  {
   "cell_type": "code",
   "execution_count": 20,
   "metadata": {},
   "outputs": [
    {
     "data": {
      "text/plain": [
       "True"
      ]
     },
     "execution_count": 20,
     "metadata": {},
     "output_type": "execute_result"
    }
   ],
   "source": [
    "\"python\".casefold()==\"PYthon\".casefold()"
   ]
  },
  {
   "cell_type": "code",
   "execution_count": 21,
   "metadata": {},
   "outputs": [
    {
     "data": {
      "text/plain": [
       "'python'"
      ]
     },
     "execution_count": 21,
     "metadata": {},
     "output_type": "execute_result"
    }
   ],
   "source": [
    "\"PYthon\".casefold()"
   ]
  },
  {
   "cell_type": "code",
   "execution_count": 22,
   "metadata": {},
   "outputs": [
    {
     "data": {
      "text/plain": [
       "14"
      ]
     },
     "execution_count": 22,
     "metadata": {},
     "output_type": "execute_result"
    }
   ],
   "source": [
    "s=\"python program\"\n",
    "len(s)"
   ]
  },
  {
   "cell_type": "code",
   "execution_count": 23,
   "metadata": {},
   "outputs": [
    {
     "name": "stdout",
     "output_type": "stream",
     "text": [
      "                                           python program                                           \n",
      "python program                                                                                      \n",
      "                                                                                      python program\n"
     ]
    }
   ],
   "source": [
    "s=\"python program\"\n",
    "print(s.center(100))\n",
    "print(s.ljust(100))\n",
    "print(s.rjust(100))"
   ]
  },
  {
   "cell_type": "code",
   "execution_count": 24,
   "metadata": {},
   "outputs": [
    {
     "name": "stdout",
     "output_type": "stream",
     "text": [
      "*******************************************python program*******************************************\n",
      "python program**************************************************************************************\n",
      "**************************************************************************************python program\n"
     ]
    }
   ],
   "source": [
    "s=\"python program\"\n",
    "print(s.center(100,\"*\"))\n",
    "print(s.ljust(100,\"*\"))\n",
    "print(s.rjust(100,\"*\"))"
   ]
  },
  {
   "cell_type": "code",
   "execution_count": 25,
   "metadata": {},
   "outputs": [
    {
     "name": "stdout",
     "output_type": "stream",
     "text": [
      "python program\n",
      "python program\n",
      "python program\n"
     ]
    }
   ],
   "source": [
    "s=\"python program\"\n",
    "print(s.center(-100,\"*\"))\n",
    "print(s.ljust(-100,\"*\"))\n",
    "print(s.rjust(-100,\"*\"))"
   ]
  },
  {
   "cell_type": "code",
   "execution_count": 26,
   "metadata": {},
   "outputs": [
    {
     "name": "stdout",
     "output_type": "stream",
     "text": [
      "python program\n",
      "python program\n",
      "python program\n"
     ]
    }
   ],
   "source": [
    "s=\"python program\"\n",
    "print(s.center(10,\"*\"))\n",
    "print(s.ljust(10,\"*\"))\n",
    "print(s.rjust(10,\"*\"))"
   ]
  },
  {
   "cell_type": "code",
   "execution_count": 27,
   "metadata": {},
   "outputs": [
    {
     "name": "stdout",
     "output_type": "stream",
     "text": [
      "python program\n",
      "python program\n",
      "python program\n"
     ]
    }
   ],
   "source": [
    "s=\"python program\"\n",
    "print(s.center(0,\"*\"))\n",
    "print(s.ljust(0,\"*\"))\n",
    "print(s.rjust(0,\"*\"))"
   ]
  },
  {
   "cell_type": "code",
   "execution_count": 28,
   "metadata": {},
   "outputs": [
    {
     "name": "stdout",
     "output_type": "stream",
     "text": [
      "**********\n",
      "**********\n",
      "**********\n"
     ]
    }
   ],
   "source": [
    "s=\"\"\n",
    "print(s.center(10,\"*\"))\n",
    "print(s.ljust(10,\"*\"))\n",
    "print(s.rjust(10,\"*\"))"
   ]
  },
  {
   "cell_type": "code",
   "execution_count": 29,
   "metadata": {},
   "outputs": [
    {
     "data": {
      "text/plain": [
       "3"
      ]
     },
     "execution_count": 29,
     "metadata": {},
     "output_type": "execute_result"
    }
   ],
   "source": [
    "s=\"apple;banana;grape;apple;orange;banana;apple;grape\"\n",
    "s.count(\"apple\")"
   ]
  },
  {
   "cell_type": "code",
   "execution_count": 30,
   "metadata": {},
   "outputs": [
    {
     "data": {
      "text/plain": [
       "0"
      ]
     },
     "execution_count": 30,
     "metadata": {},
     "output_type": "execute_result"
    }
   ],
   "source": [
    "s=\"apple;banana;grape;apple;orange;banana;apple;grape\"\n",
    "s.count(\"APPLE\")"
   ]
  },
  {
   "cell_type": "code",
   "execution_count": 31,
   "metadata": {},
   "outputs": [
    {
     "data": {
      "text/plain": [
       "0"
      ]
     },
     "execution_count": 31,
     "metadata": {},
     "output_type": "execute_result"
    }
   ],
   "source": [
    "s=\"apple;banana;grape;apple;orange;banana;apple;grape\"\n",
    "sub = \"APPLE\"\n",
    "s.count(sub)"
   ]
  },
  {
   "cell_type": "code",
   "execution_count": 32,
   "metadata": {},
   "outputs": [
    {
     "data": {
      "text/plain": [
       "2"
      ]
     },
     "execution_count": 32,
     "metadata": {},
     "output_type": "execute_result"
    }
   ],
   "source": [
    "s=\"apple;banana;grape;apple;orange;banana;apple;grape\"\n",
    "sub = \"grape\"\n",
    "s.count(sub)"
   ]
  },
  {
   "cell_type": "code",
   "execution_count": 33,
   "metadata": {},
   "outputs": [
    {
     "data": {
      "text/plain": [
       "0"
      ]
     },
     "execution_count": 33,
     "metadata": {},
     "output_type": "execute_result"
    }
   ],
   "source": [
    "s=\"apple;banana;grape;apple;orange;banana;apple;grape\"\n",
    "sub = \"grae\"\n",
    "s.count(sub)"
   ]
  },
  {
   "cell_type": "code",
   "execution_count": 34,
   "metadata": {},
   "outputs": [
    {
     "data": {
      "text/plain": [
       "0"
      ]
     },
     "execution_count": 34,
     "metadata": {},
     "output_type": "execute_result"
    }
   ],
   "source": [
    "s=\"apple;banana;grape;apple;orange;banana;apple;grape\"\n",
    "sub = \"GRape\"\n",
    "s.count(sub)"
   ]
  },
  {
   "cell_type": "code",
   "execution_count": 35,
   "metadata": {},
   "outputs": [
    {
     "data": {
      "text/plain": [
       "2"
      ]
     },
     "execution_count": 35,
     "metadata": {},
     "output_type": "execute_result"
    }
   ],
   "source": [
    "s=\"apple;banana;grape;apple;orange;banana;apple;grape\"\n",
    "sub = \"GRape\"\n",
    "s=s.casefold()\n",
    "sub=sub.casefold()\n",
    "s.count(sub)"
   ]
  },
  {
   "cell_type": "code",
   "execution_count": 36,
   "metadata": {},
   "outputs": [
    {
     "data": {
      "text/plain": [
       "12"
      ]
     },
     "execution_count": 36,
     "metadata": {},
     "output_type": "execute_result"
    }
   ],
   "source": [
    "s=\"apple;banana;grape;apple;orange;banana;apple;grape\"\n",
    "sub = \"a\"\n",
    "s=s.casefold()\n",
    "sub=sub.casefold()\n",
    "s.count(sub)"
   ]
  },
  {
   "cell_type": "code",
   "execution_count": 37,
   "metadata": {},
   "outputs": [
    {
     "data": {
      "text/plain": [
       "0"
      ]
     },
     "execution_count": 37,
     "metadata": {},
     "output_type": "execute_result"
    }
   ],
   "source": [
    "s=\"apple;banana;grape;apple;orange;banana;apple;grape\"\n",
    "sub = \" \"\n",
    "s=s.casefold()\n",
    "sub=sub.casefold()\n",
    "s.count(sub)"
   ]
  },
  {
   "cell_type": "code",
   "execution_count": 38,
   "metadata": {},
   "outputs": [
    {
     "data": {
      "text/plain": [
       "51"
      ]
     },
     "execution_count": 38,
     "metadata": {},
     "output_type": "execute_result"
    }
   ],
   "source": [
    "s=\"apple;banana;grape;apple;orange;banana;apple;grape\"\n",
    "sub = \"\"\n",
    "s=s.casefold()\n",
    "sub=sub.casefold()\n",
    "s.count(sub)"
   ]
  },
  {
   "cell_type": "code",
   "execution_count": 39,
   "metadata": {},
   "outputs": [
    {
     "data": {
      "text/plain": [
       "50"
      ]
     },
     "execution_count": 39,
     "metadata": {},
     "output_type": "execute_result"
    }
   ],
   "source": [
    "len(s)"
   ]
  },
  {
   "cell_type": "code",
   "execution_count": 40,
   "metadata": {},
   "outputs": [
    {
     "data": {
      "text/plain": [
       "'APPLE;banana;grape;APPLE;orange;banana;APPLE;grape'"
      ]
     },
     "execution_count": 40,
     "metadata": {},
     "output_type": "execute_result"
    }
   ],
   "source": [
    "s=\"apple;banana;grape;apple;orange;banana;apple;grape\"\n",
    "s.replace(\"apple\",\"APPLE\")"
   ]
  },
  {
   "cell_type": "code",
   "execution_count": 41,
   "metadata": {},
   "outputs": [
    {
     "data": {
      "text/plain": [
       "';banana;grape;;orange;banana;;grape'"
      ]
     },
     "execution_count": 41,
     "metadata": {},
     "output_type": "execute_result"
    }
   ],
   "source": [
    "s=\"apple;banana;grape;apple;orange;banana;apple;grape\"\n",
    "s.replace(\"apple\",\"\")"
   ]
  },
  {
   "cell_type": "code",
   "execution_count": 42,
   "metadata": {},
   "outputs": [
    {
     "data": {
      "text/plain": [
       "'APPLEaAPPLEpAPPLEpAPPLElAPPLEeAPPLE;APPLEbAPPLEaAPPLEnAPPLEaAPPLEnAPPLEaAPPLE;APPLEgAPPLErAPPLEaAPPLEpAPPLEeAPPLE;APPLEaAPPLEpAPPLEpAPPLElAPPLEeAPPLE;APPLEoAPPLErAPPLEaAPPLEnAPPLEgAPPLEeAPPLE;APPLEbAPPLEaAPPLEnAPPLEaAPPLEnAPPLEaAPPLE;APPLEaAPPLEpAPPLEpAPPLElAPPLEeAPPLE;APPLEgAPPLErAPPLEaAPPLEpAPPLEeAPPLE'"
      ]
     },
     "execution_count": 42,
     "metadata": {},
     "output_type": "execute_result"
    }
   ],
   "source": [
    "s=\"apple;banana;grape;apple;orange;banana;apple;grape\"\n",
    "s.replace(\"\",\"APPLE\")"
   ]
  },
  {
   "cell_type": "code",
   "execution_count": 43,
   "metadata": {},
   "outputs": [
    {
     "name": "stdout",
     "output_type": "stream",
     "text": [
      "Enter substring to replace with APPLE:apple\n"
     ]
    },
    {
     "data": {
      "text/plain": [
       "'APPLE;banana;grape;APPLE;orange;banana;APPLE;grape'"
      ]
     },
     "execution_count": 43,
     "metadata": {},
     "output_type": "execute_result"
    }
   ],
   "source": [
    "s=\"apple;banana;grape;apple;orange;banana;apple;grape\"\n",
    "sub=input(\"Enter substring to replace with APPLE:\")\n",
    "s.replace(sub,\"APPLE\")"
   ]
  },
  {
   "cell_type": "code",
   "execution_count": 44,
   "metadata": {},
   "outputs": [
    {
     "name": "stdout",
     "output_type": "stream",
     "text": [
      "Enter substring to replace with APPLE:\n"
     ]
    },
    {
     "data": {
      "text/plain": [
       "'APPLEaAPPLEpAPPLEpAPPLElAPPLEeAPPLE;APPLEbAPPLEaAPPLEnAPPLEaAPPLEnAPPLEaAPPLE;APPLEgAPPLErAPPLEaAPPLEpAPPLEeAPPLE;APPLEaAPPLEpAPPLEpAPPLElAPPLEeAPPLE;APPLEoAPPLErAPPLEaAPPLEnAPPLEgAPPLEeAPPLE;APPLEbAPPLEaAPPLEnAPPLEaAPPLEnAPPLEaAPPLE;APPLEaAPPLEpAPPLEpAPPLElAPPLEeAPPLE;APPLEgAPPLErAPPLEaAPPLEpAPPLEeAPPLE'"
      ]
     },
     "execution_count": 44,
     "metadata": {},
     "output_type": "execute_result"
    }
   ],
   "source": [
    "s=\"apple;banana;grape;apple;orange;banana;apple;grape\"\n",
    "sub=input(\"Enter substring to replace with APPLE:\")\n",
    "s.replace(sub,\"APPLE\")"
   ]
  },
  {
   "cell_type": "code",
   "execution_count": 45,
   "metadata": {},
   "outputs": [
    {
     "name": "stdout",
     "output_type": "stream",
     "text": [
      "Enter substring to replace with APPLE:\n",
      "invalid input\n"
     ]
    }
   ],
   "source": [
    "s=\"apple;banana;grape;apple;orange;banana;apple;grape\"\n",
    "sub=input(\"Enter substring to replace with APPLE:\")\n",
    "if sub:\n",
    "    s.replace(sub,\"APPLE\")\n",
    "else:\n",
    "    print(\"invalid input\")"
   ]
  },
  {
   "cell_type": "code",
   "execution_count": 46,
   "metadata": {},
   "outputs": [
    {
     "name": "stdout",
     "output_type": "stream",
     "text": [
      "Enter substring to replace with APPLE:\n",
      "apple;banana;grape;apple;orange;banana;apple;grape\n"
     ]
    }
   ],
   "source": [
    "s=\"apple;banana;grape;apple;orange;banana;apple;grape\"\n",
    "sub=input(\"Enter substring to replace with APPLE:\")\n",
    "if sub:\n",
    "    s.replace(sub,\"APPLE\")\n",
    "else:\n",
    "    print(s)"
   ]
  },
  {
   "cell_type": "code",
   "execution_count": 48,
   "metadata": {},
   "outputs": [
    {
     "name": "stdout",
     "output_type": "stream",
     "text": [
      "Enter substring to replace with APPLE:appLE\n",
      "apple;banana;grape;apple;orange;banana;apple;grape\n"
     ]
    }
   ],
   "source": [
    "s=\"apple;banana;grape;apple;orange;banana;apple;grape\"\n",
    "sub=input(\"Enter substring to replace with APPLE:\")\n",
    "if sub:\n",
    "    print(s.replace(sub,\"APPLE\"))\n",
    "else:\n",
    "    print(s)"
   ]
  },
  {
   "cell_type": "code",
   "execution_count": 49,
   "metadata": {},
   "outputs": [
    {
     "name": "stdout",
     "output_type": "stream",
     "text": [
      "Enter substring to replace with APPLE:aPPLe\n",
      "APPLE;banana;grape;APPLE;orange;banana;APPLE;grape\n"
     ]
    }
   ],
   "source": [
    "s=\"apple;banana;grape;apple;orange;banana;apple;grape\"\n",
    "sub=input(\"Enter substring to replace with APPLE:\")\n",
    "if sub:\n",
    "    s=s.casefold()\n",
    "    sub=sub.casefold()\n",
    "    print(s.replace(sub,\"APPLE\"))\n",
    "else:\n",
    "    print(s)"
   ]
  },
  {
   "cell_type": "code",
   "execution_count": 50,
   "metadata": {},
   "outputs": [
    {
     "data": {
      "text/plain": [
       "'APPLE;banana;grape;APPLE;orange;banana;APPLE;grapeAPPLE;APPLE'"
      ]
     },
     "execution_count": 50,
     "metadata": {},
     "output_type": "execute_result"
    }
   ],
   "source": [
    "s=\"apple;banana;grape;apple;orange;banana;apple;grapeapple;apple\"\n",
    "s.replace(\"apple\",\"APPLE\")"
   ]
  },
  {
   "cell_type": "code",
   "execution_count": 51,
   "metadata": {},
   "outputs": [
    {
     "data": {
      "text/plain": [
       "'APPLE;banana;grape;APPLE;orange;banana;apple;grapeapple;apple'"
      ]
     },
     "execution_count": 51,
     "metadata": {},
     "output_type": "execute_result"
    }
   ],
   "source": [
    "s=\"apple;banana;grape;apple;orange;banana;apple;grapeapple;apple\"\n",
    "s.replace(\"apple\",\"APPLE\",2)"
   ]
  },
  {
   "cell_type": "code",
   "execution_count": 52,
   "metadata": {},
   "outputs": [
    {
     "data": {
      "text/plain": [
       "'APPLE;banana;grape;APPLE;orange;banana;APPLE;grapeAPPLE;APPLE'"
      ]
     },
     "execution_count": 52,
     "metadata": {},
     "output_type": "execute_result"
    }
   ],
   "source": [
    "s=\"apple;banana;grape;apple;orange;banana;apple;grapeapple;apple\"\n",
    "s.replace(\"apple\",\"APPLE\",-2)"
   ]
  },
  {
   "cell_type": "code",
   "execution_count": 53,
   "metadata": {},
   "outputs": [
    {
     "name": "stdout",
     "output_type": "stream",
     "text": [
      "apple;banana;grape;apple;orange;banana;apple;grapeAPPLE;APPLE\n"
     ]
    }
   ],
   "source": [
    "# replace last to occurances of apple with APPLE\n",
    "s=\"apple;banana;grape;apple;orange;banana;apple;grapeapple;apple\"\n",
    "s=\"apple;banana;grape;apple;orange;banana;apple;grapeAPPLE;APPLE\"\n",
    "print(s)"
   ]
  },
  {
   "cell_type": "code",
   "execution_count": 55,
   "metadata": {},
   "outputs": [
    {
     "name": "stdout",
     "output_type": "stream",
     "text": [
      "['apple', 'banana', 'grape', 'apple', 'orange', 'banana', 'apple', 'grapeapple', 'apple']\n"
     ]
    }
   ],
   "source": [
    "# replace last to occurances of apple with APPLE\n",
    "s=\"apple;banana;grape;apple;orange;banana;apple;grapeapple;apple\"\n",
    "print(s.split(\";\"))"
   ]
  },
  {
   "cell_type": "code",
   "execution_count": 56,
   "metadata": {},
   "outputs": [
    {
     "name": "stdout",
     "output_type": "stream",
     "text": [
      "['apple;banana;grape;apple;orange;banana;apple;grapeapple;apple']\n"
     ]
    }
   ],
   "source": [
    "# replace last to occurances of apple with APPLE\n",
    "s=\"apple;banana;grape;apple;orange;banana;apple;grapeapple;apple\"\n",
    "print(s.split())"
   ]
  },
  {
   "cell_type": "code",
   "execution_count": 57,
   "metadata": {},
   "outputs": [
    {
     "name": "stdout",
     "output_type": "stream",
     "text": [
      "a\n"
     ]
    }
   ],
   "source": [
    "s=\"apple;banana;grape;apple;orange;banana;apple;grapeapple;apple\"\n",
    "for i in s:\n",
    "    print(i)\n",
    "    break"
   ]
  },
  {
   "cell_type": "code",
   "execution_count": 60,
   "metadata": {},
   "outputs": [
    {
     "name": "stdout",
     "output_type": "stream",
     "text": [
      "apple\n",
      "banana\n",
      "grape\n",
      "apple\n",
      "orange\n",
      "banana\n",
      "apple\n",
      "grapeapple\n",
      "apple\n"
     ]
    }
   ],
   "source": [
    "s=\"apple;banana;grape;apple;orange;banana;apple;grapeapple;apple\"\n",
    "for i in s.split(\";\"):\n",
    "    print(i)\n"
   ]
  },
  {
   "cell_type": "code",
   "execution_count": 61,
   "metadata": {},
   "outputs": [
    {
     "name": "stdout",
     "output_type": "stream",
     "text": [
      "['apple', 'banana', 'grape', 'apple', 'orange', 'banana', 'apple', 'grapeapple', 'apple']\n",
      "['apple', 'banana', 'grape', 'apple', 'orange', 'banana', 'apple', 'grapeapple', 'apple']\n",
      "('apple', ';', 'banana;grape;apple;orange;banana;apple;grapeapple;apple')\n",
      "('apple;banana;grape;apple;orange;banana;apple;grapeapple', ';', 'apple')\n"
     ]
    }
   ],
   "source": [
    "s=\"apple;banana;grape;apple;orange;banana;apple;grapeapple;apple\"\n",
    "print(s.split(\";\"))\n",
    "print(s.rsplit(\";\"))\n",
    "print(s.partition(\";\"))\n",
    "print(s.rpartition(\";\"))"
   ]
  },
  {
   "cell_type": "code",
   "execution_count": 62,
   "metadata": {},
   "outputs": [
    {
     "name": "stdout",
     "output_type": "stream",
     "text": [
      "['apple', 'banana', 'grape', 'apple', 'orange', 'banana', 'apple', 'grapeapple', 'apple']\n",
      "['apple', 'banana', 'grape', 'apple', 'orange', 'banana', 'apple', 'grapeapple', 'apple']\n"
     ]
    }
   ],
   "source": [
    "s=\"apple;banana;grape;apple;orange;banana;apple;grapeapple;apple\"\n",
    "print(s.split(\";\"))\n",
    "print(s.rsplit(\";\"))"
   ]
  },
  {
   "cell_type": "code",
   "execution_count": 63,
   "metadata": {},
   "outputs": [
    {
     "name": "stdout",
     "output_type": "stream",
     "text": [
      "['apple', 'banana', 'grape', 'apple;orange;banana;apple;grapeapple;apple']\n",
      "['apple;banana;grape;apple;orange;banana', 'apple', 'grapeapple', 'apple']\n"
     ]
    }
   ],
   "source": [
    "s=\"apple;banana;grape;apple;orange;banana;apple;grapeapple;apple\"\n",
    "print(s.split(\";\",3))\n",
    "print(s.rsplit(\";\",3))"
   ]
  },
  {
   "cell_type": "code",
   "execution_count": 64,
   "metadata": {},
   "outputs": [
    {
     "name": "stdout",
     "output_type": "stream",
     "text": [
      "applebananagrapeappleorangebananaapplegrapeappleapple\n"
     ]
    }
   ],
   "source": [
    "l = ['apple', 'banana', 'grape', 'apple', 'orange', 'banana', 'apple', 'grapeapple', 'apple']\n",
    "s=\"\"\n",
    "for i in l:\n",
    "    s=s+i\n",
    "print(s)"
   ]
  },
  {
   "cell_type": "code",
   "execution_count": 65,
   "metadata": {},
   "outputs": [
    {
     "name": "stdout",
     "output_type": "stream",
     "text": [
      "applebananagrapeappleorangebananaapplegrapeappleapple\n"
     ]
    }
   ],
   "source": [
    "l = ['apple', 'banana', 'grape', 'apple', 'orange', 'banana', 'apple', 'grapeapple', 'apple']\n",
    "s=\"\".join(l)\n",
    "print(s)"
   ]
  },
  {
   "cell_type": "code",
   "execution_count": 66,
   "metadata": {},
   "outputs": [
    {
     "name": "stdout",
     "output_type": "stream",
     "text": [
      "apple:banana:grape:apple:orange:banana:apple:grapeapple:apple\n"
     ]
    }
   ],
   "source": [
    "l = ['apple', 'banana', 'grape', 'apple', 'orange', 'banana', 'apple', 'grapeapple', 'apple']\n",
    "s=\":\".join(l)\n",
    "print(s)"
   ]
  },
  {
   "cell_type": "code",
   "execution_count": 67,
   "metadata": {},
   "outputs": [
    {
     "name": "stdout",
     "output_type": "stream",
     "text": [
      "['apple', 'banana', 'grape', 'apple', 'orange', 'banana', 'apple', 'grapeapple', 'apple']\n"
     ]
    }
   ],
   "source": [
    "s=\"apple;banana;grape;apple;orange;banana;apple;grapeapple;apple\"\n",
    "l=s.split(\";\")\n",
    "print(l)"
   ]
  },
  {
   "cell_type": "code",
   "execution_count": 68,
   "metadata": {},
   "outputs": [
    {
     "name": "stdout",
     "output_type": "stream",
     "text": [
      "['apple;', 'banana;', 'grape;', 'apple;', 'orange;', 'banana;', 'apple;', 'grapeapple;', 'apple']\n"
     ]
    }
   ],
   "source": [
    "s=\"apple;banana;grape;apple;orange;banana;apple;grapeapple;apple\"\n",
    "s=s.replace(\";\",\";:\")\n",
    "l=s.split(\":\")\n",
    "print(l)"
   ]
  },
  {
   "cell_type": "code",
   "execution_count": 70,
   "metadata": {},
   "outputs": [
    {
     "name": "stdout",
     "output_type": "stream",
     "text": [
      "['apple', 'banana', 'grape', 'apple', 'orange', 'banana', 'apple', 'grapeapple', 'apple']\n"
     ]
    }
   ],
   "source": [
    "s=\"apple;banana;grape;apple;orange;banana;apple;grapeapple;apple\"\n",
    "l=s.split(\";\")\n",
    "print(l)"
   ]
  },
  {
   "cell_type": "code",
   "execution_count": 71,
   "metadata": {},
   "outputs": [
    {
     "name": "stdout",
     "output_type": "stream",
     "text": [
      "applebananagrapeappleorangebananaapplegrapeappleapple\n"
     ]
    }
   ],
   "source": [
    "s=\"apple;banana;grape;apple;orange;banana;apple;grapeapple;apple\"\n",
    "l=s.split(\";\")\n",
    "s=\"\".join(l)\n",
    "print(s)"
   ]
  },
  {
   "cell_type": "code",
   "execution_count": 72,
   "metadata": {},
   "outputs": [
    {
     "name": "stdout",
     "output_type": "stream",
     "text": [
      "apple:banana:grape:apple:orange:banana:apple:grapeapple:apple\n"
     ]
    }
   ],
   "source": [
    "s=\"apple;banana;grape;apple;orange;banana;apple;grapeapple;apple\"\n",
    "l=s.split(\";\")\n",
    "s=\":\".join(l)\n",
    "print(s)"
   ]
  },
  {
   "cell_type": "code",
   "execution_count": null,
   "metadata": {},
   "outputs": [],
   "source": []
  }
 ],
 "metadata": {
  "kernelspec": {
   "display_name": "Python 3",
   "language": "python",
   "name": "python3"
  },
  "language_info": {
   "codemirror_mode": {
    "name": "ipython",
    "version": 3
   },
   "file_extension": ".py",
   "mimetype": "text/x-python",
   "name": "python",
   "nbconvert_exporter": "python",
   "pygments_lexer": "ipython3",
   "version": "3.7.0"
  }
 },
 "nbformat": 4,
 "nbformat_minor": 2
}
