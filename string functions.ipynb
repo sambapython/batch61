{
 "cells": [
  {
   "cell_type": "code",
   "execution_count": 1,
   "metadata": {},
   "outputs": [],
   "source": [
    "s=\"python program\"\n"
   ]
  },
  {
   "cell_type": "code",
   "execution_count": 2,
   "metadata": {},
   "outputs": [
    {
     "name": "stdout",
     "output_type": "stream",
     "text": [
      "python program\n",
      "python programlanguage\n"
     ]
    }
   ],
   "source": [
    "s1=s+\"language\"\n",
    "print(s)\n",
    "print(s1)"
   ]
  },
  {
   "cell_type": "code",
   "execution_count": 3,
   "metadata": {},
   "outputs": [
    {
     "ename": "TypeError",
     "evalue": "can only concatenate str (not \"int\") to str",
     "output_type": "error",
     "traceback": [
      "\u001b[0;31m---------------------------------------------------------------------------\u001b[0m",
      "\u001b[0;31mTypeError\u001b[0m                                 Traceback (most recent call last)",
      "\u001b[0;32m<ipython-input-3-e4e3e07c3f8e>\u001b[0m in \u001b[0;36m<module>\u001b[0;34m()\u001b[0m\n\u001b[0;32m----> 1\u001b[0;31m \u001b[0ms1\u001b[0m\u001b[0;34m=\u001b[0m\u001b[0ms\u001b[0m\u001b[0;34m+\u001b[0m\u001b[0;36m12\u001b[0m\u001b[0;34m\u001b[0m\u001b[0m\n\u001b[0m\u001b[1;32m      2\u001b[0m \u001b[0mprint\u001b[0m\u001b[0;34m(\u001b[0m\u001b[0ms\u001b[0m\u001b[0;34m)\u001b[0m\u001b[0;34m\u001b[0m\u001b[0m\n\u001b[1;32m      3\u001b[0m \u001b[0mprint\u001b[0m\u001b[0;34m(\u001b[0m\u001b[0ms1\u001b[0m\u001b[0;34m)\u001b[0m\u001b[0;34m\u001b[0m\u001b[0m\n",
      "\u001b[0;31mTypeError\u001b[0m: can only concatenate str (not \"int\") to str"
     ]
    }
   ],
   "source": [
    "s1=s+12\n",
    "print(s)\n",
    "print(s1)"
   ]
  },
  {
   "cell_type": "code",
   "execution_count": 4,
   "metadata": {},
   "outputs": [
    {
     "name": "stdout",
     "output_type": "stream",
     "text": [
      "python program\n",
      "python program12\n"
     ]
    }
   ],
   "source": [
    "s1=s+str(12)\n",
    "print(s)\n",
    "print(s1)"
   ]
  },
  {
   "cell_type": "code",
   "execution_count": 5,
   "metadata": {},
   "outputs": [
    {
     "name": "stdout",
     "output_type": "stream",
     "text": [
      "python program\n",
      "python programpython programpython programpython programpython programpython programpython programpython programpython programpython programpython programpython program\n"
     ]
    }
   ],
   "source": [
    "s1=s*12\n",
    "print(s)\n",
    "print(s1)"
   ]
  },
  {
   "cell_type": "code",
   "execution_count": 6,
   "metadata": {},
   "outputs": [],
   "source": [
    "s=\"python program\""
   ]
  },
  {
   "cell_type": "code",
   "execution_count": 7,
   "metadata": {},
   "outputs": [
    {
     "data": {
      "text/plain": [
       "'PYTHON PROGRAM'"
      ]
     },
     "execution_count": 7,
     "metadata": {},
     "output_type": "execute_result"
    }
   ],
   "source": [
    "s.upper()"
   ]
  },
  {
   "cell_type": "code",
   "execution_count": 8,
   "metadata": {},
   "outputs": [
    {
     "data": {
      "text/plain": [
       "'python program'"
      ]
     },
     "execution_count": 8,
     "metadata": {},
     "output_type": "execute_result"
    }
   ],
   "source": [
    "s.lower()"
   ]
  },
  {
   "cell_type": "code",
   "execution_count": 9,
   "metadata": {},
   "outputs": [
    {
     "data": {
      "text/plain": [
       "['python', 'program']"
      ]
     },
     "execution_count": 9,
     "metadata": {},
     "output_type": "execute_result"
    }
   ],
   "source": [
    "s.split()"
   ]
  },
  {
   "cell_type": "code",
   "execution_count": 10,
   "metadata": {},
   "outputs": [
    {
     "data": {
      "text/plain": [
       "'Python program'"
      ]
     },
     "execution_count": 10,
     "metadata": {},
     "output_type": "execute_result"
    }
   ],
   "source": [
    "s=\"python program\"\n",
    "s.capitalize()"
   ]
  },
  {
   "cell_type": "code",
   "execution_count": 11,
   "metadata": {},
   "outputs": [
    {
     "name": "stdout",
     "output_type": "stream",
     "text": [
      "Python program\n",
      "Python Program\n"
     ]
    }
   ],
   "source": [
    "s=\"python program\"\n",
    "print(s.capitalize())\n",
    "print(s.title())"
   ]
  },
  {
   "cell_type": "code",
   "execution_count": 12,
   "metadata": {},
   "outputs": [
    {
     "name": "stdout",
     "output_type": "stream",
     "text": [
      "Python program\n",
      "Python Program\n"
     ]
    }
   ],
   "source": [
    "s=\"python proGRAM\"\n",
    "print(s.capitalize())\n",
    "print(s.title())"
   ]
  },
  {
   "cell_type": "code",
   "execution_count": 13,
   "metadata": {},
   "outputs": [
    {
     "name": "stdout",
     "output_type": "stream",
     "text": [
      "1pyt$hon p1rogram\n",
      "1Pyt$Hon P1Rogram\n"
     ]
    }
   ],
   "source": [
    "s=\"1pyt$hon p1roGRAM\"\n",
    "print(s.capitalize())\n",
    "print(s.title())"
   ]
  },
  {
   "cell_type": "code",
   "execution_count": 14,
   "metadata": {},
   "outputs": [
    {
     "name": "stdout",
     "output_type": "stream",
     "text": [
      "\n",
      "\n"
     ]
    }
   ],
   "source": [
    "s=\"\"\n",
    "print(s.capitalize())\n",
    "print(s.title())"
   ]
  },
  {
   "cell_type": "code",
   "execution_count": 15,
   "metadata": {},
   "outputs": [
    {
     "name": "stdout",
     "output_type": "stream",
     "text": [
      "మీరు ఏలా ఉన్నారు ?\n",
      "మీరు ఏలా ఉన్నారు ?\n"
     ]
    }
   ],
   "source": [
    "s=\"మీరు ఏలా ఉన్నారు ?\"\n",
    "print(s.capitalize())\n",
    "print(s.title())"
   ]
  },
  {
   "cell_type": "code",
   "execution_count": 16,
   "metadata": {},
   "outputs": [
    {
     "data": {
      "text/plain": [
       "False"
      ]
     },
     "execution_count": 16,
     "metadata": {},
     "output_type": "execute_result"
    }
   ],
   "source": [
    "\"python\"==\"PYthon\""
   ]
  },
  {
   "cell_type": "code",
   "execution_count": 18,
   "metadata": {},
   "outputs": [
    {
     "data": {
      "text/plain": [
       "True"
      ]
     },
     "execution_count": 18,
     "metadata": {},
     "output_type": "execute_result"
    }
   ],
   "source": [
    "\"python\".lower()==\"PYthon\".lower()"
   ]
  },
  {
   "cell_type": "code",
   "execution_count": 19,
   "metadata": {},
   "outputs": [
    {
     "data": {
      "text/plain": [
       "True"
      ]
     },
     "execution_count": 19,
     "metadata": {},
     "output_type": "execute_result"
    }
   ],
   "source": [
    "\"python\".upper()==\"PYthon\".upper()"
   ]
  },
  {
   "cell_type": "code",
   "execution_count": 20,
   "metadata": {},
   "outputs": [
    {
     "data": {
      "text/plain": [
       "True"
      ]
     },
     "execution_count": 20,
     "metadata": {},
     "output_type": "execute_result"
    }
   ],
   "source": [
    "\"python\".casefold()==\"PYthon\".casefold()"
   ]
  },
  {
   "cell_type": "code",
   "execution_count": 21,
   "metadata": {},
   "outputs": [
    {
     "data": {
      "text/plain": [
       "'python'"
      ]
     },
     "execution_count": 21,
     "metadata": {},
     "output_type": "execute_result"
    }
   ],
   "source": [
    "\"PYthon\".casefold()"
   ]
  },
  {
   "cell_type": "code",
   "execution_count": 22,
   "metadata": {},
   "outputs": [
    {
     "data": {
      "text/plain": [
       "14"
      ]
     },
     "execution_count": 22,
     "metadata": {},
     "output_type": "execute_result"
    }
   ],
   "source": [
    "s=\"python program\"\n",
    "len(s)"
   ]
  },
  {
   "cell_type": "code",
   "execution_count": 23,
   "metadata": {},
   "outputs": [
    {
     "name": "stdout",
     "output_type": "stream",
     "text": [
      "                                           python program                                           \n",
      "python program                                                                                      \n",
      "                                                                                      python program\n"
     ]
    }
   ],
   "source": [
    "s=\"python program\"\n",
    "print(s.center(100))\n",
    "print(s.ljust(100))\n",
    "print(s.rjust(100))"
   ]
  },
  {
   "cell_type": "code",
   "execution_count": 24,
   "metadata": {},
   "outputs": [
    {
     "name": "stdout",
     "output_type": "stream",
     "text": [
      "*******************************************python program*******************************************\n",
      "python program**************************************************************************************\n",
      "**************************************************************************************python program\n"
     ]
    }
   ],
   "source": [
    "s=\"python program\"\n",
    "print(s.center(100,\"*\"))\n",
    "print(s.ljust(100,\"*\"))\n",
    "print(s.rjust(100,\"*\"))"
   ]
  },
  {
   "cell_type": "code",
   "execution_count": 25,
   "metadata": {},
   "outputs": [
    {
     "name": "stdout",
     "output_type": "stream",
     "text": [
      "python program\n",
      "python program\n",
      "python program\n"
     ]
    }
   ],
   "source": [
    "s=\"python program\"\n",
    "print(s.center(-100,\"*\"))\n",
    "print(s.ljust(-100,\"*\"))\n",
    "print(s.rjust(-100,\"*\"))"
   ]
  },
  {
   "cell_type": "code",
   "execution_count": 26,
   "metadata": {},
   "outputs": [
    {
     "name": "stdout",
     "output_type": "stream",
     "text": [
      "python program\n",
      "python program\n",
      "python program\n"
     ]
    }
   ],
   "source": [
    "s=\"python program\"\n",
    "print(s.center(10,\"*\"))\n",
    "print(s.ljust(10,\"*\"))\n",
    "print(s.rjust(10,\"*\"))"
   ]
  },
  {
   "cell_type": "code",
   "execution_count": 27,
   "metadata": {},
   "outputs": [
    {
     "name": "stdout",
     "output_type": "stream",
     "text": [
      "python program\n",
      "python program\n",
      "python program\n"
     ]
    }
   ],
   "source": [
    "s=\"python program\"\n",
    "print(s.center(0,\"*\"))\n",
    "print(s.ljust(0,\"*\"))\n",
    "print(s.rjust(0,\"*\"))"
   ]
  },
  {
   "cell_type": "code",
   "execution_count": 28,
   "metadata": {},
   "outputs": [
    {
     "name": "stdout",
     "output_type": "stream",
     "text": [
      "**********\n",
      "**********\n",
      "**********\n"
     ]
    }
   ],
   "source": [
    "s=\"\"\n",
    "print(s.center(10,\"*\"))\n",
    "print(s.ljust(10,\"*\"))\n",
    "print(s.rjust(10,\"*\"))"
   ]
  },
  {
   "cell_type": "code",
   "execution_count": 29,
   "metadata": {},
   "outputs": [
    {
     "data": {
      "text/plain": [
       "3"
      ]
     },
     "execution_count": 29,
     "metadata": {},
     "output_type": "execute_result"
    }
   ],
   "source": [
    "s=\"apple;banana;grape;apple;orange;banana;apple;grape\"\n",
    "s.count(\"apple\")"
   ]
  },
  {
   "cell_type": "code",
   "execution_count": 30,
   "metadata": {},
   "outputs": [
    {
     "data": {
      "text/plain": [
       "0"
      ]
     },
     "execution_count": 30,
     "metadata": {},
     "output_type": "execute_result"
    }
   ],
   "source": [
    "s=\"apple;banana;grape;apple;orange;banana;apple;grape\"\n",
    "s.count(\"APPLE\")"
   ]
  },
  {
   "cell_type": "code",
   "execution_count": 31,
   "metadata": {},
   "outputs": [
    {
     "data": {
      "text/plain": [
       "0"
      ]
     },
     "execution_count": 31,
     "metadata": {},
     "output_type": "execute_result"
    }
   ],
   "source": [
    "s=\"apple;banana;grape;apple;orange;banana;apple;grape\"\n",
    "sub = \"APPLE\"\n",
    "s.count(sub)"
   ]
  },
  {
   "cell_type": "code",
   "execution_count": 32,
   "metadata": {},
   "outputs": [
    {
     "data": {
      "text/plain": [
       "2"
      ]
     },
     "execution_count": 32,
     "metadata": {},
     "output_type": "execute_result"
    }
   ],
   "source": [
    "s=\"apple;banana;grape;apple;orange;banana;apple;grape\"\n",
    "sub = \"grape\"\n",
    "s.count(sub)"
   ]
  },
  {
   "cell_type": "code",
   "execution_count": 33,
   "metadata": {},
   "outputs": [
    {
     "data": {
      "text/plain": [
       "0"
      ]
     },
     "execution_count": 33,
     "metadata": {},
     "output_type": "execute_result"
    }
   ],
   "source": [
    "s=\"apple;banana;grape;apple;orange;banana;apple;grape\"\n",
    "sub = \"grae\"\n",
    "s.count(sub)"
   ]
  },
  {
   "cell_type": "code",
   "execution_count": 34,
   "metadata": {},
   "outputs": [
    {
     "data": {
      "text/plain": [
       "0"
      ]
     },
     "execution_count": 34,
     "metadata": {},
     "output_type": "execute_result"
    }
   ],
   "source": [
    "s=\"apple;banana;grape;apple;orange;banana;apple;grape\"\n",
    "sub = \"GRape\"\n",
    "s.count(sub)"
   ]
  },
  {
   "cell_type": "code",
   "execution_count": 35,
   "metadata": {},
   "outputs": [
    {
     "data": {
      "text/plain": [
       "2"
      ]
     },
     "execution_count": 35,
     "metadata": {},
     "output_type": "execute_result"
    }
   ],
   "source": [
    "s=\"apple;banana;grape;apple;orange;banana;apple;grape\"\n",
    "sub = \"GRape\"\n",
    "s=s.casefold()\n",
    "sub=sub.casefold()\n",
    "s.count(sub)"
   ]
  },
  {
   "cell_type": "code",
   "execution_count": 36,
   "metadata": {},
   "outputs": [
    {
     "data": {
      "text/plain": [
       "12"
      ]
     },
     "execution_count": 36,
     "metadata": {},
     "output_type": "execute_result"
    }
   ],
   "source": [
    "s=\"apple;banana;grape;apple;orange;banana;apple;grape\"\n",
    "sub = \"a\"\n",
    "s=s.casefold()\n",
    "sub=sub.casefold()\n",
    "s.count(sub)"
   ]
  },
  {
   "cell_type": "code",
   "execution_count": 37,
   "metadata": {},
   "outputs": [
    {
     "data": {
      "text/plain": [
       "0"
      ]
     },
     "execution_count": 37,
     "metadata": {},
     "output_type": "execute_result"
    }
   ],
   "source": [
    "s=\"apple;banana;grape;apple;orange;banana;apple;grape\"\n",
    "sub = \" \"\n",
    "s=s.casefold()\n",
    "sub=sub.casefold()\n",
    "s.count(sub)"
   ]
  },
  {
   "cell_type": "code",
   "execution_count": 38,
   "metadata": {},
   "outputs": [
    {
     "data": {
      "text/plain": [
       "51"
      ]
     },
     "execution_count": 38,
     "metadata": {},
     "output_type": "execute_result"
    }
   ],
   "source": [
    "s=\"apple;banana;grape;apple;orange;banana;apple;grape\"\n",
    "sub = \"\"\n",
    "s=s.casefold()\n",
    "sub=sub.casefold()\n",
    "s.count(sub)"
   ]
  },
  {
   "cell_type": "code",
   "execution_count": 39,
   "metadata": {},
   "outputs": [
    {
     "data": {
      "text/plain": [
       "50"
      ]
     },
     "execution_count": 39,
     "metadata": {},
     "output_type": "execute_result"
    }
   ],
   "source": [
    "len(s)"
   ]
  },
  {
   "cell_type": "code",
   "execution_count": 40,
   "metadata": {},
   "outputs": [
    {
     "data": {
      "text/plain": [
       "'APPLE;banana;grape;APPLE;orange;banana;APPLE;grape'"
      ]
     },
     "execution_count": 40,
     "metadata": {},
     "output_type": "execute_result"
    }
   ],
   "source": [
    "s=\"apple;banana;grape;apple;orange;banana;apple;grape\"\n",
    "s.replace(\"apple\",\"APPLE\")"
   ]
  },
  {
   "cell_type": "code",
   "execution_count": 41,
   "metadata": {},
   "outputs": [
    {
     "data": {
      "text/plain": [
       "';banana;grape;;orange;banana;;grape'"
      ]
     },
     "execution_count": 41,
     "metadata": {},
     "output_type": "execute_result"
    }
   ],
   "source": [
    "s=\"apple;banana;grape;apple;orange;banana;apple;grape\"\n",
    "s.replace(\"apple\",\"\")"
   ]
  },
  {
   "cell_type": "code",
   "execution_count": 42,
   "metadata": {},
   "outputs": [
    {
     "data": {
      "text/plain": [
       "'APPLEaAPPLEpAPPLEpAPPLElAPPLEeAPPLE;APPLEbAPPLEaAPPLEnAPPLEaAPPLEnAPPLEaAPPLE;APPLEgAPPLErAPPLEaAPPLEpAPPLEeAPPLE;APPLEaAPPLEpAPPLEpAPPLElAPPLEeAPPLE;APPLEoAPPLErAPPLEaAPPLEnAPPLEgAPPLEeAPPLE;APPLEbAPPLEaAPPLEnAPPLEaAPPLEnAPPLEaAPPLE;APPLEaAPPLEpAPPLEpAPPLElAPPLEeAPPLE;APPLEgAPPLErAPPLEaAPPLEpAPPLEeAPPLE'"
      ]
     },
     "execution_count": 42,
     "metadata": {},
     "output_type": "execute_result"
    }
   ],
   "source": [
    "s=\"apple;banana;grape;apple;orange;banana;apple;grape\"\n",
    "s.replace(\"\",\"APPLE\")"
   ]
  },
  {
   "cell_type": "code",
   "execution_count": 43,
   "metadata": {},
   "outputs": [
    {
     "name": "stdout",
     "output_type": "stream",
     "text": [
      "Enter substring to replace with APPLE:apple\n"
     ]
    },
    {
     "data": {
      "text/plain": [
       "'APPLE;banana;grape;APPLE;orange;banana;APPLE;grape'"
      ]
     },
     "execution_count": 43,
     "metadata": {},
     "output_type": "execute_result"
    }
   ],
   "source": [
    "s=\"apple;banana;grape;apple;orange;banana;apple;grape\"\n",
    "sub=input(\"Enter substring to replace with APPLE:\")\n",
    "s.replace(sub,\"APPLE\")"
   ]
  },
  {
   "cell_type": "code",
   "execution_count": 44,
   "metadata": {},
   "outputs": [
    {
     "name": "stdout",
     "output_type": "stream",
     "text": [
      "Enter substring to replace with APPLE:\n"
     ]
    },
    {
     "data": {
      "text/plain": [
       "'APPLEaAPPLEpAPPLEpAPPLElAPPLEeAPPLE;APPLEbAPPLEaAPPLEnAPPLEaAPPLEnAPPLEaAPPLE;APPLEgAPPLErAPPLEaAPPLEpAPPLEeAPPLE;APPLEaAPPLEpAPPLEpAPPLElAPPLEeAPPLE;APPLEoAPPLErAPPLEaAPPLEnAPPLEgAPPLEeAPPLE;APPLEbAPPLEaAPPLEnAPPLEaAPPLEnAPPLEaAPPLE;APPLEaAPPLEpAPPLEpAPPLElAPPLEeAPPLE;APPLEgAPPLErAPPLEaAPPLEpAPPLEeAPPLE'"
      ]
     },
     "execution_count": 44,
     "metadata": {},
     "output_type": "execute_result"
    }
   ],
   "source": [
    "s=\"apple;banana;grape;apple;orange;banana;apple;grape\"\n",
    "sub=input(\"Enter substring to replace with APPLE:\")\n",
    "s.replace(sub,\"APPLE\")"
   ]
  },
  {
   "cell_type": "code",
   "execution_count": 45,
   "metadata": {},
   "outputs": [
    {
     "name": "stdout",
     "output_type": "stream",
     "text": [
      "Enter substring to replace with APPLE:\n",
      "invalid input\n"
     ]
    }
   ],
   "source": [
    "s=\"apple;banana;grape;apple;orange;banana;apple;grape\"\n",
    "sub=input(\"Enter substring to replace with APPLE:\")\n",
    "if sub:\n",
    "    s.replace(sub,\"APPLE\")\n",
    "else:\n",
    "    print(\"invalid input\")"
   ]
  },
  {
   "cell_type": "code",
   "execution_count": 46,
   "metadata": {},
   "outputs": [
    {
     "name": "stdout",
     "output_type": "stream",
     "text": [
      "Enter substring to replace with APPLE:\n",
      "apple;banana;grape;apple;orange;banana;apple;grape\n"
     ]
    }
   ],
   "source": [
    "s=\"apple;banana;grape;apple;orange;banana;apple;grape\"\n",
    "sub=input(\"Enter substring to replace with APPLE:\")\n",
    "if sub:\n",
    "    s.replace(sub,\"APPLE\")\n",
    "else:\n",
    "    print(s)"
   ]
  },
  {
   "cell_type": "code",
   "execution_count": 48,
   "metadata": {},
   "outputs": [
    {
     "name": "stdout",
     "output_type": "stream",
     "text": [
      "Enter substring to replace with APPLE:appLE\n",
      "apple;banana;grape;apple;orange;banana;apple;grape\n"
     ]
    }
   ],
   "source": [
    "s=\"apple;banana;grape;apple;orange;banana;apple;grape\"\n",
    "sub=input(\"Enter substring to replace with APPLE:\")\n",
    "if sub:\n",
    "    print(s.replace(sub,\"APPLE\"))\n",
    "else:\n",
    "    print(s)"
   ]
  },
  {
   "cell_type": "code",
   "execution_count": 49,
   "metadata": {},
   "outputs": [
    {
     "name": "stdout",
     "output_type": "stream",
     "text": [
      "Enter substring to replace with APPLE:aPPLe\n",
      "APPLE;banana;grape;APPLE;orange;banana;APPLE;grape\n"
     ]
    }
   ],
   "source": [
    "s=\"apple;banana;grape;apple;orange;banana;apple;grape\"\n",
    "sub=input(\"Enter substring to replace with APPLE:\")\n",
    "if sub:\n",
    "    s=s.casefold()\n",
    "    sub=sub.casefold()\n",
    "    print(s.replace(sub,\"APPLE\"))\n",
    "else:\n",
    "    print(s)"
   ]
  },
  {
   "cell_type": "code",
   "execution_count": 50,
   "metadata": {},
   "outputs": [
    {
     "data": {
      "text/plain": [
       "'APPLE;banana;grape;APPLE;orange;banana;APPLE;grapeAPPLE;APPLE'"
      ]
     },
     "execution_count": 50,
     "metadata": {},
     "output_type": "execute_result"
    }
   ],
   "source": [
    "s=\"apple;banana;grape;apple;orange;banana;apple;grapeapple;apple\"\n",
    "s.replace(\"apple\",\"APPLE\")"
   ]
  },
  {
   "cell_type": "code",
   "execution_count": 51,
   "metadata": {},
   "outputs": [
    {
     "data": {
      "text/plain": [
       "'APPLE;banana;grape;APPLE;orange;banana;apple;grapeapple;apple'"
      ]
     },
     "execution_count": 51,
     "metadata": {},
     "output_type": "execute_result"
    }
   ],
   "source": [
    "s=\"apple;banana;grape;apple;orange;banana;apple;grapeapple;apple\"\n",
    "s.replace(\"apple\",\"APPLE\",2)"
   ]
  },
  {
   "cell_type": "code",
   "execution_count": 52,
   "metadata": {},
   "outputs": [
    {
     "data": {
      "text/plain": [
       "'APPLE;banana;grape;APPLE;orange;banana;APPLE;grapeAPPLE;APPLE'"
      ]
     },
     "execution_count": 52,
     "metadata": {},
     "output_type": "execute_result"
    }
   ],
   "source": [
    "s=\"apple;banana;grape;apple;orange;banana;apple;grapeapple;apple\"\n",
    "s.replace(\"apple\",\"APPLE\",-2)"
   ]
  },
  {
   "cell_type": "code",
   "execution_count": 53,
   "metadata": {},
   "outputs": [
    {
     "name": "stdout",
     "output_type": "stream",
     "text": [
      "apple;banana;grape;apple;orange;banana;apple;grapeAPPLE;APPLE\n"
     ]
    }
   ],
   "source": [
    "# replace last to occurances of apple with APPLE\n",
    "s=\"apple;banana;grape;apple;orange;banana;apple;grapeapple;apple\"\n",
    "s=\"apple;banana;grape;apple;orange;banana;apple;grapeAPPLE;APPLE\"\n",
    "print(s)"
   ]
  },
  {
   "cell_type": "code",
   "execution_count": 55,
   "metadata": {},
   "outputs": [
    {
     "name": "stdout",
     "output_type": "stream",
     "text": [
      "['apple', 'banana', 'grape', 'apple', 'orange', 'banana', 'apple', 'grapeapple', 'apple']\n"
     ]
    }
   ],
   "source": [
    "# replace last to occurances of apple with APPLE\n",
    "s=\"apple;banana;grape;apple;orange;banana;apple;grapeapple;apple\"\n",
    "print(s.split(\";\"))"
   ]
  },
  {
   "cell_type": "code",
   "execution_count": 56,
   "metadata": {},
   "outputs": [
    {
     "name": "stdout",
     "output_type": "stream",
     "text": [
      "['apple;banana;grape;apple;orange;banana;apple;grapeapple;apple']\n"
     ]
    }
   ],
   "source": [
    "# replace last to occurances of apple with APPLE\n",
    "s=\"apple;banana;grape;apple;orange;banana;apple;grapeapple;apple\"\n",
    "print(s.split())"
   ]
  },
  {
   "cell_type": "code",
   "execution_count": 57,
   "metadata": {},
   "outputs": [
    {
     "name": "stdout",
     "output_type": "stream",
     "text": [
      "a\n"
     ]
    }
   ],
   "source": [
    "s=\"apple;banana;grape;apple;orange;banana;apple;grapeapple;apple\"\n",
    "for i in s:\n",
    "    print(i)\n",
    "    break"
   ]
  },
  {
   "cell_type": "code",
   "execution_count": 60,
   "metadata": {},
   "outputs": [
    {
     "name": "stdout",
     "output_type": "stream",
     "text": [
      "apple\n",
      "banana\n",
      "grape\n",
      "apple\n",
      "orange\n",
      "banana\n",
      "apple\n",
      "grapeapple\n",
      "apple\n"
     ]
    }
   ],
   "source": [
    "s=\"apple;banana;grape;apple;orange;banana;apple;grapeapple;apple\"\n",
    "for i in s.split(\";\"):\n",
    "    print(i)\n"
   ]
  },
  {
   "cell_type": "code",
   "execution_count": 61,
   "metadata": {},
   "outputs": [
    {
     "name": "stdout",
     "output_type": "stream",
     "text": [
      "['apple', 'banana', 'grape', 'apple', 'orange', 'banana', 'apple', 'grapeapple', 'apple']\n",
      "['apple', 'banana', 'grape', 'apple', 'orange', 'banana', 'apple', 'grapeapple', 'apple']\n",
      "('apple', ';', 'banana;grape;apple;orange;banana;apple;grapeapple;apple')\n",
      "('apple;banana;grape;apple;orange;banana;apple;grapeapple', ';', 'apple')\n"
     ]
    }
   ],
   "source": [
    "s=\"apple;banana;grape;apple;orange;banana;apple;grapeapple;apple\"\n",
    "print(s.split(\";\"))\n",
    "print(s.rsplit(\";\"))\n",
    "print(s.partition(\";\"))\n",
    "print(s.rpartition(\";\"))"
   ]
  },
  {
   "cell_type": "code",
   "execution_count": 62,
   "metadata": {},
   "outputs": [
    {
     "name": "stdout",
     "output_type": "stream",
     "text": [
      "['apple', 'banana', 'grape', 'apple', 'orange', 'banana', 'apple', 'grapeapple', 'apple']\n",
      "['apple', 'banana', 'grape', 'apple', 'orange', 'banana', 'apple', 'grapeapple', 'apple']\n"
     ]
    }
   ],
   "source": [
    "s=\"apple;banana;grape;apple;orange;banana;apple;grapeapple;apple\"\n",
    "print(s.split(\";\"))\n",
    "print(s.rsplit(\";\"))"
   ]
  },
  {
   "cell_type": "code",
   "execution_count": 63,
   "metadata": {},
   "outputs": [
    {
     "name": "stdout",
     "output_type": "stream",
     "text": [
      "['apple', 'banana', 'grape', 'apple;orange;banana;apple;grapeapple;apple']\n",
      "['apple;banana;grape;apple;orange;banana', 'apple', 'grapeapple', 'apple']\n"
     ]
    }
   ],
   "source": [
    "s=\"apple;banana;grape;apple;orange;banana;apple;grapeapple;apple\"\n",
    "print(s.split(\";\",3))\n",
    "print(s.rsplit(\";\",3))"
   ]
  },
  {
   "cell_type": "code",
   "execution_count": 64,
   "metadata": {},
   "outputs": [
    {
     "name": "stdout",
     "output_type": "stream",
     "text": [
      "applebananagrapeappleorangebananaapplegrapeappleapple\n"
     ]
    }
   ],
   "source": [
    "l = ['apple', 'banana', 'grape', 'apple', 'orange', 'banana', 'apple', 'grapeapple', 'apple']\n",
    "s=\"\"\n",
    "for i in l:\n",
    "    s=s+i\n",
    "print(s)"
   ]
  },
  {
   "cell_type": "code",
   "execution_count": 65,
   "metadata": {},
   "outputs": [
    {
     "name": "stdout",
     "output_type": "stream",
     "text": [
      "applebananagrapeappleorangebananaapplegrapeappleapple\n"
     ]
    }
   ],
   "source": [
    "l = ['apple', 'banana', 'grape', 'apple', 'orange', 'banana', 'apple', 'grapeapple', 'apple']\n",
    "s=\"\".join(l)\n",
    "print(s)"
   ]
  },
  {
   "cell_type": "code",
   "execution_count": 66,
   "metadata": {},
   "outputs": [
    {
     "name": "stdout",
     "output_type": "stream",
     "text": [
      "apple:banana:grape:apple:orange:banana:apple:grapeapple:apple\n"
     ]
    }
   ],
   "source": [
    "l = ['apple', 'banana', 'grape', 'apple', 'orange', 'banana', 'apple', 'grapeapple', 'apple']\n",
    "s=\":\".join(l)\n",
    "print(s)"
   ]
  },
  {
   "cell_type": "code",
   "execution_count": 67,
   "metadata": {},
   "outputs": [
    {
     "name": "stdout",
     "output_type": "stream",
     "text": [
      "['apple', 'banana', 'grape', 'apple', 'orange', 'banana', 'apple', 'grapeapple', 'apple']\n"
     ]
    }
   ],
   "source": [
    "s=\"apple;banana;grape;apple;orange;banana;apple;grapeapple;apple\"\n",
    "l=s.split(\";\")\n",
    "print(l)"
   ]
  },
  {
   "cell_type": "code",
   "execution_count": 68,
   "metadata": {},
   "outputs": [
    {
     "name": "stdout",
     "output_type": "stream",
     "text": [
      "['apple;', 'banana;', 'grape;', 'apple;', 'orange;', 'banana;', 'apple;', 'grapeapple;', 'apple']\n"
     ]
    }
   ],
   "source": [
    "s=\"apple;banana;grape;apple;orange;banana;apple;grapeapple;apple\"\n",
    "s=s.replace(\";\",\";:\")\n",
    "l=s.split(\":\")\n",
    "print(l)"
   ]
  },
  {
   "cell_type": "code",
   "execution_count": 70,
   "metadata": {},
   "outputs": [
    {
     "name": "stdout",
     "output_type": "stream",
     "text": [
      "['apple', 'banana', 'grape', 'apple', 'orange', 'banana', 'apple', 'grapeapple', 'apple']\n"
     ]
    }
   ],
   "source": [
    "s=\"apple;banana;grape;apple;orange;banana;apple;grapeapple;apple\"\n",
    "l=s.split(\";\")\n",
    "print(l)"
   ]
  },
  {
   "cell_type": "code",
   "execution_count": 71,
   "metadata": {},
   "outputs": [
    {
     "name": "stdout",
     "output_type": "stream",
     "text": [
      "applebananagrapeappleorangebananaapplegrapeappleapple\n"
     ]
    }
   ],
   "source": [
    "s=\"apple;banana;grape;apple;orange;banana;apple;grapeapple;apple\"\n",
    "l=s.split(\";\")\n",
    "s=\"\".join(l)\n",
    "print(s)"
   ]
  },
  {
   "cell_type": "code",
   "execution_count": 72,
   "metadata": {},
   "outputs": [
    {
     "name": "stdout",
     "output_type": "stream",
     "text": [
      "apple:banana:grape:apple:orange:banana:apple:grapeapple:apple\n"
     ]
    }
   ],
   "source": [
    "s=\"apple;banana;grape;apple;orange;banana;apple;grapeapple;apple\"\n",
    "l=s.split(\";\")\n",
    "s=\":\".join(l)\n",
    "print(s)"
   ]
  },
  {
   "cell_type": "code",
   "execution_count": 1,
   "metadata": {},
   "outputs": [],
   "source": [
    "s=\"python program\"\n",
    "enc_s = s.encode(\"cp037\")"
   ]
  },
  {
   "cell_type": "code",
   "execution_count": 2,
   "metadata": {},
   "outputs": [
    {
     "data": {
      "text/plain": [
       "b'\\x97\\xa8\\xa3\\x88\\x96\\x95@\\x97\\x99\\x96\\x87\\x99\\x81\\x94'"
      ]
     },
     "execution_count": 2,
     "metadata": {},
     "output_type": "execute_result"
    }
   ],
   "source": [
    "enc_s"
   ]
  },
  {
   "cell_type": "code",
   "execution_count": 3,
   "metadata": {},
   "outputs": [
    {
     "data": {
      "text/plain": [
       "'python program'"
      ]
     },
     "execution_count": 3,
     "metadata": {},
     "output_type": "execute_result"
    }
   ],
   "source": [
    "enc_s.decode(\"cp037\")"
   ]
  },
  {
   "cell_type": "code",
   "execution_count": 5,
   "metadata": {},
   "outputs": [
    {
     "name": "stdout",
     "output_type": "stream",
     "text": [
      "True\n",
      "True\n"
     ]
    }
   ],
   "source": [
    "s=\"sambapython@gmail.com\"\n",
    "print(s.endswith(\"gmail.com\"))\n",
    "print(s.startswith(\"samba\"))"
   ]
  },
  {
   "cell_type": "code",
   "execution_count": 6,
   "metadata": {},
   "outputs": [
    {
     "name": "stdout",
     "output_type": "stream",
     "text": [
      "False\n",
      "False\n"
     ]
    }
   ],
   "source": [
    "s=\"sambapython@gmail.com\"\n",
    "print(s.endswith(\"samba\"))\n",
    "print(s.startswith(\"gmail.com\"))"
   ]
  },
  {
   "cell_type": "code",
   "execution_count": 7,
   "metadata": {},
   "outputs": [
    {
     "name": "stdout",
     "output_type": "stream",
     "text": [
      "True\n",
      "True\n"
     ]
    }
   ],
   "source": [
    "s=\"sambapython@gmail.com\"\n",
    "print(s.endswith(\"\"))\n",
    "print(s.startswith(\"\"))"
   ]
  },
  {
   "cell_type": "code",
   "execution_count": 8,
   "metadata": {},
   "outputs": [
    {
     "name": "stdout",
     "output_type": "stream",
     "text": [
      "0\n",
      "26\n",
      "0\n",
      "26\n"
     ]
    }
   ],
   "source": [
    "s=\"apple;orange;apple;papaya;apple;banana'orange,banana\"\n",
    "print(s.find(\"apple\"))\n",
    "print(s.rfind(\"apple\"))\n",
    "print(s.index(\"apple\"))\n",
    "print(s.rindex(\"apple\"))"
   ]
  },
  {
   "cell_type": "code",
   "execution_count": 12,
   "metadata": {},
   "outputs": [
    {
     "name": "stdout",
     "output_type": "stream",
     "text": [
      "-1\n"
     ]
    },
    {
     "ename": "ValueError",
     "evalue": "substring not found",
     "output_type": "error",
     "traceback": [
      "\u001b[0;31m---------------------------------------------------------------------------\u001b[0m",
      "\u001b[0;31mValueError\u001b[0m                                Traceback (most recent call last)",
      "\u001b[0;32m<ipython-input-12-61d85f306eb2>\u001b[0m in \u001b[0;36m<module>\u001b[0;34m()\u001b[0m\n\u001b[1;32m      1\u001b[0m \u001b[0ms\u001b[0m\u001b[0;34m=\u001b[0m\u001b[0;34m\"apple;orange;apple;papaya;apple;banana'orange,banana\"\u001b[0m\u001b[0;34m\u001b[0m\u001b[0m\n\u001b[1;32m      2\u001b[0m \u001b[0mprint\u001b[0m\u001b[0;34m(\u001b[0m\u001b[0ms\u001b[0m\u001b[0;34m.\u001b[0m\u001b[0mfind\u001b[0m\u001b[0;34m(\u001b[0m\u001b[0;34m\"APPLE\"\u001b[0m\u001b[0;34m)\u001b[0m\u001b[0;34m)\u001b[0m\u001b[0;34m\u001b[0m\u001b[0m\n\u001b[0;32m----> 3\u001b[0;31m \u001b[0mprint\u001b[0m\u001b[0;34m(\u001b[0m\u001b[0ms\u001b[0m\u001b[0;34m.\u001b[0m\u001b[0mindex\u001b[0m\u001b[0;34m(\u001b[0m\u001b[0;34m\"APPLE\"\u001b[0m\u001b[0;34m)\u001b[0m\u001b[0;34m)\u001b[0m\u001b[0;34m\u001b[0m\u001b[0m\n\u001b[0m",
      "\u001b[0;31mValueError\u001b[0m: substring not found"
     ]
    }
   ],
   "source": [
    "s=\"apple;orange;apple;papaya;apple;banana'orange,banana\"\n",
    "print(s.find(\"APPLE\"))\n",
    "print(s.index(\"APPLE\"))"
   ]
  },
  {
   "cell_type": "code",
   "execution_count": 13,
   "metadata": {},
   "outputs": [
    {
     "name": "stdout",
     "output_type": "stream",
     "text": [
      "-1\n"
     ]
    },
    {
     "ename": "ValueError",
     "evalue": "substring not found",
     "output_type": "error",
     "traceback": [
      "\u001b[0;31m---------------------------------------------------------------------------\u001b[0m",
      "\u001b[0;31mValueError\u001b[0m                                Traceback (most recent call last)",
      "\u001b[0;32m<ipython-input-13-0e87e2d5fe51>\u001b[0m in \u001b[0;36m<module>\u001b[0;34m()\u001b[0m\n\u001b[1;32m      1\u001b[0m \u001b[0ms\u001b[0m\u001b[0;34m=\u001b[0m\u001b[0;34m\"apple;orange;apple;papaya;apple;banana'orange,banana;apple\"\u001b[0m\u001b[0;34m\u001b[0m\u001b[0m\n\u001b[1;32m      2\u001b[0m \u001b[0mprint\u001b[0m\u001b[0;34m(\u001b[0m\u001b[0ms\u001b[0m\u001b[0;34m.\u001b[0m\u001b[0mfind\u001b[0m\u001b[0;34m(\u001b[0m\u001b[0;34m\"APPLE\"\u001b[0m\u001b[0;34m)\u001b[0m\u001b[0;34m)\u001b[0m\u001b[0;34m\u001b[0m\u001b[0m\n\u001b[0;32m----> 3\u001b[0;31m \u001b[0mprint\u001b[0m\u001b[0;34m(\u001b[0m\u001b[0ms\u001b[0m\u001b[0;34m.\u001b[0m\u001b[0mindex\u001b[0m\u001b[0;34m(\u001b[0m\u001b[0;34m\"APPLE\"\u001b[0m\u001b[0;34m)\u001b[0m\u001b[0;34m)\u001b[0m\u001b[0;34m\u001b[0m\u001b[0m\n\u001b[0m",
      "\u001b[0;31mValueError\u001b[0m: substring not found"
     ]
    }
   ],
   "source": [
    "s=\"apple;orange;apple;papaya;apple;banana'orange,banana;apple\"\n",
    "print(s.find(\"APPLE\"))\n",
    "print(s.index(\"APPLE\"))"
   ]
  },
  {
   "cell_type": "code",
   "execution_count": 16,
   "metadata": {},
   "outputs": [
    {
     "name": "stdout",
     "output_type": "stream",
     "text": [
      "Name:Jay,Age:2.35,weight:13\n",
      "Name:Jay,Age:2.35,weight:13\n"
     ]
    }
   ],
   "source": [
    "name=\"Jay\"\n",
    "age=2.345678\n",
    "weight=13.456788\n",
    "print(\"Name:%s,Age:%.2f,weight:%d\"%(name,age,weight))\n",
    "print(f\"Name:{name},Age:{age:.2f},weight:{int(weight)}\")"
   ]
  },
  {
   "cell_type": "code",
   "execution_count": 17,
   "metadata": {},
   "outputs": [
    {
     "name": "stdout",
     "output_type": "stream",
     "text": [
      "Name:Jay,Age:2.35,weight:13\n",
      "Name:Jay,Age:2.35,weight:13\n"
     ]
    },
    {
     "ename": "ValueError",
     "evalue": "Unknown format code 'd' for object of type 'float'",
     "output_type": "error",
     "traceback": [
      "\u001b[0;31m---------------------------------------------------------------------------\u001b[0m",
      "\u001b[0;31mValueError\u001b[0m                                Traceback (most recent call last)",
      "\u001b[0;32m<ipython-input-17-9002f7d31c8a>\u001b[0m in \u001b[0;36m<module>\u001b[0;34m()\u001b[0m\n\u001b[1;32m      4\u001b[0m \u001b[0mprint\u001b[0m\u001b[0;34m(\u001b[0m\u001b[0;34m\"Name:%s,Age:%.2f,weight:%d\"\u001b[0m\u001b[0;34m%\u001b[0m\u001b[0;34m(\u001b[0m\u001b[0mname\u001b[0m\u001b[0;34m,\u001b[0m\u001b[0mage\u001b[0m\u001b[0;34m,\u001b[0m\u001b[0mweight\u001b[0m\u001b[0;34m)\u001b[0m\u001b[0;34m)\u001b[0m\u001b[0;34m\u001b[0m\u001b[0m\n\u001b[1;32m      5\u001b[0m \u001b[0mprint\u001b[0m\u001b[0;34m(\u001b[0m\u001b[0;34mf\"Name:{name},Age:{age:.2f},weight:{int(weight)}\"\u001b[0m\u001b[0;34m)\u001b[0m\u001b[0;34m\u001b[0m\u001b[0m\n\u001b[0;32m----> 6\u001b[0;31m \u001b[0mprint\u001b[0m\u001b[0;34m(\u001b[0m\u001b[0;34m\"Name:{0},Age:{1:.2f},Weight:{2:d}\"\u001b[0m\u001b[0;34m.\u001b[0m\u001b[0mformat\u001b[0m\u001b[0;34m(\u001b[0m\u001b[0mname\u001b[0m\u001b[0;34m,\u001b[0m\u001b[0mage\u001b[0m\u001b[0;34m,\u001b[0m\u001b[0mweight\u001b[0m\u001b[0;34m)\u001b[0m\u001b[0;34m)\u001b[0m\u001b[0;34m\u001b[0m\u001b[0m\n\u001b[0m",
      "\u001b[0;31mValueError\u001b[0m: Unknown format code 'd' for object of type 'float'"
     ]
    }
   ],
   "source": [
    "name=\"Jay\"\n",
    "age=2.345678\n",
    "weight=13.456788\n",
    "print(\"Name:%s,Age:%.2f,weight:%d\"%(name,age,weight))\n",
    "print(f\"Name:{name},Age:{age:.2f},weight:{int(weight)}\")\n",
    "print(\"Name:{0},Age:{1:.2f},Weight:{2:d}\".format(name,age,weight))"
   ]
  },
  {
   "cell_type": "code",
   "execution_count": 19,
   "metadata": {},
   "outputs": [
    {
     "name": "stdout",
     "output_type": "stream",
     "text": [
      "Name:Jay,Age:2.35,weight:13\n",
      "Name:Jay,Age:2.35,weight:13\n",
      "Name:Jay,Age:2.35,Weight:13\n"
     ]
    }
   ],
   "source": [
    "name=\"Jay\"\n",
    "age=2.345678\n",
    "weight=13.456788\n",
    "print(\"Name:%s,Age:%.2f,weight:%d\"%(name,age,weight))\n",
    "print(f\"Name:{name},Age:{age:.2f},weight:{int(weight)}\")\n",
    "print(\"Name:{0},Age:{1:.2f},Weight:{2}\".format(name,age,int(weight)))"
   ]
  },
  {
   "cell_type": "code",
   "execution_count": 20,
   "metadata": {},
   "outputs": [
    {
     "name": "stdout",
     "output_type": "stream",
     "text": [
      "Name:Jay,Age:2.35,Weight:13\n"
     ]
    }
   ],
   "source": [
    "name=\"Jay\"\n",
    "age=2.345678\n",
    "weight=13.456788\n",
    "print(\"Name:{0},Age:{1:.2f},Weight:{2}\".format(name,age,int(weight)))"
   ]
  },
  {
   "cell_type": "code",
   "execution_count": 21,
   "metadata": {},
   "outputs": [
    {
     "name": "stdout",
     "output_type": "stream",
     "text": [
      "Name:Jay,Age:2.35,Weight:13\n"
     ]
    }
   ],
   "source": [
    "name=\"Jay\"\n",
    "age=2.345678\n",
    "weight=13.456788\n",
    "height=3.345\n",
    "print(\"Name:{0},Age:{1:.2f},Weight:{2}\".format(name,age,int(weight),height))"
   ]
  },
  {
   "cell_type": "code",
   "execution_count": 22,
   "metadata": {},
   "outputs": [
    {
     "name": "stdout",
     "output_type": "stream",
     "text": [
      "Name:Jay,Age:2.35,Weight:3.345\n"
     ]
    }
   ],
   "source": [
    "name=\"Jay\"\n",
    "age=2.345678\n",
    "weight=13.456788\n",
    "height=3.345\n",
    "print(\"Name:{0},Age:{1:.2f},Weight:{3}\".format(name,age,int(weight),height))"
   ]
  },
  {
   "cell_type": "code",
   "execution_count": 23,
   "metadata": {},
   "outputs": [
    {
     "ename": "IndexError",
     "evalue": "tuple index out of range",
     "output_type": "error",
     "traceback": [
      "\u001b[0;31m---------------------------------------------------------------------------\u001b[0m",
      "\u001b[0;31mIndexError\u001b[0m                                Traceback (most recent call last)",
      "\u001b[0;32m<ipython-input-23-8e23ca7ea59a>\u001b[0m in \u001b[0;36m<module>\u001b[0;34m()\u001b[0m\n\u001b[1;32m      3\u001b[0m \u001b[0mweight\u001b[0m\u001b[0;34m=\u001b[0m\u001b[0;36m13.456788\u001b[0m\u001b[0;34m\u001b[0m\u001b[0m\n\u001b[1;32m      4\u001b[0m \u001b[0mheight\u001b[0m\u001b[0;34m=\u001b[0m\u001b[0;36m3.345\u001b[0m\u001b[0;34m\u001b[0m\u001b[0m\n\u001b[0;32m----> 5\u001b[0;31m \u001b[0mprint\u001b[0m\u001b[0;34m(\u001b[0m\u001b[0;34m\"Name:{0},Age:{1:.2f},Weight:{4}\"\u001b[0m\u001b[0;34m.\u001b[0m\u001b[0mformat\u001b[0m\u001b[0;34m(\u001b[0m\u001b[0mname\u001b[0m\u001b[0;34m,\u001b[0m\u001b[0mage\u001b[0m\u001b[0;34m,\u001b[0m\u001b[0mint\u001b[0m\u001b[0;34m(\u001b[0m\u001b[0mweight\u001b[0m\u001b[0;34m)\u001b[0m\u001b[0;34m,\u001b[0m\u001b[0mheight\u001b[0m\u001b[0;34m)\u001b[0m\u001b[0;34m)\u001b[0m\u001b[0;34m\u001b[0m\u001b[0m\n\u001b[0m",
      "\u001b[0;31mIndexError\u001b[0m: tuple index out of range"
     ]
    }
   ],
   "source": [
    "name=\"Jay\"\n",
    "age=2.345678\n",
    "weight=13.456788\n",
    "height=3.345\n",
    "print(\"Name:{0},Age:{1:.2f},Weight:{4}\".format(name,age,int(weight),height))"
   ]
  },
  {
   "cell_type": "code",
   "execution_count": 24,
   "metadata": {},
   "outputs": [
    {
     "ename": "KeyError",
     "evalue": "'-4'",
     "output_type": "error",
     "traceback": [
      "\u001b[0;31m---------------------------------------------------------------------------\u001b[0m",
      "\u001b[0;31mKeyError\u001b[0m                                  Traceback (most recent call last)",
      "\u001b[0;32m<ipython-input-24-cf042ffa25e3>\u001b[0m in \u001b[0;36m<module>\u001b[0;34m()\u001b[0m\n\u001b[1;32m      3\u001b[0m \u001b[0mweight\u001b[0m\u001b[0;34m=\u001b[0m\u001b[0;36m13.456788\u001b[0m\u001b[0;34m\u001b[0m\u001b[0m\n\u001b[1;32m      4\u001b[0m \u001b[0mheight\u001b[0m\u001b[0;34m=\u001b[0m\u001b[0;36m3.345\u001b[0m\u001b[0;34m\u001b[0m\u001b[0m\n\u001b[0;32m----> 5\u001b[0;31m \u001b[0mprint\u001b[0m\u001b[0;34m(\u001b[0m\u001b[0;34m\"Name:{0},Age:{1:.2f},Weight:{-4}\"\u001b[0m\u001b[0;34m.\u001b[0m\u001b[0mformat\u001b[0m\u001b[0;34m(\u001b[0m\u001b[0mname\u001b[0m\u001b[0;34m,\u001b[0m\u001b[0mage\u001b[0m\u001b[0;34m,\u001b[0m\u001b[0mint\u001b[0m\u001b[0;34m(\u001b[0m\u001b[0mweight\u001b[0m\u001b[0;34m)\u001b[0m\u001b[0;34m,\u001b[0m\u001b[0mheight\u001b[0m\u001b[0;34m)\u001b[0m\u001b[0;34m)\u001b[0m\u001b[0;34m\u001b[0m\u001b[0m\n\u001b[0m",
      "\u001b[0;31mKeyError\u001b[0m: '-4'"
     ]
    }
   ],
   "source": [
    "name=\"Jay\"\n",
    "age=2.345678\n",
    "weight=13.456788\n",
    "height=3.345\n",
    "print(\"Name:{0},Age:{1:.2f},Weight:{-4}\".format(name,age,int(weight),height))"
   ]
  },
  {
   "cell_type": "code",
   "execution_count": 25,
   "metadata": {},
   "outputs": [
    {
     "ename": "KeyError",
     "evalue": "'-2'",
     "output_type": "error",
     "traceback": [
      "\u001b[0;31m---------------------------------------------------------------------------\u001b[0m",
      "\u001b[0;31mKeyError\u001b[0m                                  Traceback (most recent call last)",
      "\u001b[0;32m<ipython-input-25-226cd0166de5>\u001b[0m in \u001b[0;36m<module>\u001b[0;34m()\u001b[0m\n\u001b[1;32m      3\u001b[0m \u001b[0mweight\u001b[0m\u001b[0;34m=\u001b[0m\u001b[0;36m13.456788\u001b[0m\u001b[0;34m\u001b[0m\u001b[0m\n\u001b[1;32m      4\u001b[0m \u001b[0mheight\u001b[0m\u001b[0;34m=\u001b[0m\u001b[0;36m3.345\u001b[0m\u001b[0;34m\u001b[0m\u001b[0m\n\u001b[0;32m----> 5\u001b[0;31m \u001b[0mprint\u001b[0m\u001b[0;34m(\u001b[0m\u001b[0;34m\"Name:{0},Age:{1:.2f},Weight:{-2}\"\u001b[0m\u001b[0;34m.\u001b[0m\u001b[0mformat\u001b[0m\u001b[0;34m(\u001b[0m\u001b[0mname\u001b[0m\u001b[0;34m,\u001b[0m\u001b[0mage\u001b[0m\u001b[0;34m,\u001b[0m\u001b[0mint\u001b[0m\u001b[0;34m(\u001b[0m\u001b[0mweight\u001b[0m\u001b[0;34m)\u001b[0m\u001b[0;34m,\u001b[0m\u001b[0mheight\u001b[0m\u001b[0;34m)\u001b[0m\u001b[0;34m)\u001b[0m\u001b[0;34m\u001b[0m\u001b[0m\n\u001b[0m",
      "\u001b[0;31mKeyError\u001b[0m: '-2'"
     ]
    }
   ],
   "source": [
    "name=\"Jay\"\n",
    "age=2.345678\n",
    "weight=13.456788\n",
    "height=3.345\n",
    "print(\"Name:{0},Age:{1:.2f},Weight:{-2}\".format(name,age,int(weight),height))"
   ]
  },
  {
   "cell_type": "code",
   "execution_count": 26,
   "metadata": {},
   "outputs": [
    {
     "name": "stdout",
     "output_type": "stream",
     "text": [
      "Name:Jay,Age:Jay,Weight:Jay\n"
     ]
    }
   ],
   "source": [
    "name=\"Jay\"\n",
    "age=2.345678\n",
    "weight=13.456788\n",
    "height=3.345\n",
    "print(\"Name:{0},Age:{0},Weight:{0}\".format(name,age,int(weight),height))"
   ]
  },
  {
   "cell_type": "code",
   "execution_count": 27,
   "metadata": {},
   "outputs": [
    {
     "data": {
      "text/plain": [
       "1"
      ]
     },
     "execution_count": 27,
     "metadata": {},
     "output_type": "execute_result"
    }
   ],
   "source": [
    "l=[\"virat\",\"rohit\",\"shoni\",\"bhuvi\",\"bhumra\",\"chahal\",\"shami\",\"kuldeep\"]\n",
    "a,b=[1,2]\n",
    "a"
   ]
  },
  {
   "cell_type": "code",
   "execution_count": 28,
   "metadata": {},
   "outputs": [
    {
     "data": {
      "text/plain": [
       "2"
      ]
     },
     "execution_count": 28,
     "metadata": {},
     "output_type": "execute_result"
    }
   ],
   "source": [
    "b"
   ]
  },
  {
   "cell_type": "code",
   "execution_count": 29,
   "metadata": {},
   "outputs": [
    {
     "ename": "ValueError",
     "evalue": "too many values to unpack (expected 2)",
     "output_type": "error",
     "traceback": [
      "\u001b[0;31m---------------------------------------------------------------------------\u001b[0m",
      "\u001b[0;31mValueError\u001b[0m                                Traceback (most recent call last)",
      "\u001b[0;32m<ipython-input-29-e6b11854c742>\u001b[0m in \u001b[0;36m<module>\u001b[0;34m()\u001b[0m\n\u001b[0;32m----> 1\u001b[0;31m \u001b[0ma\u001b[0m\u001b[0;34m,\u001b[0m\u001b[0mb\u001b[0m\u001b[0;34m=\u001b[0m\u001b[0;34m[\u001b[0m\u001b[0;36m1\u001b[0m\u001b[0;34m,\u001b[0m\u001b[0;36m2\u001b[0m\u001b[0;34m,\u001b[0m\u001b[0;36m3\u001b[0m\u001b[0;34m]\u001b[0m\u001b[0;34m\u001b[0m\u001b[0m\n\u001b[0m",
      "\u001b[0;31mValueError\u001b[0m: too many values to unpack (expected 2)"
     ]
    }
   ],
   "source": [
    "a,b=[1,2,3]"
   ]
  },
  {
   "cell_type": "code",
   "execution_count": 30,
   "metadata": {},
   "outputs": [
    {
     "name": "stdout",
     "output_type": "stream",
     "text": [
      "1\n"
     ]
    }
   ],
   "source": [
    "a,*b=[1,2,3]\n",
    "print(a)"
   ]
  },
  {
   "cell_type": "code",
   "execution_count": 31,
   "metadata": {},
   "outputs": [
    {
     "name": "stdout",
     "output_type": "stream",
     "text": [
      "[2, 3]\n"
     ]
    }
   ],
   "source": [
    "print(b)"
   ]
  },
  {
   "cell_type": "code",
   "execution_count": 32,
   "metadata": {},
   "outputs": [
    {
     "name": "stdout",
     "output_type": "stream",
     "text": [
      "1\n",
      "[2, 3, 4, 5]\n",
      "6\n"
     ]
    }
   ],
   "source": [
    "a,*b,c=[1,2,3,4,5,6]\n",
    "print(a)\n",
    "print(b)\n",
    "print(c)"
   ]
  },
  {
   "cell_type": "code",
   "execution_count": 33,
   "metadata": {},
   "outputs": [
    {
     "name": "stdout",
     "output_type": "stream",
     "text": [
      "1\n",
      "[2, 3, 4, 5]\n",
      "6\n"
     ]
    }
   ],
   "source": [
    "a,*b,c={1,2,3,4,5,6}\n",
    "print(a)\n",
    "print(b)\n",
    "print(c)"
   ]
  },
  {
   "cell_type": "code",
   "execution_count": 35,
   "metadata": {},
   "outputs": [
    {
     "name": "stdout",
     "output_type": "stream",
     "text": [
      "1\n",
      "[2, 3, 4, 5]\n",
      "6\n"
     ]
    }
   ],
   "source": [
    "a,*b,c=(1,2,3,4,5,6)\n",
    "print(a)\n",
    "print(b)\n",
    "print(c)"
   ]
  },
  {
   "cell_type": "code",
   "execution_count": 36,
   "metadata": {},
   "outputs": [
    {
     "name": "stdout",
     "output_type": "stream",
     "text": [
      "Name:jay, Weight:13.24565, Height:3.4543\n"
     ]
    }
   ],
   "source": [
    "d={\"name\":\"jay\",\"weight\":13.24565,\"height\":3.4543}\n",
    "print(\"Name:%s, Weight:%s, Height:%s\"%(d[\"name\"],d['weight'],d['height']))"
   ]
  },
  {
   "cell_type": "code",
   "execution_count": 37,
   "metadata": {},
   "outputs": [
    {
     "name": "stdout",
     "output_type": "stream",
     "text": [
      "Name:jay, Weight:13.24565, Height:3.4543\n"
     ]
    }
   ],
   "source": [
    "d={\"name\":\"jay\",\"weight\":13.24565,\"height\":3.4543}\n",
    "print(\"Name:%(name)s, Weight:%(weight)s, Height:%(height)s\"%d)"
   ]
  },
  {
   "cell_type": "code",
   "execution_count": 38,
   "metadata": {},
   "outputs": [
    {
     "name": "stdout",
     "output_type": "stream",
     "text": [
      "Name:jay, Weight:13.24565, Height:3.4543\n"
     ]
    }
   ],
   "source": [
    "d={\"name\":\"jay\",\"weight\":13.24565,\"height\":3.4543}\n",
    "print(\"Name:{name}, Weight:{weight}, Height:{height}\".format_map(d))"
   ]
  },
  {
   "cell_type": "code",
   "execution_count": 40,
   "metadata": {},
   "outputs": [
    {
     "name": "stdout",
     "output_type": "stream",
     "text": [
      "virat\n",
      "['bhuvi', 'bhumra', 'chahal', 'shami', 'kuldeep']\n"
     ]
    }
   ],
   "source": [
    "l=[\"virat\",\"rohit\",\"dhoni\",\"bhuvi\",\"bhumra\",\"chahal\",\"shami\",\"kuldeep\"]\n",
    "onedown,opener,keeper,*bowlers = l\n",
    "print(onedown)\n",
    "print(bowlers)"
   ]
  },
  {
   "cell_type": "code",
   "execution_count": 41,
   "metadata": {},
   "outputs": [
    {
     "name": "stdout",
     "output_type": "stream",
     "text": [
      "True\n"
     ]
    }
   ],
   "source": [
    "s=\"asbdf\"\n",
    "print(s.isalnum())"
   ]
  },
  {
   "cell_type": "code",
   "execution_count": 42,
   "metadata": {},
   "outputs": [
    {
     "name": "stdout",
     "output_type": "stream",
     "text": [
      "True\n"
     ]
    }
   ],
   "source": [
    "s=\"asbdf12121\"\n",
    "print(s.isalnum())"
   ]
  },
  {
   "cell_type": "code",
   "execution_count": 43,
   "metadata": {},
   "outputs": [
    {
     "name": "stdout",
     "output_type": "stream",
     "text": [
      "True\n"
     ]
    }
   ],
   "source": [
    "s=\"1234567\"\n",
    "print(s.isalnum())"
   ]
  },
  {
   "cell_type": "code",
   "execution_count": 44,
   "metadata": {},
   "outputs": [
    {
     "name": "stdout",
     "output_type": "stream",
     "text": [
      "False\n"
     ]
    }
   ],
   "source": [
    "s=\"asbdf12r#\"\n",
    "print(s.isalnum())"
   ]
  },
  {
   "cell_type": "code",
   "execution_count": 45,
   "metadata": {},
   "outputs": [
    {
     "name": "stdout",
     "output_type": "stream",
     "text": [
      "Enter string:sdfsd\n",
      "sdfsd does not contains special symbols\n"
     ]
    }
   ],
   "source": [
    "s=input(\"Enter string:\")\n",
    "if s.isalnum():\n",
    "    print(f\"{s} does not contains special symbols\")\n",
    "else:\n",
    "    print(f\"{s} contains special symbols\")"
   ]
  },
  {
   "cell_type": "code",
   "execution_count": 46,
   "metadata": {},
   "outputs": [
    {
     "name": "stdout",
     "output_type": "stream",
     "text": [
      "Enter string:423234\n",
      "423234 does not contains special symbols\n"
     ]
    }
   ],
   "source": [
    "s=input(\"Enter string:\")\n",
    "if s.isalnum():\n",
    "    print(f\"{s} does not contains special symbols\")\n",
    "else:\n",
    "    print(f\"{s} contains special symbols\")"
   ]
  },
  {
   "cell_type": "code",
   "execution_count": 47,
   "metadata": {},
   "outputs": [
    {
     "name": "stdout",
     "output_type": "stream",
     "text": [
      "Enter string:werew213423\n",
      "werew213423 does not contains special symbols\n"
     ]
    }
   ],
   "source": [
    "s=input(\"Enter string:\")\n",
    "if s.isalnum():\n",
    "    print(f\"{s} does not contains special symbols\")\n",
    "else:\n",
    "    print(f\"{s} contains special symbols\")"
   ]
  },
  {
   "cell_type": "code",
   "execution_count": 48,
   "metadata": {},
   "outputs": [
    {
     "name": "stdout",
     "output_type": "stream",
     "text": [
      "Enter string:sdrfwe$@#2\n",
      "sdrfwe$@#2 contains special symbols\n"
     ]
    }
   ],
   "source": [
    "s=input(\"Enter string:\")\n",
    "if s.isalnum():\n",
    "    print(f\"{s} does not contains special symbols\")\n",
    "else:\n",
    "    print(f\"{s} contains special symbols\")"
   ]
  },
  {
   "cell_type": "code",
   "execution_count": 49,
   "metadata": {},
   "outputs": [
    {
     "name": "stdout",
     "output_type": "stream",
     "text": [
      "Enter string:\n",
      " contains special symbols\n"
     ]
    }
   ],
   "source": [
    "s=input(\"Enter string:\")\n",
    "if s.isalnum():\n",
    "    print(f\"{s} does not contains special symbols\")\n",
    "else:\n",
    "    print(f\"{s} contains special symbols\")"
   ]
  },
  {
   "cell_type": "code",
   "execution_count": 50,
   "metadata": {},
   "outputs": [
    {
     "data": {
      "text/plain": [
       "False"
      ]
     },
     "execution_count": 50,
     "metadata": {},
     "output_type": "execute_result"
    }
   ],
   "source": [
    "s=\"\"\n",
    "s.isalnum()"
   ]
  },
  {
   "cell_type": "code",
   "execution_count": 51,
   "metadata": {},
   "outputs": [
    {
     "name": "stdout",
     "output_type": "stream",
     "text": [
      "Enter string:\n",
      " does not contains special symbols\n"
     ]
    }
   ],
   "source": [
    "s=input(\"Enter string:\")\n",
    "if s:\n",
    "    if s.isalnum():\n",
    "        print(f\"{s} does not contains special symbols\")\n",
    "    else:\n",
    "        print(f\"{s} contains special symbols\")\n",
    "else:\n",
    "    print(f\"{s} does not contains special symbols\")"
   ]
  },
  {
   "cell_type": "code",
   "execution_count": 52,
   "metadata": {},
   "outputs": [
    {
     "data": {
      "text/plain": [
       "True"
      ]
     },
     "execution_count": 52,
     "metadata": {},
     "output_type": "execute_result"
    }
   ],
   "source": [
    "s=\"sdfsdf\"\n",
    "s.isalpha()"
   ]
  },
  {
   "cell_type": "code",
   "execution_count": 53,
   "metadata": {},
   "outputs": [
    {
     "data": {
      "text/plain": [
       "True"
      ]
     },
     "execution_count": 53,
     "metadata": {},
     "output_type": "execute_result"
    }
   ],
   "source": [
    "s=\"sdfsdfSAREQWR\"\n",
    "s.isalpha()"
   ]
  },
  {
   "cell_type": "code",
   "execution_count": 54,
   "metadata": {},
   "outputs": [
    {
     "data": {
      "text/plain": [
       "False"
      ]
     },
     "execution_count": 54,
     "metadata": {},
     "output_type": "execute_result"
    }
   ],
   "source": [
    "s=\"sdfsdf214\"\n",
    "s.isalpha()"
   ]
  },
  {
   "cell_type": "code",
   "execution_count": 55,
   "metadata": {},
   "outputs": [
    {
     "data": {
      "text/plain": [
       "False"
      ]
     },
     "execution_count": 55,
     "metadata": {},
     "output_type": "execute_result"
    }
   ],
   "source": [
    "s=\"sdfsdf#%\"\n",
    "s.isalpha()"
   ]
  },
  {
   "cell_type": "code",
   "execution_count": 56,
   "metadata": {},
   "outputs": [
    {
     "data": {
      "text/plain": [
       "True"
      ]
     },
     "execution_count": 56,
     "metadata": {},
     "output_type": "execute_result"
    }
   ],
   "source": [
    "s=\"ssdf2334723buwhfhO  WERIWE498423452293\"\n",
    "s.isascii()"
   ]
  },
  {
   "cell_type": "code",
   "execution_count": 57,
   "metadata": {},
   "outputs": [
    {
     "data": {
      "text/plain": [
       "False"
      ]
     },
     "execution_count": 57,
     "metadata": {},
     "output_type": "execute_result"
    }
   ],
   "source": [
    "s=\"మీరు ఏలా ఉన్నారు ?\"\n",
    "s.isascii()"
   ]
  },
  {
   "cell_type": "code",
   "execution_count": 58,
   "metadata": {},
   "outputs": [
    {
     "data": {
      "text/plain": [
       "True"
      ]
     },
     "execution_count": 58,
     "metadata": {},
     "output_type": "execute_result"
    }
   ],
   "source": [
    "s=\"\"\n",
    "s.isascii()"
   ]
  },
  {
   "cell_type": "code",
   "execution_count": 59,
   "metadata": {},
   "outputs": [
    {
     "ename": "TypeError",
     "evalue": "ord() expected a character, but string of length 0 found",
     "output_type": "error",
     "traceback": [
      "\u001b[0;31m---------------------------------------------------------------------------\u001b[0m",
      "\u001b[0;31mTypeError\u001b[0m                                 Traceback (most recent call last)",
      "\u001b[0;32m<ipython-input-59-f207c9d5448c>\u001b[0m in \u001b[0;36m<module>\u001b[0;34m()\u001b[0m\n\u001b[0;32m----> 1\u001b[0;31m \u001b[0mord\u001b[0m\u001b[0;34m(\u001b[0m\u001b[0;34m\"\"\u001b[0m\u001b[0;34m)\u001b[0m\u001b[0;34m\u001b[0m\u001b[0m\n\u001b[0m",
      "\u001b[0;31mTypeError\u001b[0m: ord() expected a character, but string of length 0 found"
     ]
    }
   ],
   "source": [
    "ord(\"\")"
   ]
  },
  {
   "cell_type": "code",
   "execution_count": 60,
   "metadata": {},
   "outputs": [
    {
     "name": "stdout",
     "output_type": "stream",
     "text": [
      "True\n",
      "True\n",
      "True\n"
     ]
    }
   ],
   "source": [
    "s=\"12345\"\n",
    "print(s.isdecimal())\n",
    "print(s.isdigit())\n",
    "print(s.isnumeric())"
   ]
  },
  {
   "cell_type": "code",
   "execution_count": 61,
   "metadata": {},
   "outputs": [
    {
     "name": "stdout",
     "output_type": "stream",
     "text": [
      "False\n",
      "False\n",
      "False\n"
     ]
    }
   ],
   "source": [
    "s=\"12.345\"\n",
    "print(s.isdecimal())\n",
    "print(s.isdigit())\n",
    "print(s.isnumeric())"
   ]
  },
  {
   "cell_type": "code",
   "execution_count": 63,
   "metadata": {},
   "outputs": [
    {
     "name": "stdout",
     "output_type": "stream",
     "text": [
      "False\n",
      "False\n",
      "False\n"
     ]
    }
   ],
   "source": [
    "s=\"12345123wwerw\"\n",
    "print(s.isdecimal())\n",
    "print(s.isdigit())\n",
    "print(s.isnumeric())"
   ]
  },
  {
   "cell_type": "code",
   "execution_count": 64,
   "metadata": {},
   "outputs": [
    {
     "name": "stdout",
     "output_type": "stream",
     "text": [
      "False\n",
      "True\n",
      "True\n"
     ]
    }
   ],
   "source": [
    "s=\"2³\"\n",
    "print(s.isdecimal())\n",
    "print(s.isdigit())\n",
    "print(s.isnumeric())"
   ]
  },
  {
   "cell_type": "code",
   "execution_count": 66,
   "metadata": {},
   "outputs": [
    {
     "name": "stdout",
     "output_type": "stream",
     "text": [
      "True\n",
      "True\n",
      "True\n"
     ]
    }
   ],
   "source": [
    "s=\"१४\"\n",
    "print(s.isdecimal())\n",
    "print(s.isdigit())\n",
    "print(s.isnumeric())"
   ]
  },
  {
   "cell_type": "code",
   "execution_count": 67,
   "metadata": {},
   "outputs": [
    {
     "name": "stdout",
     "output_type": "stream",
     "text": [
      "False\n",
      "False\n",
      "True\n"
     ]
    }
   ],
   "source": [
    "s=\"四\"\n",
    "print(s.isdecimal())\n",
    "print(s.isdigit())\n",
    "print(s.isnumeric())"
   ]
  },
  {
   "cell_type": "code",
   "execution_count": 68,
   "metadata": {},
   "outputs": [],
   "source": [
    "# what are the language number is not recognized by all functions."
   ]
  },
  {
   "cell_type": "code",
   "execution_count": 69,
   "metadata": {},
   "outputs": [
    {
     "ename": "ValueError",
     "evalue": "invalid literal for int() with base 10: '四'",
     "output_type": "error",
     "traceback": [
      "\u001b[0;31m---------------------------------------------------------------------------\u001b[0m",
      "\u001b[0;31mValueError\u001b[0m                                Traceback (most recent call last)",
      "\u001b[0;32m<ipython-input-69-2e550423e7d4>\u001b[0m in \u001b[0;36m<module>\u001b[0;34m()\u001b[0m\n\u001b[1;32m      1\u001b[0m \u001b[0ms\u001b[0m\u001b[0;34m=\u001b[0m\u001b[0;34m\"四\"\u001b[0m\u001b[0;34m\u001b[0m\u001b[0m\n\u001b[0;32m----> 2\u001b[0;31m \u001b[0mprint\u001b[0m\u001b[0;34m(\u001b[0m\u001b[0mint\u001b[0m\u001b[0;34m(\u001b[0m\u001b[0ms\u001b[0m\u001b[0;34m)\u001b[0m\u001b[0;34m)\u001b[0m\u001b[0;34m\u001b[0m\u001b[0m\n\u001b[0m",
      "\u001b[0;31mValueError\u001b[0m: invalid literal for int() with base 10: '四'"
     ]
    }
   ],
   "source": [
    "s=\"四\"\n",
    "print(int(s))"
   ]
  },
  {
   "cell_type": "code",
   "execution_count": 70,
   "metadata": {},
   "outputs": [
    {
     "data": {
      "text/plain": [
       "True"
      ]
     },
     "execution_count": 70,
     "metadata": {},
     "output_type": "execute_result"
    }
   ],
   "source": [
    "s=\"for\"\n",
    "s.isidentifier()"
   ]
  },
  {
   "cell_type": "code",
   "execution_count": 71,
   "metadata": {},
   "outputs": [
    {
     "data": {
      "text/plain": [
       "True"
      ]
     },
     "execution_count": 71,
     "metadata": {},
     "output_type": "execute_result"
    }
   ],
   "source": [
    "s=\"product_name\"\n",
    "s.isidentifier()"
   ]
  },
  {
   "cell_type": "code",
   "execution_count": 72,
   "metadata": {},
   "outputs": [
    {
     "data": {
      "text/plain": [
       "False"
      ]
     },
     "execution_count": 72,
     "metadata": {},
     "output_type": "execute_result"
    }
   ],
   "source": [
    "s=\"1product_name\"\n",
    "s.isidentifier()"
   ]
  },
  {
   "cell_type": "code",
   "execution_count": 73,
   "metadata": {},
   "outputs": [
    {
     "data": {
      "text/plain": [
       "True"
      ]
     },
     "execution_count": 73,
     "metadata": {},
     "output_type": "execute_result"
    }
   ],
   "source": [
    "s=\"product_name1234\"\n",
    "s.isidentifier()"
   ]
  },
  {
   "cell_type": "code",
   "execution_count": 74,
   "metadata": {},
   "outputs": [
    {
     "name": "stdout",
     "output_type": "stream",
     "text": [
      "True\n"
     ]
    }
   ],
   "source": [
    "s=\"sdfsdf\"\n",
    "print(s.islower())"
   ]
  },
  {
   "cell_type": "code",
   "execution_count": 75,
   "metadata": {},
   "outputs": [
    {
     "name": "stdout",
     "output_type": "stream",
     "text": [
      "False\n"
     ]
    }
   ],
   "source": [
    "s=\"sdfsdfQ\"\n",
    "print(s.islower())"
   ]
  },
  {
   "cell_type": "code",
   "execution_count": 76,
   "metadata": {},
   "outputs": [
    {
     "name": "stdout",
     "output_type": "stream",
     "text": [
      "True\n"
     ]
    }
   ],
   "source": [
    "s=\"sdfsdf1243143\"\n",
    "print(s.islower())"
   ]
  },
  {
   "cell_type": "code",
   "execution_count": 77,
   "metadata": {},
   "outputs": [
    {
     "name": "stdout",
     "output_type": "stream",
     "text": [
      "False\n"
     ]
    }
   ],
   "source": [
    "s=\"1243143\"\n",
    "print(s.islower())"
   ]
  },
  {
   "cell_type": "code",
   "execution_count": 78,
   "metadata": {},
   "outputs": [
    {
     "data": {
      "text/plain": [
       "True"
      ]
     },
     "execution_count": 78,
     "metadata": {},
     "output_type": "execute_result"
    }
   ],
   "source": [
    "s=\"sjdklfj dsfj wjoejr\"\n",
    "s.isprintable()"
   ]
  },
  {
   "cell_type": "code",
   "execution_count": 79,
   "metadata": {},
   "outputs": [
    {
     "data": {
      "text/plain": [
       "False"
      ]
     },
     "execution_count": 79,
     "metadata": {},
     "output_type": "execute_result"
    }
   ],
   "source": [
    "s=\"sjdklfj\\ndsfj wjoejr\"\n",
    "s.isprintable()"
   ]
  },
  {
   "cell_type": "code",
   "execution_count": 80,
   "metadata": {},
   "outputs": [
    {
     "data": {
      "text/plain": [
       "False"
      ]
     },
     "execution_count": 80,
     "metadata": {},
     "output_type": "execute_result"
    }
   ],
   "source": [
    "s=\"python program\"\n",
    "s.isspace()"
   ]
  },
  {
   "cell_type": "code",
   "execution_count": 81,
   "metadata": {},
   "outputs": [
    {
     "data": {
      "text/plain": [
       "True"
      ]
     },
     "execution_count": 81,
     "metadata": {},
     "output_type": "execute_result"
    }
   ],
   "source": [
    "s=\"    \"\n",
    "s.isspace()"
   ]
  },
  {
   "cell_type": "code",
   "execution_count": 83,
   "metadata": {},
   "outputs": [
    {
     "data": {
      "text/plain": [
       "True"
      ]
     },
     "execution_count": 83,
     "metadata": {},
     "output_type": "execute_result"
    }
   ],
   "source": [
    "s=\"Python Program\"\n",
    "s.istitle()"
   ]
  },
  {
   "cell_type": "code",
   "execution_count": 84,
   "metadata": {},
   "outputs": [
    {
     "data": {
      "text/plain": [
       "False"
      ]
     },
     "execution_count": 84,
     "metadata": {},
     "output_type": "execute_result"
    }
   ],
   "source": [
    "s=\"Pyt1hon Pro$gram\"\n",
    "s.istitle()"
   ]
  },
  {
   "cell_type": "code",
   "execution_count": 85,
   "metadata": {},
   "outputs": [
    {
     "data": {
      "text/plain": [
       "True"
      ]
     },
     "execution_count": 85,
     "metadata": {},
     "output_type": "execute_result"
    }
   ],
   "source": [
    "s=\"Pyt1Hon Pro$Gram\"\n",
    "s.istitle()"
   ]
  },
  {
   "cell_type": "code",
   "execution_count": 87,
   "metadata": {},
   "outputs": [
    {
     "name": "stdout",
     "output_type": "stream",
     "text": [
      "   user    name   \n",
      "user    name\n"
     ]
    }
   ],
   "source": [
    "s=\"   user    name   \"\n",
    "print(s)\n",
    "print(s.strip())"
   ]
  },
  {
   "cell_type": "code",
   "execution_count": 88,
   "metadata": {},
   "outputs": [
    {
     "data": {
      "text/plain": [
       "0"
      ]
     },
     "execution_count": 88,
     "metadata": {},
     "output_type": "execute_result"
    }
   ],
   "source": [
    "s=\"python\"\n",
    "s.count('pt')"
   ]
  },
  {
   "cell_type": "code",
   "execution_count": 89,
   "metadata": {},
   "outputs": [
    {
     "data": {
      "text/plain": [
       "'@#$user#$@name$#@'"
      ]
     },
     "execution_count": 89,
     "metadata": {},
     "output_type": "execute_result"
    }
   ],
   "source": [
    "s=\"@#$user#$@name$#@\"\n",
    "s.strip()"
   ]
  },
  {
   "cell_type": "code",
   "execution_count": 90,
   "metadata": {},
   "outputs": [
    {
     "data": {
      "text/plain": [
       "'@#$user#$@name$#@'"
      ]
     },
     "execution_count": 90,
     "metadata": {},
     "output_type": "execute_result"
    }
   ],
   "source": [
    "s=\"@#$user#$@name$#@\"\n",
    "s.strip(\"#\")"
   ]
  },
  {
   "cell_type": "code",
   "execution_count": 91,
   "metadata": {},
   "outputs": [
    {
     "data": {
      "text/plain": [
       "'#$user#$@name$#'"
      ]
     },
     "execution_count": 91,
     "metadata": {},
     "output_type": "execute_result"
    }
   ],
   "source": [
    "s=\"@#$user#$@name$#@\"\n",
    "s.strip(\"@\")"
   ]
  },
  {
   "cell_type": "code",
   "execution_count": 92,
   "metadata": {},
   "outputs": [
    {
     "data": {
      "text/plain": [
       "'$user#$@name$'"
      ]
     },
     "execution_count": 92,
     "metadata": {},
     "output_type": "execute_result"
    }
   ],
   "source": [
    "s=\"@#$user#$@name$#@\"\n",
    "s.strip(\"#@\")"
   ]
  },
  {
   "cell_type": "code",
   "execution_count": 93,
   "metadata": {},
   "outputs": [
    {
     "data": {
      "text/plain": [
       "'#$user#$@name$#'"
      ]
     },
     "execution_count": 93,
     "metadata": {},
     "output_type": "execute_result"
    }
   ],
   "source": [
    "s=\"@#$user#$@name$#@\"\n",
    "s.strip(\"$@\")"
   ]
  },
  {
   "cell_type": "code",
   "execution_count": 94,
   "metadata": {},
   "outputs": [
    {
     "data": {
      "text/plain": [
       "'user#$@name'"
      ]
     },
     "execution_count": 94,
     "metadata": {},
     "output_type": "execute_result"
    }
   ],
   "source": [
    "s=\"@#$user#$@name$#@\"\n",
    "s.strip(\"$@#\")"
   ]
  },
  {
   "cell_type": "code",
   "execution_count": 95,
   "metadata": {},
   "outputs": [
    {
     "data": {
      "text/plain": [
       "' @#$user#$@name$#@ '"
      ]
     },
     "execution_count": 95,
     "metadata": {},
     "output_type": "execute_result"
    }
   ],
   "source": [
    "s=\" @#$user#$@name$#@ \"\n",
    "s.strip(\"$@#\")"
   ]
  },
  {
   "cell_type": "code",
   "execution_count": 96,
   "metadata": {},
   "outputs": [
    {
     "data": {
      "text/plain": [
       "'user#$@name'"
      ]
     },
     "execution_count": 96,
     "metadata": {},
     "output_type": "execute_result"
    }
   ],
   "source": [
    "s=\" @#$user#$@name$#@ \"\n",
    "s.strip(\"$@# \")"
   ]
  },
  {
   "cell_type": "code",
   "execution_count": 98,
   "metadata": {},
   "outputs": [
    {
     "name": "stdout",
     "output_type": "stream",
     "text": [
      "user#$@name\n",
      " @#$user#$@name\n",
      "user#$@name$#@ \n"
     ]
    }
   ],
   "source": [
    "s=\" @#$user#$@name$#@ \"\n",
    "print(s.strip(\"$@# \"))\n",
    "print(s.rstrip(\"@#$ \"))\n",
    "print(s.lstrip(\"#@$ \"))"
   ]
  },
  {
   "cell_type": "code",
   "execution_count": 99,
   "metadata": {},
   "outputs": [
    {
     "data": {
      "text/plain": [
       "'python program'"
      ]
     },
     "execution_count": 99,
     "metadata": {},
     "output_type": "execute_result"
    }
   ],
   "source": [
    "s=\"python program\"\n",
    "\"\"\"\n",
    "p>$, o->@, t->#\n",
    "\"\"\"\n",
    "s.replace(\"pot\",\"$@#\")"
   ]
  },
  {
   "cell_type": "code",
   "execution_count": 100,
   "metadata": {},
   "outputs": [
    {
     "name": "stdout",
     "output_type": "stream",
     "text": [
      "112\n"
     ]
    }
   ],
   "source": [
    "s=\"python program\"\n",
    "\"\"\"\n",
    "p>$, o->@, t->#\n",
    "\"\"\"\n",
    "#s.replace(\"pot\",\"$@#\")\n",
    "print(ord(\"p\"))"
   ]
  },
  {
   "cell_type": "code",
   "execution_count": 101,
   "metadata": {},
   "outputs": [
    {
     "name": "stdout",
     "output_type": "stream",
     "text": [
      "36\n"
     ]
    }
   ],
   "source": [
    "print(ord(\"$\"))"
   ]
  },
  {
   "cell_type": "code",
   "execution_count": 102,
   "metadata": {},
   "outputs": [
    {
     "data": {
      "text/plain": [
       "'$ython $rogram'"
      ]
     },
     "execution_count": 102,
     "metadata": {},
     "output_type": "execute_result"
    }
   ],
   "source": [
    "s=\"python program\"\n",
    "\"\"\"\n",
    "p>$, o->@, t->#\n",
    "\"\"\"\n",
    "#s.replace(\"pot\",\"$@#\")\n",
    "s.translate({112:36})"
   ]
  },
  {
   "cell_type": "code",
   "execution_count": 104,
   "metadata": {},
   "outputs": [
    {
     "data": {
      "text/plain": [
       "{112: 36, 111: 64, 116: 35}"
      ]
     },
     "execution_count": 104,
     "metadata": {},
     "output_type": "execute_result"
    }
   ],
   "source": [
    "s=\"python program\"\n",
    "\"\"\"\n",
    "p>$, o->@, t->#\n",
    "\"\"\"\n",
    "#s.replace(\"pot\",\"$@#\")\n",
    "table = \"\".maketrans(\"pot\",\"$@#\")\n",
    "table"
   ]
  },
  {
   "cell_type": "code",
   "execution_count": 105,
   "metadata": {},
   "outputs": [
    {
     "data": {
      "text/plain": [
       "'$y#h@n $r@gram'"
      ]
     },
     "execution_count": 105,
     "metadata": {},
     "output_type": "execute_result"
    }
   ],
   "source": [
    "s=\"python program\"\n",
    "\"\"\"\n",
    "p>$, o->@, t->#\n",
    "\"\"\"\n",
    "#s.replace(\"pot\",\"$@#\")\n",
    "table = \"\".maketrans(\"pot\",\"$@#\")\n",
    "s.translate(table)"
   ]
  },
  {
   "cell_type": "code",
   "execution_count": null,
   "metadata": {},
   "outputs": [],
   "source": []
  }
 ],
 "metadata": {
  "kernelspec": {
   "display_name": "Python 3",
   "language": "python",
   "name": "python3"
  },
  "language_info": {
   "codemirror_mode": {
    "name": "ipython",
    "version": 3
   },
   "file_extension": ".py",
   "mimetype": "text/x-python",
   "name": "python",
   "nbconvert_exporter": "python",
   "pygments_lexer": "ipython3",
   "version": "3.7.0"
  }
 },
 "nbformat": 4,
 "nbformat_minor": 2
}
