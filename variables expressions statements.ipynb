{
 "cells": [
  {
   "cell_type": "code",
   "execution_count": 1,
   "metadata": {},
   "outputs": [
    {
     "name": "stdout",
     "output_type": "stream",
     "text": [
      "1000 <class 'int'>\n",
      "12.34 <class 'float'>\n",
      "(1+2j) <class 'complex'>\n",
      "True <class 'bool'>\n",
      "[1, 2, 3, 4] <class 'list'>\n",
      "(1, 2, 3, 4) <class 'tuple'>\n",
      "{1, 2, 3, 4} <class 'set'>\n",
      "{'name': 'anil', 'age': 23} <class 'dict'>\n",
      "python <class 'str'>\n",
      "None <class 'NoneType'>\n"
     ]
    }
   ],
   "source": [
    "a=1000\n",
    "print(a, type(a))\n",
    "a=12.34\n",
    "print(a, type(a))\n",
    "a=1+2j\n",
    "print(a, type(a))\n",
    "a=True\n",
    "print(a, type(a))\n",
    "a=[1,2,3,4]\n",
    "print(a, type(a))\n",
    "a=(1,2,3,4)\n",
    "print(a, type(a))\n",
    "a={1,2,3,4}\n",
    "print(a, type(a))\n",
    "a={\"name\":\"anil\",\"age\":23}\n",
    "print(a, type(a))\n",
    "a=\"python\"\n",
    "print(a, type(a))\n",
    "a=None\n",
    "print(a, type(a))"
   ]
  },
  {
   "cell_type": "code",
   "execution_count": 2,
   "metadata": {},
   "outputs": [],
   "source": [
    "a=1000\n",
    "b=2000\n",
    "c=a\n",
    "d=1000\n",
    "s=\"python\"\n",
    "s1=s\n",
    "k=\"apple\"\n",
    "l=[1000,2000,a,b]"
   ]
  },
  {
   "cell_type": "code",
   "execution_count": 3,
   "metadata": {},
   "outputs": [
    {
     "name": "stdout",
     "output_type": "stream",
     "text": [
      "[1000, 2000]\n"
     ]
    }
   ],
   "source": [
    "l=[1000,2000]\n",
    "print(l)"
   ]
  },
  {
   "cell_type": "code",
   "execution_count": 5,
   "metadata": {},
   "outputs": [
    {
     "name": "stdout",
     "output_type": "stream",
     "text": [
      "[1000, 2000]\n"
     ]
    }
   ],
   "source": [
    "a=1000\n",
    "b=2000\n",
    "l=[a,b]\n",
    "print(l)"
   ]
  },
  {
   "cell_type": "code",
   "execution_count": 6,
   "metadata": {},
   "outputs": [],
   "source": [
    "s=\"python\""
   ]
  },
  {
   "cell_type": "code",
   "execution_count": 7,
   "metadata": {},
   "outputs": [
    {
     "data": {
      "text/plain": [
       "str"
      ]
     },
     "execution_count": 7,
     "metadata": {},
     "output_type": "execute_result"
    }
   ],
   "source": [
    "type(s)"
   ]
  },
  {
   "cell_type": "code",
   "execution_count": 8,
   "metadata": {},
   "outputs": [
    {
     "data": {
      "text/plain": [
       "'p'"
      ]
     },
     "execution_count": 8,
     "metadata": {},
     "output_type": "execute_result"
    }
   ],
   "source": [
    "s[0]"
   ]
  },
  {
   "cell_type": "code",
   "execution_count": 9,
   "metadata": {},
   "outputs": [
    {
     "data": {
      "text/plain": [
       "str"
      ]
     },
     "execution_count": 9,
     "metadata": {},
     "output_type": "execute_result"
    }
   ],
   "source": [
    "type(s[0])"
   ]
  },
  {
   "cell_type": "code",
   "execution_count": 10,
   "metadata": {},
   "outputs": [
    {
     "name": "stdout",
     "output_type": "stream",
     "text": [
      "1000 1000\n",
      "5000 1000\n"
     ]
    }
   ],
   "source": [
    "a=1000\n",
    "c=a\n",
    "print(a,c)\n",
    "a=5000\n",
    "print(a,c)"
   ]
  },
  {
   "cell_type": "code",
   "execution_count": 11,
   "metadata": {},
   "outputs": [
    {
     "name": "stdout",
     "output_type": "stream",
     "text": [
      "[1000, 2000]\n",
      "[1000, 2000]\n"
     ]
    }
   ],
   "source": [
    "a=1000\n",
    "b=2000\n",
    "l=[a,b]\n",
    "print(l)\n",
    "a=5000\n",
    "b=6000\n",
    "print(l)"
   ]
  },
  {
   "cell_type": "code",
   "execution_count": 1,
   "metadata": {},
   "outputs": [
    {
     "name": "stdout",
     "output_type": "stream",
     "text": [
      "2000\n"
     ]
    }
   ],
   "source": [
    "a=1000\n",
    "a=2000\n",
    "c=a\n",
    "print(c)"
   ]
  },
  {
   "cell_type": "code",
   "execution_count": 2,
   "metadata": {},
   "outputs": [
    {
     "data": {
      "text/plain": [
       "(4+6j)"
      ]
     },
     "execution_count": 2,
     "metadata": {},
     "output_type": "execute_result"
    }
   ],
   "source": [
    "1+2j+3+4j"
   ]
  },
  {
   "cell_type": "code",
   "execution_count": 3,
   "metadata": {},
   "outputs": [
    {
     "data": {
      "text/plain": [
       "'str1str2'"
      ]
     },
     "execution_count": 3,
     "metadata": {},
     "output_type": "execute_result"
    }
   ],
   "source": [
    "\"str1\"+\"str2\""
   ]
  },
  {
   "cell_type": "code",
   "execution_count": 4,
   "metadata": {},
   "outputs": [
    {
     "data": {
      "text/plain": [
       "30"
      ]
     },
     "execution_count": 4,
     "metadata": {},
     "output_type": "execute_result"
    }
   ],
   "source": [
    "10+20"
   ]
  },
  {
   "cell_type": "code",
   "execution_count": 5,
   "metadata": {},
   "outputs": [
    {
     "ename": "TypeError",
     "evalue": "unsupported operand type(s) for +: 'int' and 'str'",
     "output_type": "error",
     "traceback": [
      "\u001b[0;31m---------------------------------------------------------------------------\u001b[0m",
      "\u001b[0;31mTypeError\u001b[0m                                 Traceback (most recent call last)",
      "\u001b[0;32m<ipython-input-5-57471f56faec>\u001b[0m in \u001b[0;36m<module>\u001b[0;34m()\u001b[0m\n\u001b[0;32m----> 1\u001b[0;31m \u001b[0;36m10\u001b[0m\u001b[0;34m+\u001b[0m\u001b[0;34m\"str1\"\u001b[0m\u001b[0;34m\u001b[0m\u001b[0m\n\u001b[0m",
      "\u001b[0;31mTypeError\u001b[0m: unsupported operand type(s) for +: 'int' and 'str'"
     ]
    }
   ],
   "source": [
    "10+\"str1\""
   ]
  },
  {
   "cell_type": "code",
   "execution_count": 6,
   "metadata": {},
   "outputs": [
    {
     "data": {
      "text/plain": [
       "'str1str1'"
      ]
     },
     "execution_count": 6,
     "metadata": {},
     "output_type": "execute_result"
    }
   ],
   "source": [
    "2*\"str1\""
   ]
  },
  {
   "cell_type": "code",
   "execution_count": 7,
   "metadata": {},
   "outputs": [
    {
     "data": {
      "text/plain": [
       "'********************'"
      ]
     },
     "execution_count": 7,
     "metadata": {},
     "output_type": "execute_result"
    }
   ],
   "source": [
    "\"*\"*20"
   ]
  },
  {
   "cell_type": "code",
   "execution_count": 8,
   "metadata": {},
   "outputs": [
    {
     "data": {
      "text/plain": [
       "'pytohnpytohnpytohnpytohnpytohnpytohnpytohnpytohnpytohnpytohnpytohnpytohnpytohnpytohnpytohnpytohnpytohnpytohnpytohnpytohn'"
      ]
     },
     "execution_count": 8,
     "metadata": {},
     "output_type": "execute_result"
    }
   ],
   "source": [
    "\"pytohn\"*20"
   ]
  },
  {
   "cell_type": "code",
   "execution_count": 9,
   "metadata": {},
   "outputs": [],
   "source": [
    "# arthmatic: +,-,*,/,//,**,%\n",
    "#boolean operations: >,<,>=,<=,==,!=, is , in, not"
   ]
  },
  {
   "cell_type": "code",
   "execution_count": 10,
   "metadata": {},
   "outputs": [
    {
     "name": "stdout",
     "output_type": "stream",
     "text": [
      "30\n"
     ]
    }
   ],
   "source": [
    "a=10\n",
    "b=20\n",
    "print(a+b)"
   ]
  },
  {
   "cell_type": "code",
   "execution_count": 11,
   "metadata": {},
   "outputs": [
    {
     "name": "stdout",
     "output_type": "stream",
     "text": [
      "-10\n"
     ]
    }
   ],
   "source": [
    "print(a-b)"
   ]
  },
  {
   "cell_type": "code",
   "execution_count": 12,
   "metadata": {},
   "outputs": [
    {
     "name": "stdout",
     "output_type": "stream",
     "text": [
      "200\n"
     ]
    }
   ],
   "source": [
    "print(a*b)"
   ]
  },
  {
   "cell_type": "code",
   "execution_count": 13,
   "metadata": {},
   "outputs": [
    {
     "name": "stdout",
     "output_type": "stream",
     "text": [
      "False\n"
     ]
    }
   ],
   "source": [
    "print(a>b)"
   ]
  },
  {
   "cell_type": "code",
   "execution_count": 14,
   "metadata": {},
   "outputs": [],
   "source": [
    "a=12.34\n",
    "b=34.56\n"
   ]
  },
  {
   "cell_type": "code",
   "execution_count": 15,
   "metadata": {},
   "outputs": [
    {
     "name": "stdout",
     "output_type": "stream",
     "text": [
      "1000\n"
     ]
    }
   ],
   "source": [
    "cost_price=2000\n",
    "sales_price=3000\n",
    "print(sales_price-cost_price)"
   ]
  },
  {
   "cell_type": "code",
   "execution_count": 16,
   "metadata": {},
   "outputs": [
    {
     "name": "stdout",
     "output_type": "stream",
     "text": [
      "Enter cost price4000\n",
      "enter sales price3000\n"
     ]
    },
    {
     "ename": "TypeError",
     "evalue": "unsupported operand type(s) for -: 'str' and 'str'",
     "output_type": "error",
     "traceback": [
      "\u001b[0;31m---------------------------------------------------------------------------\u001b[0m",
      "\u001b[0;31mTypeError\u001b[0m                                 Traceback (most recent call last)",
      "\u001b[0;32m<ipython-input-16-7175fc826727>\u001b[0m in \u001b[0;36m<module>\u001b[0;34m()\u001b[0m\n\u001b[1;32m      1\u001b[0m \u001b[0mcost_price\u001b[0m\u001b[0;34m=\u001b[0m\u001b[0minput\u001b[0m\u001b[0;34m(\u001b[0m\u001b[0;34m\"Enter cost price\"\u001b[0m\u001b[0;34m)\u001b[0m\u001b[0;34m\u001b[0m\u001b[0m\n\u001b[1;32m      2\u001b[0m \u001b[0msales_price\u001b[0m\u001b[0;34m=\u001b[0m\u001b[0minput\u001b[0m\u001b[0;34m(\u001b[0m\u001b[0;34m\"enter sales price\"\u001b[0m\u001b[0;34m)\u001b[0m\u001b[0;34m\u001b[0m\u001b[0m\n\u001b[0;32m----> 3\u001b[0;31m \u001b[0mprint\u001b[0m\u001b[0;34m(\u001b[0m\u001b[0msales_price\u001b[0m\u001b[0;34m-\u001b[0m\u001b[0mcost_price\u001b[0m\u001b[0;34m)\u001b[0m\u001b[0;34m\u001b[0m\u001b[0m\n\u001b[0m",
      "\u001b[0;31mTypeError\u001b[0m: unsupported operand type(s) for -: 'str' and 'str'"
     ]
    }
   ],
   "source": [
    "cost_price=input(\"Enter cost price\")\n",
    "sales_price=input(\"enter sales price\")\n",
    "print(sales_price-cost_price)"
   ]
  },
  {
   "cell_type": "code",
   "execution_count": 17,
   "metadata": {},
   "outputs": [
    {
     "name": "stdout",
     "output_type": "stream",
     "text": [
      "Enter cost price234\n",
      "234 <class 'str'>\n"
     ]
    }
   ],
   "source": [
    "cost_price=input(\"Enter cost price\")\n",
    "print(cost_price, type(cost_price))"
   ]
  },
  {
   "cell_type": "code",
   "execution_count": 18,
   "metadata": {},
   "outputs": [
    {
     "name": "stdout",
     "output_type": "stream",
     "text": [
      "234 <class 'str'>\n"
     ]
    }
   ],
   "source": [
    "cost_price=\"234\"\n",
    "print(cost_price, type(cost_price))"
   ]
  },
  {
   "cell_type": "code",
   "execution_count": 19,
   "metadata": {},
   "outputs": [
    {
     "name": "stdout",
     "output_type": "stream",
     "text": [
      "234 <class 'int'>\n"
     ]
    }
   ],
   "source": [
    "cost_price=234\n",
    "print(cost_price, type(cost_price))"
   ]
  },
  {
   "cell_type": "code",
   "execution_count": 20,
   "metadata": {},
   "outputs": [
    {
     "name": "stdout",
     "output_type": "stream",
     "text": [
      "234.0 <class 'float'>\n"
     ]
    }
   ],
   "source": [
    "cost_price=234.0\n",
    "print(cost_price, type(cost_price))"
   ]
  },
  {
   "cell_type": "code",
   "execution_count": 21,
   "metadata": {},
   "outputs": [
    {
     "data": {
      "text/plain": [
       "1000"
      ]
     },
     "execution_count": 21,
     "metadata": {},
     "output_type": "execute_result"
    }
   ],
   "source": [
    "4000-3000"
   ]
  },
  {
   "cell_type": "code",
   "execution_count": 22,
   "metadata": {},
   "outputs": [
    {
     "ename": "TypeError",
     "evalue": "unsupported operand type(s) for -: 'str' and 'str'",
     "output_type": "error",
     "traceback": [
      "\u001b[0;31m---------------------------------------------------------------------------\u001b[0m",
      "\u001b[0;31mTypeError\u001b[0m                                 Traceback (most recent call last)",
      "\u001b[0;32m<ipython-input-22-e91b3875dce1>\u001b[0m in \u001b[0;36m<module>\u001b[0;34m()\u001b[0m\n\u001b[0;32m----> 1\u001b[0;31m \u001b[0;34m\"4000\"\u001b[0m\u001b[0;34m-\u001b[0m\u001b[0;34m\"3000\"\u001b[0m\u001b[0;34m\u001b[0m\u001b[0m\n\u001b[0m",
      "\u001b[0;31mTypeError\u001b[0m: unsupported operand type(s) for -: 'str' and 'str'"
     ]
    }
   ],
   "source": [
    "\"4000\"-\"3000\""
   ]
  },
  {
   "cell_type": "code",
   "execution_count": 23,
   "metadata": {},
   "outputs": [
    {
     "name": "stdout",
     "output_type": "stream",
     "text": [
      "123 <class 'int'>\n"
     ]
    }
   ],
   "source": [
    "s=\"123\"\n",
    "b=int(s)\n",
    "print(b, type(b))"
   ]
  },
  {
   "cell_type": "code",
   "execution_count": 24,
   "metadata": {},
   "outputs": [
    {
     "name": "stdout",
     "output_type": "stream",
     "text": [
      "536 <class 'int'>\n",
      "536\n"
     ]
    }
   ],
   "source": [
    "s=\"536\"\n",
    "b=int(s)\n",
    "print(b, type(b))\n",
    "print(6*10**0+3*10**1+5*10**2)"
   ]
  },
  {
   "cell_type": "code",
   "execution_count": 25,
   "metadata": {},
   "outputs": [
    {
     "ename": "ValueError",
     "evalue": "invalid literal for int() with base 10: '536.72'",
     "output_type": "error",
     "traceback": [
      "\u001b[0;31m---------------------------------------------------------------------------\u001b[0m",
      "\u001b[0;31mValueError\u001b[0m                                Traceback (most recent call last)",
      "\u001b[0;32m<ipython-input-25-fbd0fe32d564>\u001b[0m in \u001b[0;36m<module>\u001b[0;34m()\u001b[0m\n\u001b[1;32m      1\u001b[0m \u001b[0ms\u001b[0m\u001b[0;34m=\u001b[0m\u001b[0;34m\"536.72\"\u001b[0m\u001b[0;34m\u001b[0m\u001b[0m\n\u001b[0;32m----> 2\u001b[0;31m \u001b[0mb\u001b[0m\u001b[0;34m=\u001b[0m\u001b[0mint\u001b[0m\u001b[0;34m(\u001b[0m\u001b[0ms\u001b[0m\u001b[0;34m)\u001b[0m\u001b[0;34m\u001b[0m\u001b[0m\n\u001b[0m\u001b[1;32m      3\u001b[0m \u001b[0mprint\u001b[0m\u001b[0;34m(\u001b[0m\u001b[0mb\u001b[0m\u001b[0;34m,\u001b[0m \u001b[0mtype\u001b[0m\u001b[0;34m(\u001b[0m\u001b[0mb\u001b[0m\u001b[0;34m)\u001b[0m\u001b[0;34m)\u001b[0m\u001b[0;34m\u001b[0m\u001b[0m\n\u001b[1;32m      4\u001b[0m \u001b[0mprint\u001b[0m\u001b[0;34m(\u001b[0m\u001b[0;36m6\u001b[0m\u001b[0;34m*\u001b[0m\u001b[0;36m10\u001b[0m\u001b[0;34m**\u001b[0m\u001b[0;36m0\u001b[0m\u001b[0;34m+\u001b[0m\u001b[0;36m3\u001b[0m\u001b[0;34m*\u001b[0m\u001b[0;36m10\u001b[0m\u001b[0;34m**\u001b[0m\u001b[0;36m1\u001b[0m\u001b[0;34m+\u001b[0m\u001b[0;36m5\u001b[0m\u001b[0;34m*\u001b[0m\u001b[0;36m10\u001b[0m\u001b[0;34m**\u001b[0m\u001b[0;36m2\u001b[0m\u001b[0;34m)\u001b[0m\u001b[0;34m\u001b[0m\u001b[0m\n",
      "\u001b[0;31mValueError\u001b[0m: invalid literal for int() with base 10: '536.72'"
     ]
    }
   ],
   "source": [
    "s=\"536.72\"\n",
    "b=int(s)\n",
    "print(b, type(b))\n",
    "print(6*10**0+3*10**1+5*10**2)"
   ]
  },
  {
   "cell_type": "code",
   "execution_count": 26,
   "metadata": {},
   "outputs": [
    {
     "name": "stdout",
     "output_type": "stream",
     "text": [
      "536.72 <class 'float'>\n"
     ]
    }
   ],
   "source": [
    "s=\"536.72\"\n",
    "b=float(s)\n",
    "print(b, type(b))"
   ]
  },
  {
   "cell_type": "code",
   "execution_count": 27,
   "metadata": {},
   "outputs": [
    {
     "data": {
      "text/plain": [
       "536"
      ]
     },
     "execution_count": 27,
     "metadata": {},
     "output_type": "execute_result"
    }
   ],
   "source": [
    "int(b)"
   ]
  },
  {
   "cell_type": "code",
   "execution_count": 28,
   "metadata": {},
   "outputs": [
    {
     "data": {
      "text/plain": [
       "12"
      ]
     },
     "execution_count": 28,
     "metadata": {},
     "output_type": "execute_result"
    }
   ],
   "source": [
    "int(12.34)"
   ]
  },
  {
   "cell_type": "code",
   "execution_count": 29,
   "metadata": {},
   "outputs": [
    {
     "ename": "ValueError",
     "evalue": "invalid literal for int() with base 10: '12.34'",
     "output_type": "error",
     "traceback": [
      "\u001b[0;31m---------------------------------------------------------------------------\u001b[0m",
      "\u001b[0;31mValueError\u001b[0m                                Traceback (most recent call last)",
      "\u001b[0;32m<ipython-input-29-d096208f9026>\u001b[0m in \u001b[0;36m<module>\u001b[0;34m()\u001b[0m\n\u001b[0;32m----> 1\u001b[0;31m \u001b[0mint\u001b[0m\u001b[0;34m(\u001b[0m\u001b[0;34m\"12.34\"\u001b[0m\u001b[0;34m)\u001b[0m\u001b[0;34m\u001b[0m\u001b[0m\n\u001b[0m",
      "\u001b[0;31mValueError\u001b[0m: invalid literal for int() with base 10: '12.34'"
     ]
    }
   ],
   "source": [
    "int(\"12.34\")"
   ]
  },
  {
   "cell_type": "code",
   "execution_count": 30,
   "metadata": {},
   "outputs": [
    {
     "data": {
      "text/plain": [
       "1.21"
      ]
     },
     "execution_count": 30,
     "metadata": {},
     "output_type": "execute_result"
    }
   ],
   "source": [
    "float(\"1.21\")"
   ]
  },
  {
   "cell_type": "code",
   "execution_count": 31,
   "metadata": {},
   "outputs": [
    {
     "ename": "ValueError",
     "evalue": "could not convert string to float: '34.56.78'",
     "output_type": "error",
     "traceback": [
      "\u001b[0;31m---------------------------------------------------------------------------\u001b[0m",
      "\u001b[0;31mValueError\u001b[0m                                Traceback (most recent call last)",
      "\u001b[0;32m<ipython-input-31-8ae636dc91d8>\u001b[0m in \u001b[0;36m<module>\u001b[0;34m()\u001b[0m\n\u001b[0;32m----> 1\u001b[0;31m \u001b[0mfloat\u001b[0m\u001b[0;34m(\u001b[0m\u001b[0;34m\"34.56.78\"\u001b[0m\u001b[0;34m)\u001b[0m\u001b[0;34m\u001b[0m\u001b[0m\n\u001b[0m",
      "\u001b[0;31mValueError\u001b[0m: could not convert string to float: '34.56.78'"
     ]
    }
   ],
   "source": [
    "float(\"34.56.78\")"
   ]
  },
  {
   "cell_type": "code",
   "execution_count": 32,
   "metadata": {},
   "outputs": [
    {
     "ename": "ValueError",
     "evalue": "invalid literal for int() with base 10: '23a'",
     "output_type": "error",
     "traceback": [
      "\u001b[0;31m---------------------------------------------------------------------------\u001b[0m",
      "\u001b[0;31mValueError\u001b[0m                                Traceback (most recent call last)",
      "\u001b[0;32m<ipython-input-32-9709af430b26>\u001b[0m in \u001b[0;36m<module>\u001b[0;34m()\u001b[0m\n\u001b[0;32m----> 1\u001b[0;31m \u001b[0mint\u001b[0m\u001b[0;34m(\u001b[0m\u001b[0;34m\"23a\"\u001b[0m\u001b[0;34m)\u001b[0m\u001b[0;34m\u001b[0m\u001b[0m\n\u001b[0m",
      "\u001b[0;31mValueError\u001b[0m: invalid literal for int() with base 10: '23a'"
     ]
    }
   ],
   "source": [
    "int(\"23a\")"
   ]
  },
  {
   "cell_type": "code",
   "execution_count": 33,
   "metadata": {},
   "outputs": [
    {
     "ename": "ValueError",
     "evalue": "could not convert string to float: '23a'",
     "output_type": "error",
     "traceback": [
      "\u001b[0;31m---------------------------------------------------------------------------\u001b[0m",
      "\u001b[0;31mValueError\u001b[0m                                Traceback (most recent call last)",
      "\u001b[0;32m<ipython-input-33-93b5a9f7f904>\u001b[0m in \u001b[0;36m<module>\u001b[0;34m()\u001b[0m\n\u001b[0;32m----> 1\u001b[0;31m \u001b[0mfloat\u001b[0m\u001b[0;34m(\u001b[0m\u001b[0;34m\"23a\"\u001b[0m\u001b[0;34m)\u001b[0m\u001b[0;34m\u001b[0m\u001b[0m\n\u001b[0m",
      "\u001b[0;31mValueError\u001b[0m: could not convert string to float: '23a'"
     ]
    }
   ],
   "source": [
    "float(\"23a\")"
   ]
  },
  {
   "cell_type": "code",
   "execution_count": 34,
   "metadata": {},
   "outputs": [
    {
     "name": "stdout",
     "output_type": "stream",
     "text": [
      "21\n",
      "10101\n"
     ]
    }
   ],
   "source": [
    "a=0b10101\n",
    "print(a)\n",
    "b=10101\n",
    "print(b)"
   ]
  },
  {
   "cell_type": "code",
   "execution_count": 36,
   "metadata": {},
   "outputs": [
    {
     "name": "stdout",
     "output_type": "stream",
     "text": [
      "4660\n"
     ]
    }
   ],
   "source": [
    "a=0x1234\n",
    "print(a)"
   ]
  },
  {
   "cell_type": "code",
   "execution_count": 37,
   "metadata": {},
   "outputs": [
    {
     "name": "stdout",
     "output_type": "stream",
     "text": [
      "668\n"
     ]
    }
   ],
   "source": [
    "b=0o1234\n",
    "print(b)"
   ]
  },
  {
   "cell_type": "code",
   "execution_count": 38,
   "metadata": {},
   "outputs": [
    {
     "name": "stdout",
     "output_type": "stream",
     "text": [
      "0b100100110100\n",
      "0o4464\n",
      "0x934\n"
     ]
    }
   ],
   "source": [
    "a=2356\n",
    "print(bin(a))\n",
    "print(oct(a))\n",
    "print(hex(a))"
   ]
  },
  {
   "cell_type": "code",
   "execution_count": 39,
   "metadata": {},
   "outputs": [
    {
     "name": "stdout",
     "output_type": "stream",
     "text": [
      "24\n"
     ]
    }
   ],
   "source": [
    "a=0o10\n",
    "b=0x10\n",
    "print(a+b)"
   ]
  },
  {
   "cell_type": "code",
   "execution_count": 40,
   "metadata": {},
   "outputs": [
    {
     "name": "stdout",
     "output_type": "stream",
     "text": [
      "0x240c588c7\n"
     ]
    }
   ],
   "source": [
    "a=9676622023\n",
    "print(hex(a))\n"
   ]
  },
  {
   "cell_type": "code",
   "execution_count": 41,
   "metadata": {},
   "outputs": [
    {
     "name": "stdout",
     "output_type": "stream",
     "text": [
      "240c588c7\n"
     ]
    }
   ],
   "source": [
    "a=\"240c588c7\"\n",
    "print(a)"
   ]
  },
  {
   "cell_type": "code",
   "execution_count": 42,
   "metadata": {},
   "outputs": [
    {
     "ename": "ValueError",
     "evalue": "invalid literal for int() with base 10: '240c588c7'",
     "output_type": "error",
     "traceback": [
      "\u001b[0;31m---------------------------------------------------------------------------\u001b[0m",
      "\u001b[0;31mValueError\u001b[0m                                Traceback (most recent call last)",
      "\u001b[0;32m<ipython-input-42-31dc47a72a31>\u001b[0m in \u001b[0;36m<module>\u001b[0;34m()\u001b[0m\n\u001b[1;32m      1\u001b[0m \u001b[0ma\u001b[0m\u001b[0;34m=\u001b[0m\u001b[0;34m\"240c588c7\"\u001b[0m\u001b[0;34m\u001b[0m\u001b[0m\n\u001b[0;32m----> 2\u001b[0;31m \u001b[0mprint\u001b[0m\u001b[0;34m(\u001b[0m\u001b[0mint\u001b[0m\u001b[0;34m(\u001b[0m\u001b[0ma\u001b[0m\u001b[0;34m)\u001b[0m\u001b[0;34m)\u001b[0m\u001b[0;34m\u001b[0m\u001b[0m\n\u001b[0m",
      "\u001b[0;31mValueError\u001b[0m: invalid literal for int() with base 10: '240c588c7'"
     ]
    }
   ],
   "source": [
    "a=\"240c588c7\"\n",
    "print(int(a))"
   ]
  },
  {
   "cell_type": "code",
   "execution_count": 43,
   "metadata": {},
   "outputs": [
    {
     "name": "stdout",
     "output_type": "stream",
     "text": [
      "9676622023\n"
     ]
    }
   ],
   "source": [
    "a=\"240c588c7\"\n",
    "print(int(a,16))"
   ]
  },
  {
   "cell_type": "code",
   "execution_count": 44,
   "metadata": {},
   "outputs": [
    {
     "name": "stdout",
     "output_type": "stream",
     "text": [
      "668\n"
     ]
    }
   ],
   "source": [
    "a=\"1234\"\n",
    "print(int(a,8))"
   ]
  },
  {
   "cell_type": "code",
   "execution_count": 45,
   "metadata": {},
   "outputs": [
    {
     "name": "stdout",
     "output_type": "stream",
     "text": [
      "Enter cost price1200\n",
      "enter sales price1500\n",
      "300.0\n"
     ]
    }
   ],
   "source": [
    "cost_price=input(\"Enter cost price\")\n",
    "sales_price=input(\"enter sales price\")\n",
    "cost_price = float(cost_price)\n",
    "sales_price = float(sales_price)\n",
    "print(sales_price-cost_price)"
   ]
  },
  {
   "cell_type": "code",
   "execution_count": 46,
   "metadata": {},
   "outputs": [
    {
     "name": "stdout",
     "output_type": "stream",
     "text": [
      "Enter number of students:250\n",
      "enter number of seats:50\n",
      "5.0\n"
     ]
    }
   ],
   "source": [
    "total = float(input(\"Enter number of students:\"))\n",
    "seats = float(input(\"enter number of seats:\"))\n",
    "print(total/seats)\n"
   ]
  },
  {
   "cell_type": "code",
   "execution_count": 47,
   "metadata": {},
   "outputs": [
    {
     "name": "stdout",
     "output_type": "stream",
     "text": [
      "Enter number of students:260\n",
      "enter number of seats:50\n",
      "5.2\n"
     ]
    }
   ],
   "source": [
    "total = float(input(\"Enter number of students:\"))\n",
    "seats = float(input(\"enter number of seats:\"))\n",
    "print(total/seats)\n"
   ]
  },
  {
   "cell_type": "code",
   "execution_count": 48,
   "metadata": {},
   "outputs": [
    {
     "data": {
      "text/plain": [
       "7.2"
      ]
     },
     "execution_count": 48,
     "metadata": {},
     "output_type": "execute_result"
    }
   ],
   "source": [
    "# total\n",
    "# seats\n",
    "# adjust_factor=2\n",
    "260/50+2"
   ]
  },
  {
   "cell_type": "code",
   "execution_count": 49,
   "metadata": {},
   "outputs": [
    {
     "data": {
      "text/plain": [
       "5.0"
      ]
     },
     "execution_count": 49,
     "metadata": {},
     "output_type": "execute_result"
    }
   ],
   "source": [
    "# operator precedency\n",
    "260/(50+2)"
   ]
  },
  {
   "cell_type": "code",
   "execution_count": 50,
   "metadata": {},
   "outputs": [
    {
     "data": {
      "text/plain": [
       "0.25"
      ]
     },
     "execution_count": 50,
     "metadata": {},
     "output_type": "execute_result"
    }
   ],
   "source": [
    "20000/1000/20/4"
   ]
  },
  {
   "cell_type": "code",
   "execution_count": 51,
   "metadata": {},
   "outputs": [
    {
     "name": "stdout",
     "output_type": "stream",
     "text": [
      "Enter number of students:260\n",
      "enter number of seats:50\n",
      "How many people can adjust2\n",
      "5.0\n"
     ]
    }
   ],
   "source": [
    "total = float(input(\"Enter number of students:\"))\n",
    "seats = float(input(\"enter number of seats:\"))\n",
    "adj_factor=float(input(\"How many people can adjust\"))\n",
    "res = total/(seats+adj_factor)\n",
    "print(res)\n"
   ]
  },
  {
   "cell_type": "code",
   "execution_count": 52,
   "metadata": {},
   "outputs": [
    {
     "name": "stdout",
     "output_type": "stream",
     "text": [
      "Enter number of students:270\n",
      "enter number of seats:50\n",
      "How many people can adjust2\n",
      "5.1923076923076925\n"
     ]
    }
   ],
   "source": [
    "total = float(input(\"Enter number of students:\"))\n",
    "seats = float(input(\"enter number of seats:\"))\n",
    "adj_factor=float(input(\"How many people can adjust\"))\n",
    "res = total/(seats+adj_factor)\n",
    "print(res)\n"
   ]
  },
  {
   "cell_type": "code",
   "execution_count": 53,
   "metadata": {},
   "outputs": [],
   "source": [
    "import math"
   ]
  },
  {
   "cell_type": "code",
   "execution_count": 54,
   "metadata": {},
   "outputs": [
    {
     "data": {
      "text/plain": [
       "6"
      ]
     },
     "execution_count": 54,
     "metadata": {},
     "output_type": "execute_result"
    }
   ],
   "source": [
    "math.ceil(5.2)"
   ]
  },
  {
   "cell_type": "code",
   "execution_count": 55,
   "metadata": {},
   "outputs": [
    {
     "data": {
      "text/plain": [
       "-0.9524129804151563"
      ]
     },
     "execution_count": 55,
     "metadata": {},
     "output_type": "execute_result"
    }
   ],
   "source": [
    "math.cos(60)"
   ]
  },
  {
   "cell_type": "code",
   "execution_count": 56,
   "metadata": {},
   "outputs": [],
   "source": [
    "math.cos?"
   ]
  },
  {
   "cell_type": "code",
   "execution_count": 57,
   "metadata": {},
   "outputs": [
    {
     "ename": "TypeError",
     "evalue": "must be real number, not str",
     "output_type": "error",
     "traceback": [
      "\u001b[0;31m---------------------------------------------------------------------------\u001b[0m",
      "\u001b[0;31mTypeError\u001b[0m                                 Traceback (most recent call last)",
      "\u001b[0;32m<ipython-input-57-a4997edf1a8b>\u001b[0m in \u001b[0;36m<module>\u001b[0;34m()\u001b[0m\n\u001b[0;32m----> 1\u001b[0;31m \u001b[0mmath\u001b[0m\u001b[0;34m.\u001b[0m\u001b[0mcos\u001b[0m\u001b[0;34m(\u001b[0m\u001b[0;34m\"60\"\u001b[0m\u001b[0;34m)\u001b[0m\u001b[0;34m\u001b[0m\u001b[0m\n\u001b[0m",
      "\u001b[0;31mTypeError\u001b[0m: must be real number, not str"
     ]
    }
   ],
   "source": [
    "math.cos(\"60\")"
   ]
  },
  {
   "cell_type": "code",
   "execution_count": 60,
   "metadata": {},
   "outputs": [
    {
     "data": {
      "text/plain": [
       "0.5000000000000001"
      ]
     },
     "execution_count": 60,
     "metadata": {},
     "output_type": "execute_result"
    }
   ],
   "source": [
    "math.cos(60*(math.pi/180))"
   ]
  },
  {
   "cell_type": "code",
   "execution_count": 61,
   "metadata": {},
   "outputs": [
    {
     "name": "stdout",
     "output_type": "stream",
     "text": [
      "Enter number of students:256\n",
      "enter number of seats:50\n",
      "How many people can adjust1\n",
      "6\n"
     ]
    }
   ],
   "source": [
    "import math\n",
    "total = float(input(\"Enter number of students:\"))\n",
    "seats = float(input(\"enter number of seats:\"))\n",
    "adj_factor=float(input(\"How many people can adjust\"))\n",
    "res = total/(seats+adj_factor)\n",
    "print(math.ceil(res))\n"
   ]
  },
  {
   "cell_type": "code",
   "execution_count": 62,
   "metadata": {},
   "outputs": [
    {
     "data": {
      "text/plain": [
       "5"
      ]
     },
     "execution_count": 62,
     "metadata": {},
     "output_type": "execute_result"
    }
   ],
   "source": [
    "math.ceil(5.0)"
   ]
  },
  {
   "cell_type": "code",
   "execution_count": 63,
   "metadata": {},
   "outputs": [
    {
     "data": {
      "text/plain": [
       "6"
      ]
     },
     "execution_count": 63,
     "metadata": {},
     "output_type": "execute_result"
    }
   ],
   "source": [
    "math.ceil(5.01)"
   ]
  },
  {
   "cell_type": "code",
   "execution_count": 64,
   "metadata": {},
   "outputs": [
    {
     "data": {
      "text/plain": [
       "97"
      ]
     },
     "execution_count": 64,
     "metadata": {},
     "output_type": "execute_result"
    }
   ],
   "source": [
    "s=\"a\"\n",
    "ord(s)"
   ]
  },
  {
   "cell_type": "code",
   "execution_count": 65,
   "metadata": {},
   "outputs": [
    {
     "data": {
      "text/plain": [
       "97"
      ]
     },
     "execution_count": 65,
     "metadata": {},
     "output_type": "execute_result"
    }
   ],
   "source": [
    "ord(\"a\")"
   ]
  },
  {
   "cell_type": "code",
   "execution_count": 66,
   "metadata": {},
   "outputs": [
    {
     "data": {
      "text/plain": [
       "65"
      ]
     },
     "execution_count": 66,
     "metadata": {},
     "output_type": "execute_result"
    }
   ],
   "source": [
    "ord(\"A\")"
   ]
  },
  {
   "cell_type": "code",
   "execution_count": 67,
   "metadata": {},
   "outputs": [
    {
     "data": {
      "text/plain": [
       "'A'"
      ]
     },
     "execution_count": 67,
     "metadata": {},
     "output_type": "execute_result"
    }
   ],
   "source": [
    "chr(65)"
   ]
  },
  {
   "cell_type": "code",
   "execution_count": 68,
   "metadata": {},
   "outputs": [
    {
     "data": {
      "text/plain": [
       "'a'"
      ]
     },
     "execution_count": 68,
     "metadata": {},
     "output_type": "execute_result"
    }
   ],
   "source": [
    "chr(97)"
   ]
  },
  {
   "cell_type": "code",
   "execution_count": 69,
   "metadata": {},
   "outputs": [
    {
     "data": {
      "text/plain": [
       "32"
      ]
     },
     "execution_count": 69,
     "metadata": {},
     "output_type": "execute_result"
    }
   ],
   "source": [
    "97-65"
   ]
  },
  {
   "cell_type": "code",
   "execution_count": 70,
   "metadata": {},
   "outputs": [
    {
     "name": "stdout",
     "output_type": "stream",
     "text": [
      "enter only one char:r\n",
      "R\n"
     ]
    }
   ],
   "source": [
    "s=input(\"enter only one char:\")\n",
    "print(chr(ord(s)-32))"
   ]
  },
  {
   "cell_type": "code",
   "execution_count": 71,
   "metadata": {},
   "outputs": [
    {
     "name": "stdout",
     "output_type": "stream",
     "text": [
      "Enter number of students:12\n",
      "enter number of seats:34\n",
      "How many people can adjust56\n",
      "The journey details:\n",
      "\tTotL number of people: \n"
     ]
    }
   ],
   "source": [
    "total = float(input(\"Enter number of students:\"))\n",
    "seats = float(input(\"enter number of seats:\"))\n",
    "adj_factor=float(input(\"How many people can adjust\"))\n",
    "res = total/(seats+adj_factor)\n",
    "print(\"The journey details:\\n\\tTotal number of people: \")\n"
   ]
  },
  {
   "cell_type": "code",
   "execution_count": 72,
   "metadata": {},
   "outputs": [
    {
     "name": "stdout",
     "output_type": "stream",
     "text": [
      "Enter number of students:12\n",
      "enter number of seats:34\n",
      "How many people can adjust5\n",
      "The journey details:\n",
      "\tTotal number of people: total\n"
     ]
    }
   ],
   "source": [
    "total = float(input(\"Enter number of students:\"))\n",
    "seats = float(input(\"enter number of seats:\"))\n",
    "adj_factor=float(input(\"How many people can adjust\"))\n",
    "res = total/(seats+adj_factor)\n",
    "print(\"The journey details:\\n\\tTotal number of people: total\")\n"
   ]
  },
  {
   "cell_type": "code",
   "execution_count": 74,
   "metadata": {},
   "outputs": [
    {
     "name": "stdout",
     "output_type": "stream",
     "text": [
      "Enter number of students:175\n",
      "enter number of seats:50\n",
      "How many people can adjust3\n",
      "The journey details:\n",
      "\tTotal number of people: 175.0\n",
      "\tSeats per bus: 50.0\n",
      "\t extra people can adjust per bus: 3.0\n",
      "\tnumber of busses required: 3.30188679245283\n"
     ]
    }
   ],
   "source": [
    "total = float(input(\"Enter number of students:\"))\n",
    "seats = float(input(\"enter number of seats:\"))\n",
    "adj_factor=float(input(\"How many people can adjust\"))\n",
    "res = total/(seats+adj_factor)\n",
    "print(\"The journey details:\\n\\tTotal number of people:\",total)\n",
    "print(\"\\tSeats per bus:\",seats)\n",
    "print(\"\\t extra people can adjust per bus:\",adj_factor)\n",
    "print(\"\\tnumber of busses required:\",math.ceil(res))"
   ]
  },
  {
   "cell_type": "code",
   "execution_count": 1,
   "metadata": {},
   "outputs": [
    {
     "name": "stdout",
     "output_type": "stream",
     "text": [
      "My kid details are: Name: jayaram\n"
     ]
    }
   ],
   "source": [
    "# write above out by using single print statement\n",
    "name = \"jayaram\"\n",
    "age = 2.34234\n",
    "height=3.4567\n",
    "weight = 13.45678\n",
    "# My kid details are: Name:jayaram, Age:2.34234, Height:3.46, Weight:13\n",
    "print(\"My kid details are: Name:\",name)"
   ]
  },
  {
   "cell_type": "code",
   "execution_count": 2,
   "metadata": {},
   "outputs": [
    {
     "name": "stdout",
     "output_type": "stream",
     "text": [
      "My kid details are: Name:jayaram\n"
     ]
    }
   ],
   "source": [
    "# write above out by using single print statement\n",
    "name = \"jayaram\"\n",
    "age = 2.34234\n",
    "height=3.4567\n",
    "weight = 13.45678\n",
    "# My kid details are: Name:jayaram, Age:2.34234, Height:3.46, Weight:13\n",
    "print(\"My kid details are: Name:\",name,sep=\"\")"
   ]
  },
  {
   "cell_type": "code",
   "execution_count": 3,
   "metadata": {},
   "outputs": [
    {
     "name": "stdout",
     "output_type": "stream",
     "text": [
      "My kid details are: Name:jayaram, Age:2.34234, Heigit:3.46, Weight:13\n"
     ]
    }
   ],
   "source": [
    "# write above out by using single print statement\n",
    "name = \"jayaram\"\n",
    "age = 2.34234\n",
    "height=3.4567\n",
    "weight = 13.45678\n",
    "# My kid details are: Name:jayaram, Age:2.34234, Height:3.46, Weight:13\n",
    "print(\"My kid details are: Name:\",name,\", Age:\",age,\", Heigit:\",round(height,2),\", Weight:\",int(weight),sep=\"\")"
   ]
  },
  {
   "cell_type": "code",
   "execution_count": 4,
   "metadata": {},
   "outputs": [
    {
     "name": "stdout",
     "output_type": "stream",
     "text": [
      "My kid details are: Name: jayaram , Age: 2.34234 , Heigit: 3.46 , Weight: 13\n"
     ]
    }
   ],
   "source": [
    "# write above out by using single print statement\n",
    "name = \"jayaram\"\n",
    "age = 2.34234\n",
    "height=3.4567\n",
    "weight = 13.45678\n",
    "# My kid details are: Name:jayaram, Age:2.34234, Height:3.46, Weight:13\n",
    "print(\"My kid details are: Name:\",name,\", Age:\",age,\", Heigit:\",round(height,2),\", Weight:\",int(weight))"
   ]
  },
  {
   "cell_type": "code",
   "execution_count": 5,
   "metadata": {},
   "outputs": [
    {
     "name": "stdout",
     "output_type": "stream",
     "text": [
      "My kid details are: Name:jayaram, Age:2.34234, Heigit:3.46, Weight:13\n"
     ]
    }
   ],
   "source": [
    "# write above out by using single print statement\n",
    "name = \"jayaram\"\n",
    "age = 2.34234\n",
    "height=3.4567\n",
    "weight = 13.45678\n",
    "# My kid details are: Name:jayaram, Age:2.34234, Height:3.46, Weight:13\n",
    "print(\"My kid details are: Name:\",name,\", Age:\",age,\", Heigit:\",round(height,2),\", Weight:\",int(weight),sep='')"
   ]
  },
  {
   "cell_type": "code",
   "execution_count": 6,
   "metadata": {},
   "outputs": [
    {
     "name": "stdout",
     "output_type": "stream",
     "text": [
      "My kid details are: Name:#jayaram#, Age:#2.34234#, Heigit:#3.46#, Weight:#13\n"
     ]
    }
   ],
   "source": [
    "# write above out by using single print statement\n",
    "name = \"jayaram\"\n",
    "age = 2.34234\n",
    "height=3.4567\n",
    "weight = 13.45678\n",
    "# My kid details are: Name:jayaram, Age:2.34234, Height:3.46, Weight:13\n",
    "print(\"My kid details are: Name:\",name,\", Age:\",age,\", Heigit:\",round(height,2),\", Weight:\",int(weight),sep='#')"
   ]
  },
  {
   "cell_type": "code",
   "execution_count": 7,
   "metadata": {},
   "outputs": [
    {
     "name": "stdout",
     "output_type": "stream",
     "text": [
      "My kid details are: Name:#jayaram#, Age:#2.34234#, Heigit:#3.46#, Weight:#13\n",
      "My kid details are: Name:name\n"
     ]
    }
   ],
   "source": [
    "# write above out by using single print statement\n",
    "name = \"jayaram\"\n",
    "age = 2.34234\n",
    "height=3.4567\n",
    "weight = 13.45678\n",
    "# My kid details are: Name:jayaram, Age:2.34234, Height:3.46, Weight:13\n",
    "print(\"My kid details are: Name:\",name,\", Age:\",age,\", Heigit:\",round(height,2),\", Weight:\",int(weight),sep='#')\n",
    "print(\"My kid details are: Name:name\")"
   ]
  },
  {
   "cell_type": "code",
   "execution_count": 8,
   "metadata": {},
   "outputs": [
    {
     "name": "stdout",
     "output_type": "stream",
     "text": [
      "My kid details are: Name:#jayaram#, Age:#2.34234#, Heigit:#3.46#, Weight:#13\n",
      "My kid details are: Name:{name}\n"
     ]
    }
   ],
   "source": [
    "# write above out by using single print statement\n",
    "name = \"jayaram\"\n",
    "age = 2.34234\n",
    "height=3.4567\n",
    "weight = 13.45678\n",
    "# My kid details are: Name:jayaram, Age:2.34234, Height:3.46, Weight:13\n",
    "print(\"My kid details are: Name:\",name,\", Age:\",age,\", Heigit:\",round(height,2),\", Weight:\",int(weight),sep='#')\n",
    "print(\"My kid details are: Name:{name}\")"
   ]
  },
  {
   "cell_type": "code",
   "execution_count": 9,
   "metadata": {},
   "outputs": [
    {
     "name": "stdout",
     "output_type": "stream",
     "text": [
      "My kid details are: Name:#jayaram#, Age:#2.34234#, Heigit:#3.46#, Weight:#13\n",
      "My kid details are: Name:jayaram\n"
     ]
    }
   ],
   "source": [
    "# write above out by using single print statement\n",
    "name = \"jayaram\"\n",
    "age = 2.34234\n",
    "height=3.4567\n",
    "weight = 13.45678\n",
    "# My kid details are: Name:jayaram, Age:2.34234, Height:3.46, Weight:13\n",
    "print(\"My kid details are: Name:\",name,\", Age:\",age,\", Heigit:\",round(height,2),\", Weight:\",int(weight),sep='#')\n",
    "print(f\"My kid details are: Name:{name}\")"
   ]
  },
  {
   "cell_type": "code",
   "execution_count": 11,
   "metadata": {},
   "outputs": [
    {
     "name": "stdout",
     "output_type": "stream",
     "text": [
      "My kid details are: Name:jayaram, Age:2.34234, Heigit:3.46, Weight:13\n",
      "My kid details are: Name:jayaram, Age:2.34234, Height:3.46, Weight:13\n"
     ]
    }
   ],
   "source": [
    "# write above out by using single print statement\n",
    "name = \"jayaram\"\n",
    "age = 2.34234\n",
    "height=3.4567\n",
    "weight = 13.45678\n",
    "# My kid details are: Name:jayaram, Age:2.34234, Height:3.46, Weight:13\n",
    "print(\"My kid details are: Name:\",name,\", Age:\",age,\", Heigit:\",round(height,2),\", Weight:\",int(weight),sep='')\n",
    "print(f\"My kid details are: Name:{name}, Age:{age}, Height:{round(height,2)}, Weight:{int(weight)}\")"
   ]
  },
  {
   "cell_type": "code",
   "execution_count": 13,
   "metadata": {},
   "outputs": [
    {
     "name": "stdout",
     "output_type": "stream",
     "text": [
      "My kid details are: Name:jayaram, Age:2.34234, Heigit:3.46, Weight:13\n",
      "My kid details are: Name:jayaram, Age:2.34234, Height:3.46, Weight:13\n"
     ]
    }
   ],
   "source": [
    "# write above out by using single print statement\n",
    "name = \"jayaram\"\n",
    "age = 2.34234\n",
    "height=3.4567\n",
    "weight = 13.45678\n",
    "# My kid details are: Name:jayaram, Age:2.34234, Height:3.46, Weight:13\n",
    "print(\"My kid details are: Name:\",name,\", Age:\",age,\", Heigit:\",round(height,2),\", Weight:\",int(weight),sep='')\n",
    "print(f\"My kid details are: Name:{name}, Age:{age}, Height:{height:.2f}, Weight:{int(weight)}\")"
   ]
  },
  {
   "cell_type": "code",
   "execution_count": 14,
   "metadata": {},
   "outputs": [
    {
     "name": "stdout",
     "output_type": "stream",
     "text": [
      "My kid details are: Name:jayaram, Age:2.34234, Heigit:3.46, Weight:13\n",
      "My kid details are: Name:jayaram, Age:2.34234, Height:3.46, Weight:13\n",
      "My kid details are: Name:%s jayaram\n"
     ]
    }
   ],
   "source": [
    "# write above out by using single print statement\n",
    "name = \"jayaram\"\n",
    "age = 2.34234\n",
    "height=3.4567\n",
    "weight = 13.45678\n",
    "# My kid details are: Name:jayaram, Age:2.34234, Height:3.46, Weight:13\n",
    "print(\"My kid details are: Name:\",name,\", Age:\",age,\", Heigit:\",round(height,2),\", Weight:\",int(weight),sep='')\n",
    "print(f\"My kid details are: Name:{name}, Age:{age}, Height:{height:.2f}, Weight:{int(weight)}\")\n",
    "print(\"My kid details are: Name:%s\",name)"
   ]
  },
  {
   "cell_type": "code",
   "execution_count": 15,
   "metadata": {},
   "outputs": [
    {
     "name": "stdout",
     "output_type": "stream",
     "text": [
      "My kid details are: Name:jayaram, Age:2.34234, Heigit:3.46, Weight:13\n",
      "My kid details are: Name:jayaram, Age:2.34234, Height:3.46, Weight:13\n",
      "My kid details are: Name:jayaram\n"
     ]
    }
   ],
   "source": [
    "# write above out by using single print statement\n",
    "name = \"jayaram\"\n",
    "age = 2.34234\n",
    "height=3.4567\n",
    "weight = 13.45678\n",
    "# My kid details are: Name:jayaram, Age:2.34234, Height:3.46, Weight:13\n",
    "print(\"My kid details are: Name:\",name,\", Age:\",age,\", Heigit:\",round(height,2),\", Weight:\",int(weight),sep='')\n",
    "print(f\"My kid details are: Name:{name}, Age:{age}, Height:{height:.2f}, Weight:{int(weight)}\")\n",
    "print(\"My kid details are: Name:%s\"%name)"
   ]
  },
  {
   "cell_type": "code",
   "execution_count": 16,
   "metadata": {},
   "outputs": [
    {
     "name": "stdout",
     "output_type": "stream",
     "text": [
      "My kid details are: Name:jayaram, Age:2.34234, Heigit:3.46, Weight:13\n",
      "My kid details are: Name:jayaram, Age:2.34234, Height:3.46, Weight:13\n",
      "My kid details are: Name:jayaram, Age:2.34234, Height:3.4567, Weight:13.45678\n"
     ]
    }
   ],
   "source": [
    "# write above out by using single print statement\n",
    "name = \"jayaram\"\n",
    "age = 2.34234\n",
    "height=3.4567\n",
    "weight = 13.45678\n",
    "# My kid details are: Name:jayaram, Age:2.34234, Height:3.46, Weight:13\n",
    "print(\"My kid details are: Name:\",name,\", Age:\",age,\", Heigit:\",round(height,2),\", Weight:\",int(weight),sep='')\n",
    "print(f\"My kid details are: Name:{name}, Age:{age}, Height:{height:.2f}, Weight:{int(weight)}\")\n",
    "print(\"My kid details are: Name:%s, Age:%s, Height:%s, Weight:%s\"%(name,age,height,weight))"
   ]
  },
  {
   "cell_type": "code",
   "execution_count": 17,
   "metadata": {},
   "outputs": [
    {
     "name": "stdout",
     "output_type": "stream",
     "text": [
      "My kid details are: Name:jayaram, Age:2.34234, Heigit:3.46, Weight:13\n",
      "My kid details are: Name:jayaram, Age:2.34234, Height:3.46, Weight:13\n",
      "My kid details are: Name:jayaram, Age:2.34234, Height:3.456700, Weight:13.45678\n"
     ]
    }
   ],
   "source": [
    "# write above out by using single print statement\n",
    "name = \"jayaram\"\n",
    "age = 2.34234\n",
    "height=3.4567\n",
    "weight = 13.45678\n",
    "# My kid details are: Name:jayaram, Age:2.34234, Height:3.46, Weight:13\n",
    "print(\"My kid details are: Name:\",name,\", Age:\",age,\", Heigit:\",round(height,2),\", Weight:\",int(weight),sep='')\n",
    "print(f\"My kid details are: Name:{name}, Age:{age}, Height:{height:.2f}, Weight:{int(weight)}\")\n",
    "print(\"My kid details are: Name:%s, Age:%s, Height:%f, Weight:%s\"%(name,age,height,weight))"
   ]
  },
  {
   "cell_type": "code",
   "execution_count": 18,
   "metadata": {},
   "outputs": [
    {
     "name": "stdout",
     "output_type": "stream",
     "text": [
      "My kid details are: Name:jayaram, Age:2.34234, Heigit:3.46, Weight:13\n",
      "My kid details are: Name:jayaram, Age:2.34234, Height:3.46, Weight:13\n",
      "My kid details are: Name:jayaram, Age:2.34234, Height:3.46, Weight:13.45678\n"
     ]
    }
   ],
   "source": [
    "# write above out by using single print statement\n",
    "name = \"jayaram\"\n",
    "age = 2.34234\n",
    "height=3.4567\n",
    "weight = 13.45678\n",
    "# My kid details are: Name:jayaram, Age:2.34234, Height:3.46, Weight:13\n",
    "print(\"My kid details are: Name:\",name,\", Age:\",age,\", Heigit:\",round(height,2),\", Weight:\",int(weight),sep='')\n",
    "print(f\"My kid details are: Name:{name}, Age:{age}, Height:{height:.2f}, Weight:{int(weight)}\")\n",
    "print(\"My kid details are: Name:%s, Age:%s, Height:%.2f, Weight:%s\"%(name,age,height,weight))"
   ]
  },
  {
   "cell_type": "code",
   "execution_count": 19,
   "metadata": {},
   "outputs": [
    {
     "name": "stdout",
     "output_type": "stream",
     "text": [
      "My kid details are: Name:jayaram, Age:2.34234, Heigit:3.46, Weight:13\n",
      "My kid details are: Name:jayaram, Age:2.34234, Height:3.46, Weight:13\n",
      "My kid details are: Name:jayaram, Age:2.34234, Height:3.46, Weight:13\n"
     ]
    }
   ],
   "source": [
    "# write above out by using single print statement\n",
    "name = \"jayaram\"\n",
    "age = 2.34234\n",
    "height=3.4567\n",
    "weight = 13.45678\n",
    "# My kid details are: Name:jayaram, Age:2.34234, Height:3.46, Weight:13\n",
    "print(\"My kid details are: Name:\",name,\", Age:\",age,\", Heigit:\",round(height,2),\", Weight:\",int(weight),sep='')\n",
    "print(f\"My kid details are: Name:{name}, Age:{age}, Height:{height:.2f}, Weight:{int(weight)}\")\n",
    "print(\"My kid details are: Name:%s, Age:%s, Height:%.2f, Weight:%d\"%(name,age,height,weight))"
   ]
  },
  {
   "cell_type": "code",
   "execution_count": 20,
   "metadata": {},
   "outputs": [
    {
     "name": "stdout",
     "output_type": "stream",
     "text": [
      "sdfsdfs\n",
      "sdfds\tsdfsd\n",
      "sdfsd\tsdfsdf\n",
      "\n"
     ]
    }
   ],
   "source": [
    "s=\"sdfsdfs\\nsdfds\\tsdfsd\\nsdfsd\\tsdfsdf\\n\"\n",
    "print(s)"
   ]
  },
  {
   "cell_type": "code",
   "execution_count": 22,
   "metadata": {},
   "outputs": [
    {
     "name": "stdout",
     "output_type": "stream",
     "text": [
      "sdfsdfs\\nsdfds\\tsdfsd\\nsdfsd\\tsdfsdf\\n\n"
     ]
    }
   ],
   "source": [
    "k=\"sdfsdfs\\\\nsdfds\\\\tsdfsd\\\\nsdfsd\\\\tsdfsdf\\\\n\"\n",
    "print(k)"
   ]
  },
  {
   "cell_type": "code",
   "execution_count": 23,
   "metadata": {},
   "outputs": [
    {
     "name": "stdout",
     "output_type": "stream",
     "text": [
      "sdfsdfs\\nsdfds\\tsdfsd\\nsdfsd\\tsdfsdf\\n\n"
     ]
    }
   ],
   "source": [
    "s=r\"sdfsdfs\\nsdfds\\tsdfsd\\nsdfsd\\tsdfsdf\\n\"\n",
    "print(s)"
   ]
  },
  {
   "cell_type": "code",
   "execution_count": 24,
   "metadata": {},
   "outputs": [
    {
     "name": "stdout",
     "output_type": "stream",
     "text": [
      "sdfsdfs\n",
      "sdfds\tsdfsd\n",
      "sdfsd\tsdfsdf\n",
      "\n"
     ]
    }
   ],
   "source": [
    "k=\"sdfsdfs\\nsdfds\\tsdfsd\\nsdfsd\\tsdfsdf\\n\"\n",
    "print(k)"
   ]
  },
  {
   "cell_type": "code",
   "execution_count": 25,
   "metadata": {},
   "outputs": [
    {
     "name": "stdout",
     "output_type": "stream",
     "text": [
      "sdfsdfs\n",
      "sdfds\tsdfsd\n",
      "sdfsd\tsdfsdf\n",
      "\n"
     ]
    }
   ],
   "source": [
    "k=\"sdfsdfs\\nsdfds\\tsdfsd\\nsdfsd\\tsdfsdf\\n\"\n",
    "print(\"%s\"%k)"
   ]
  },
  {
   "cell_type": "code",
   "execution_count": 26,
   "metadata": {},
   "outputs": [
    {
     "name": "stdout",
     "output_type": "stream",
     "text": [
      "'sdfsdfs\\nsdfds\\tsdfsd\\nsdfsd\\tsdfsdf\\n'\n"
     ]
    }
   ],
   "source": [
    "k=\"sdfsdfs\\nsdfds\\tsdfsd\\nsdfsd\\tsdfsdf\\n\"\n",
    "print(\"%r\"%k)"
   ]
  },
  {
   "cell_type": "code",
   "execution_count": 27,
   "metadata": {},
   "outputs": [
    {
     "name": "stdout",
     "output_type": "stream",
     "text": [
      "True <class 'bool'>\n"
     ]
    }
   ],
   "source": [
    "a=True\n",
    "print(a, type(a))"
   ]
  },
  {
   "cell_type": "code",
   "execution_count": 28,
   "metadata": {},
   "outputs": [
    {
     "data": {
      "text/plain": [
       "False"
      ]
     },
     "execution_count": 28,
     "metadata": {},
     "output_type": "execute_result"
    }
   ],
   "source": [
    "bool(0)"
   ]
  },
  {
   "cell_type": "code",
   "execution_count": 29,
   "metadata": {},
   "outputs": [
    {
     "data": {
      "text/plain": [
       "True"
      ]
     },
     "execution_count": 29,
     "metadata": {},
     "output_type": "execute_result"
    }
   ],
   "source": [
    "bool(1)"
   ]
  },
  {
   "cell_type": "code",
   "execution_count": 30,
   "metadata": {},
   "outputs": [
    {
     "data": {
      "text/plain": [
       "True"
      ]
     },
     "execution_count": 30,
     "metadata": {},
     "output_type": "execute_result"
    }
   ],
   "source": [
    "bool(10)"
   ]
  },
  {
   "cell_type": "code",
   "execution_count": 31,
   "metadata": {},
   "outputs": [
    {
     "data": {
      "text/plain": [
       "True"
      ]
     },
     "execution_count": 31,
     "metadata": {},
     "output_type": "execute_result"
    }
   ],
   "source": [
    "bool(-10)"
   ]
  },
  {
   "cell_type": "code",
   "execution_count": 32,
   "metadata": {},
   "outputs": [
    {
     "data": {
      "text/plain": [
       "True"
      ]
     },
     "execution_count": 32,
     "metadata": {},
     "output_type": "execute_result"
    }
   ],
   "source": [
    "bool(\"python\")"
   ]
  },
  {
   "cell_type": "code",
   "execution_count": 33,
   "metadata": {},
   "outputs": [
    {
     "data": {
      "text/plain": [
       "False"
      ]
     },
     "execution_count": 33,
     "metadata": {},
     "output_type": "execute_result"
    }
   ],
   "source": [
    "bool('')"
   ]
  },
  {
   "cell_type": "code",
   "execution_count": 34,
   "metadata": {},
   "outputs": [
    {
     "data": {
      "text/plain": [
       "True"
      ]
     },
     "execution_count": 34,
     "metadata": {},
     "output_type": "execute_result"
    }
   ],
   "source": [
    "bool([1,2,3,4])"
   ]
  },
  {
   "cell_type": "code",
   "execution_count": 35,
   "metadata": {},
   "outputs": [
    {
     "data": {
      "text/plain": [
       "False"
      ]
     },
     "execution_count": 35,
     "metadata": {},
     "output_type": "execute_result"
    }
   ],
   "source": [
    "bool([])"
   ]
  },
  {
   "cell_type": "code",
   "execution_count": 36,
   "metadata": {},
   "outputs": [
    {
     "data": {
      "text/plain": [
       "True"
      ]
     },
     "execution_count": 36,
     "metadata": {},
     "output_type": "execute_result"
    }
   ],
   "source": [
    "bool({1,2,3,4})"
   ]
  },
  {
   "cell_type": "code",
   "execution_count": 37,
   "metadata": {},
   "outputs": [
    {
     "data": {
      "text/plain": [
       "False"
      ]
     },
     "execution_count": 37,
     "metadata": {},
     "output_type": "execute_result"
    }
   ],
   "source": [
    "bool({})"
   ]
  },
  {
   "cell_type": "code",
   "execution_count": 38,
   "metadata": {},
   "outputs": [
    {
     "data": {
      "text/plain": [
       "True"
      ]
     },
     "execution_count": 38,
     "metadata": {},
     "output_type": "execute_result"
    }
   ],
   "source": [
    "bool((1,2,3,4))"
   ]
  },
  {
   "cell_type": "code",
   "execution_count": 39,
   "metadata": {},
   "outputs": [
    {
     "data": {
      "text/plain": [
       "True"
      ]
     },
     "execution_count": 39,
     "metadata": {},
     "output_type": "execute_result"
    }
   ],
   "source": [
    "bool({1:2,3:4})"
   ]
  },
  {
   "cell_type": "code",
   "execution_count": 40,
   "metadata": {},
   "outputs": [
    {
     "data": {
      "text/plain": [
       "False"
      ]
     },
     "execution_count": 40,
     "metadata": {},
     "output_type": "execute_result"
    }
   ],
   "source": [
    "bool(0)"
   ]
  },
  {
   "cell_type": "code",
   "execution_count": 41,
   "metadata": {},
   "outputs": [
    {
     "data": {
      "text/plain": [
       "True"
      ]
     },
     "execution_count": 41,
     "metadata": {},
     "output_type": "execute_result"
    }
   ],
   "source": [
    "bool(\"0\")"
   ]
  },
  {
   "cell_type": "code",
   "execution_count": 42,
   "metadata": {},
   "outputs": [
    {
     "data": {
      "text/plain": [
       "True"
      ]
     },
     "execution_count": 42,
     "metadata": {},
     "output_type": "execute_result"
    }
   ],
   "source": [
    "bool([0])"
   ]
  },
  {
   "cell_type": "code",
   "execution_count": 43,
   "metadata": {},
   "outputs": [
    {
     "data": {
      "text/plain": [
       "False"
      ]
     },
     "execution_count": 43,
     "metadata": {},
     "output_type": "execute_result"
    }
   ],
   "source": [
    "bool(None)"
   ]
  },
  {
   "cell_type": "code",
   "execution_count": 44,
   "metadata": {},
   "outputs": [
    {
     "name": "stdout",
     "output_type": "stream",
     "text": [
      "None <class 'NoneType'>\n"
     ]
    }
   ],
   "source": [
    "a=None\n",
    "print(a, type(a))"
   ]
  },
  {
   "cell_type": "code",
   "execution_count": 45,
   "metadata": {},
   "outputs": [
    {
     "name": "stdout",
     "output_type": "stream",
     "text": [
      "0\n"
     ]
    }
   ],
   "source": [
    "a=10\n",
    "b=20\n",
    "print(a & b)"
   ]
  },
  {
   "cell_type": "code",
   "execution_count": 47,
   "metadata": {},
   "outputs": [
    {
     "name": "stdout",
     "output_type": "stream",
     "text": [
      "30\n"
     ]
    }
   ],
   "source": [
    "a=10\n",
    "b=20\n",
    "print(a | b)"
   ]
  },
  {
   "cell_type": "code",
   "execution_count": 48,
   "metadata": {},
   "outputs": [
    {
     "name": "stdout",
     "output_type": "stream",
     "text": [
      "30\n"
     ]
    }
   ],
   "source": [
    "a=10\n",
    "b=20\n",
    "print(a ^ b)"
   ]
  },
  {
   "cell_type": "code",
   "execution_count": 49,
   "metadata": {},
   "outputs": [
    {
     "data": {
      "text/plain": [
       "2"
      ]
     },
     "execution_count": 49,
     "metadata": {},
     "output_type": "execute_result"
    }
   ],
   "source": [
    "a>>2"
   ]
  },
  {
   "cell_type": "code",
   "execution_count": 50,
   "metadata": {},
   "outputs": [
    {
     "data": {
      "text/plain": [
       "40"
      ]
     },
     "execution_count": 50,
     "metadata": {},
     "output_type": "execute_result"
    }
   ],
   "source": [
    "a<<2"
   ]
  },
  {
   "cell_type": "code",
   "execution_count": 51,
   "metadata": {},
   "outputs": [
    {
     "name": "stdout",
     "output_type": "stream",
     "text": [
      "0\n",
      "0b1010\n",
      "0b10100\n"
     ]
    }
   ],
   "source": [
    "a=10\n",
    "b=20\n",
    "print(a & b)\n",
    "print(bin(a))\n",
    "print(bin(b))"
   ]
  },
  {
   "cell_type": "code",
   "execution_count": 52,
   "metadata": {},
   "outputs": [
    {
     "name": "stdout",
     "output_type": "stream",
     "text": [
      "0\n",
      " 0b1010\n",
      "0b10100\n"
     ]
    }
   ],
   "source": [
    "a=10\n",
    "b=20\n",
    "print(a & b)\n",
    "print(\"\",bin(a))\n",
    "print(bin(b))"
   ]
  },
  {
   "cell_type": "code",
   "execution_count": null,
   "metadata": {},
   "outputs": [],
   "source": [
    "# bitwise operators: &, |, ^, <<, >>\n"
   ]
  }
 ],
 "metadata": {
  "kernelspec": {
   "display_name": "Python 3",
   "language": "python",
   "name": "python3"
  },
  "language_info": {
   "codemirror_mode": {
    "name": "ipython",
    "version": 3
   },
   "file_extension": ".py",
   "mimetype": "text/x-python",
   "name": "python",
   "nbconvert_exporter": "python",
   "pygments_lexer": "ipython3",
   "version": "3.7.0"
  }
 },
 "nbformat": 4,
 "nbformat_minor": 2
}
