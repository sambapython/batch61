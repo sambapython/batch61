{
 "cells": [
  {
   "cell_type": "code",
   "execution_count": 1,
   "metadata": {},
   "outputs": [
    {
     "name": "stdout",
     "output_type": "stream",
     "text": [
      "welcome\n",
      "a is big\n",
      "b is big\n",
      "thanks\n"
     ]
    }
   ],
   "source": [
    "print(\"welcome\")\n",
    "a=10\n",
    "b=20\n",
    "print(\"a is big\")\n",
    "print(\"b is big\")\n",
    "print(\"thanks\")"
   ]
  },
  {
   "cell_type": "code",
   "execution_count": 2,
   "metadata": {},
   "outputs": [
    {
     "name": "stdout",
     "output_type": "stream",
     "text": [
      "welcome\n",
      "a is big\n",
      "b is big\n",
      "thanks\n"
     ]
    }
   ],
   "source": [
    "print(\"welcome\")\n",
    "a=100\n",
    "b=20\n",
    "print(\"a is big\")\n",
    "print(\"b is big\")\n",
    "print(\"thanks\")"
   ]
  },
  {
   "cell_type": "code",
   "execution_count": 3,
   "metadata": {},
   "outputs": [
    {
     "name": "stdout",
     "output_type": "stream",
     "text": [
      "welcome\n",
      "True\n",
      "a is big\n",
      "b is big\n",
      "thanks\n"
     ]
    }
   ],
   "source": [
    "print(\"welcome\")\n",
    "a=100\n",
    "b=20\n",
    "print(a>b)\n",
    "if a>b:\n",
    "    print(\"a is big\")\n",
    "print(\"b is big\")\n",
    "print(\"thanks\")"
   ]
  },
  {
   "cell_type": "code",
   "execution_count": 4,
   "metadata": {},
   "outputs": [
    {
     "name": "stdout",
     "output_type": "stream",
     "text": [
      "welcome\n",
      "False\n",
      "b is big\n",
      "thanks\n"
     ]
    }
   ],
   "source": [
    "print(\"welcome\")\n",
    "a=10\n",
    "b=20\n",
    "print(a>b)\n",
    "if a>b:\n",
    "    print(\"a is big\")\n",
    "print(\"b is big\")\n",
    "print(\"thanks\")"
   ]
  },
  {
   "cell_type": "code",
   "execution_count": 5,
   "metadata": {},
   "outputs": [
    {
     "name": "stdout",
     "output_type": "stream",
     "text": [
      "welcome\n",
      "False\n",
      "b is big\n",
      "thanks\n"
     ]
    }
   ],
   "source": [
    "print(\"welcome\")\n",
    "a=10\n",
    "b=20\n",
    "print(a>b)\n",
    "if a>b:\n",
    "    print(\"a is big\")\n",
    "else:\n",
    "    print(\"b is big\")\n",
    "print(\"thanks\")"
   ]
  },
  {
   "cell_type": "code",
   "execution_count": 6,
   "metadata": {},
   "outputs": [
    {
     "name": "stdout",
     "output_type": "stream",
     "text": [
      "enter string:python\n"
     ]
    }
   ],
   "source": [
    "# take a string from the user, print len of the string if the user gives a string otherwise, say it's an invalid string.\n",
    "k=input(\"enter string:\")"
   ]
  },
  {
   "cell_type": "code",
   "execution_count": 7,
   "metadata": {},
   "outputs": [
    {
     "data": {
      "text/plain": [
       "6"
      ]
     },
     "execution_count": 7,
     "metadata": {},
     "output_type": "execute_result"
    }
   ],
   "source": [
    "len(k)"
   ]
  },
  {
   "cell_type": "code",
   "execution_count": 8,
   "metadata": {},
   "outputs": [
    {
     "name": "stdout",
     "output_type": "stream",
     "text": [
      "enter string:\n"
     ]
    }
   ],
   "source": [
    "# take a string from the user, print len of the string if the user gives a string otherwise, say it's an invalid string.\n",
    "k=input(\"enter string:\")"
   ]
  },
  {
   "cell_type": "code",
   "execution_count": 9,
   "metadata": {},
   "outputs": [
    {
     "data": {
      "text/plain": [
       "0"
      ]
     },
     "execution_count": 9,
     "metadata": {},
     "output_type": "execute_result"
    }
   ],
   "source": [
    "len(k)"
   ]
  },
  {
   "cell_type": "code",
   "execution_count": 10,
   "metadata": {},
   "outputs": [
    {
     "name": "stdout",
     "output_type": "stream",
     "text": [
      "Enter strgin:python\n",
      "6\n",
      "thaks\n"
     ]
    }
   ],
   "source": [
    "k=input(\"Enter strgin:\")\n",
    "len_k = len(k)\n",
    "if len_k == 0:\n",
    "    print(\"ivalid string..\")\n",
    "else:\n",
    "    print(len_k)\n",
    "print(\"thaks\")"
   ]
  },
  {
   "cell_type": "code",
   "execution_count": 11,
   "metadata": {},
   "outputs": [
    {
     "name": "stdout",
     "output_type": "stream",
     "text": [
      "Enter strgin:\n",
      "ivalid string..\n",
      "thaks\n"
     ]
    }
   ],
   "source": [
    "k=input(\"Enter strgin:\")\n",
    "len_k = len(k)\n",
    "if len_k == 0:\n",
    "    print(\"ivalid string..\")\n",
    "else:\n",
    "    print(len_k)\n",
    "print(\"thaks\")"
   ]
  },
  {
   "cell_type": "code",
   "execution_count": 12,
   "metadata": {},
   "outputs": [
    {
     "data": {
      "text/plain": [
       "False"
      ]
     },
     "execution_count": 12,
     "metadata": {},
     "output_type": "execute_result"
    }
   ],
   "source": [
    "\"\" == None"
   ]
  },
  {
   "cell_type": "code",
   "execution_count": 13,
   "metadata": {},
   "outputs": [
    {
     "data": {
      "text/plain": [
       "True"
      ]
     },
     "execution_count": 13,
     "metadata": {},
     "output_type": "execute_result"
    }
   ],
   "source": [
    "'' == ''"
   ]
  },
  {
   "cell_type": "code",
   "execution_count": 14,
   "metadata": {},
   "outputs": [
    {
     "name": "stdout",
     "output_type": "stream",
     "text": [
      "Enter strgin:pythn\n",
      "5\n",
      "thaks\n"
     ]
    }
   ],
   "source": [
    "k=input(\"Enter strgin:\")\n",
    "if k==\"\":\n",
    "    print(\"ivalid string..\")\n",
    "else:\n",
    "    print(len(k))\n",
    "print(\"thaks\")"
   ]
  },
  {
   "cell_type": "code",
   "execution_count": 15,
   "metadata": {},
   "outputs": [
    {
     "name": "stdout",
     "output_type": "stream",
     "text": [
      "Enter strgin:\n",
      "ivalid string..\n",
      "thaks\n"
     ]
    }
   ],
   "source": [
    "k=input(\"Enter strgin:\")\n",
    "if k==\"\":\n",
    "    print(\"ivalid string..\")\n",
    "else:\n",
    "    print(len(k))\n",
    "print(\"thaks\")"
   ]
  },
  {
   "cell_type": "code",
   "execution_count": 16,
   "metadata": {},
   "outputs": [
    {
     "data": {
      "text/plain": [
       "True"
      ]
     },
     "execution_count": 16,
     "metadata": {},
     "output_type": "execute_result"
    }
   ],
   "source": [
    "bool(\"\" == \"\")"
   ]
  },
  {
   "cell_type": "code",
   "execution_count": 17,
   "metadata": {},
   "outputs": [
    {
     "data": {
      "text/plain": [
       "False"
      ]
     },
     "execution_count": 17,
     "metadata": {},
     "output_type": "execute_result"
    }
   ],
   "source": [
    "bool(\"python\" == \"\")"
   ]
  },
  {
   "cell_type": "code",
   "execution_count": 18,
   "metadata": {},
   "outputs": [
    {
     "data": {
      "text/plain": [
       "True"
      ]
     },
     "execution_count": 18,
     "metadata": {},
     "output_type": "execute_result"
    }
   ],
   "source": [
    "bool(\"python\")"
   ]
  },
  {
   "cell_type": "code",
   "execution_count": 19,
   "metadata": {},
   "outputs": [
    {
     "data": {
      "text/plain": [
       "False"
      ]
     },
     "execution_count": 19,
     "metadata": {},
     "output_type": "execute_result"
    }
   ],
   "source": [
    "bool(\"\")"
   ]
  },
  {
   "cell_type": "code",
   "execution_count": 20,
   "metadata": {},
   "outputs": [
    {
     "name": "stdout",
     "output_type": "stream",
     "text": [
      "Enter strgin:\n",
      "ivalid string..\n",
      "thaks\n"
     ]
    }
   ],
   "source": [
    "k=input(\"Enter strgin:\")\n",
    "if bool(k):\n",
    "    print(len(k))\n",
    "else:\n",
    "    print(\"ivalid string..\")\n",
    "    \n",
    "print(\"thaks\")"
   ]
  },
  {
   "cell_type": "code",
   "execution_count": 21,
   "metadata": {},
   "outputs": [
    {
     "name": "stdout",
     "output_type": "stream",
     "text": [
      "Enter strgin:pswwe\n",
      "5\n",
      "thaks\n"
     ]
    }
   ],
   "source": [
    "k=input(\"Enter strgin:\")\n",
    "if bool(k):\n",
    "    print(len(k))\n",
    "else:\n",
    "    print(\"ivalid string..\")\n",
    "    \n",
    "print(\"thaks\")"
   ]
  },
  {
   "cell_type": "code",
   "execution_count": 22,
   "metadata": {},
   "outputs": [
    {
     "name": "stdout",
     "output_type": "stream",
     "text": [
      "Enter strgin:\n",
      "ivalid string..\n",
      "thaks\n"
     ]
    }
   ],
   "source": [
    "k=input(\"Enter strgin:\")\n",
    "if k:\n",
    "    print(len(k))\n",
    "else:\n",
    "    print(\"ivalid string..\")\n",
    "    \n",
    "print(\"thaks\")"
   ]
  },
  {
   "cell_type": "code",
   "execution_count": 1,
   "metadata": {},
   "outputs": [
    {
     "name": "stdout",
     "output_type": "stream",
     "text": [
      "enter an option:1\n"
     ]
    }
   ],
   "source": [
    "opt = input(\"enter an option:\")"
   ]
  },
  {
   "cell_type": "code",
   "execution_count": 2,
   "metadata": {},
   "outputs": [
    {
     "data": {
      "text/plain": [
       "'1'"
      ]
     },
     "execution_count": 2,
     "metadata": {},
     "output_type": "execute_result"
    }
   ],
   "source": [
    "opt"
   ]
  },
  {
   "cell_type": "code",
   "execution_count": 3,
   "metadata": {},
   "outputs": [
    {
     "name": "stdout",
     "output_type": "stream",
     "text": [
      "The parties participated:\n",
      "\t1.CONGRESS\n",
      "\t2.BJP\n",
      "\t3.TDP\n",
      "\t4.TRS\n",
      "\t5.NOTA\n"
     ]
    }
   ],
   "source": [
    "print(\"The parties participated:\\n\\t1.CONGRESS\\n\\t2.BJP\\n\\t3.TDP\\n\\t4.TRS\\n\\t5.NOTA\")"
   ]
  },
  {
   "cell_type": "code",
   "execution_count": 4,
   "metadata": {},
   "outputs": [
    {
     "name": "stdout",
     "output_type": "stream",
     "text": [
      "The parties participated:\n",
      "\t1.CONGRESS\n",
      "\t2.BJP\n",
      "\t3.TDP\n",
      "\t4.TRS\n",
      "\t5.NOTA\n",
      "enter an option:2\n",
      "2\n"
     ]
    }
   ],
   "source": [
    "print(\"The parties participated:\\n\\t1.CONGRESS\\n\\t2.BJP\\n\\t3.TDP\\n\\t4.TRS\\n\\t5.NOTA\")\n",
    "opt = input(\"enter an option:\")\n",
    "print(opt)"
   ]
  },
  {
   "cell_type": "code",
   "execution_count": 5,
   "metadata": {},
   "outputs": [
    {
     "name": "stdout",
     "output_type": "stream",
     "text": [
      "The parties participated:\n",
      "\t1.CONGRESS\n",
      "\t2.BJP\n",
      "\t3.TDP\n",
      "\t4.TRS\n",
      "\t5.NOTA\n",
      "enter an option:2\n",
      "Voted for congress\n",
      "Voted for BJP\n",
      "Voted for TDP\n",
      "Voted for TRS\n",
      "Dont want to elect any person\n"
     ]
    }
   ],
   "source": [
    "print(\"The parties participated:\\n\\t1.CONGRESS\\n\\t2.BJP\\n\\t3.TDP\\n\\t4.TRS\\n\\t5.NOTA\")\n",
    "opt = input(\"enter an option:\")\n",
    "print(\"Voted for congress\")\n",
    "print(\"Voted for BJP\")\n",
    "print(\"Voted for TDP\")\n",
    "print(\"Voted for TRS\")\n",
    "print(\"Dont want to elect any person\")"
   ]
  },
  {
   "cell_type": "code",
   "execution_count": 6,
   "metadata": {},
   "outputs": [
    {
     "ename": "IndentationError",
     "evalue": "expected an indented block (<ipython-input-6-945dc38bfe5e>, line 4)",
     "output_type": "error",
     "traceback": [
      "\u001b[0;36m  File \u001b[0;32m\"<ipython-input-6-945dc38bfe5e>\"\u001b[0;36m, line \u001b[0;32m4\u001b[0m\n\u001b[0;31m    print(\"Voted for congress\")\u001b[0m\n\u001b[0m        ^\u001b[0m\n\u001b[0;31mIndentationError\u001b[0m\u001b[0;31m:\u001b[0m expected an indented block\n"
     ]
    }
   ],
   "source": [
    "print(\"The parties participated:\\n\\t1.CONGRESS\\n\\t2.BJP\\n\\t3.TDP\\n\\t4.TRS\\n\\t5.NOTA\")\n",
    "opt = input(\"enter an option:\")\n",
    "if opt==1:\n",
    "print(\"Voted for congress\")\n",
    "print(\"Voted for BJP\")\n",
    "print(\"Voted for TDP\")\n",
    "print(\"Voted for TRS\")\n",
    "print(\"Dont want to elect any person\")"
   ]
  },
  {
   "cell_type": "code",
   "execution_count": 7,
   "metadata": {},
   "outputs": [
    {
     "name": "stdout",
     "output_type": "stream",
     "text": [
      "The parties participated:\n",
      "\t1.CONGRESS\n",
      "\t2.BJP\n",
      "\t3.TDP\n",
      "\t4.TRS\n",
      "\t5.NOTA\n",
      "enter an option:1\n",
      "Voted for BJP\n",
      "Voted for TDP\n",
      "Voted for TRS\n",
      "Dont want to elect any person\n"
     ]
    }
   ],
   "source": [
    "print(\"The parties participated:\\n\\t1.CONGRESS\\n\\t2.BJP\\n\\t3.TDP\\n\\t4.TRS\\n\\t5.NOTA\")\n",
    "opt = input(\"enter an option:\")\n",
    "if opt==1:\n",
    "    print(\"Voted for congress\")\n",
    "print(\"Voted for BJP\")\n",
    "print(\"Voted for TDP\")\n",
    "print(\"Voted for TRS\")\n",
    "print(\"Dont want to elect any person\")"
   ]
  },
  {
   "cell_type": "code",
   "execution_count": 8,
   "metadata": {},
   "outputs": [
    {
     "data": {
      "text/plain": [
       "str"
      ]
     },
     "execution_count": 8,
     "metadata": {},
     "output_type": "execute_result"
    }
   ],
   "source": [
    "type(opt)"
   ]
  },
  {
   "cell_type": "code",
   "execution_count": 9,
   "metadata": {},
   "outputs": [
    {
     "data": {
      "text/plain": [
       "False"
      ]
     },
     "execution_count": 9,
     "metadata": {},
     "output_type": "execute_result"
    }
   ],
   "source": [
    "\"1\" == 1"
   ]
  },
  {
   "cell_type": "code",
   "execution_count": 10,
   "metadata": {},
   "outputs": [
    {
     "name": "stdout",
     "output_type": "stream",
     "text": [
      "The parties participated:\n",
      "\t1.CONGRESS\n",
      "\t2.BJP\n",
      "\t3.TDP\n",
      "\t4.TRS\n",
      "\t5.NOTA\n",
      "enter an option:1\n",
      "Voted for congress\n",
      "Voted for BJP\n",
      "Voted for TDP\n",
      "Voted for TRS\n",
      "Dont want to elect any person\n"
     ]
    }
   ],
   "source": [
    "print(\"The parties participated:\\n\\t1.CONGRESS\\n\\t2.BJP\\n\\t3.TDP\\n\\t4.TRS\\n\\t5.NOTA\")\n",
    "opt = input(\"enter an option:\")\n",
    "if opt==\"1\":\n",
    "    print(\"Voted for congress\")\n",
    "print(\"Voted for BJP\")\n",
    "print(\"Voted for TDP\")\n",
    "print(\"Voted for TRS\")\n",
    "print(\"Dont want to elect any person\")"
   ]
  },
  {
   "cell_type": "code",
   "execution_count": 13,
   "metadata": {},
   "outputs": [
    {
     "name": "stdout",
     "output_type": "stream",
     "text": [
      "The parties participated:\n",
      "\t1.CONGRESS\n",
      "\t2.BJP\n",
      "\t3.TDP\n",
      "\t4.TRS\n",
      "\t5.NOTA\n",
      "enter an option:1\n",
      "Voted for congress\n",
      "thanks\n"
     ]
    }
   ],
   "source": [
    "print(\"The parties participated:\\n\\t1.CONGRESS\\n\\t2.BJP\\n\\t3.TDP\\n\\t4.TRS\\n\\t5.NOTA\")\n",
    "opt = input(\"enter an option:\")\n",
    "if opt==\"1\":\n",
    "    print(\"Voted for congress\")\n",
    "if opt==\"2\":\n",
    "    print(\"Voted for BJP\")\n",
    "if opt==\"3\":\n",
    "    print(\"Voted for TDP\")\n",
    "if opt==\"4\":\n",
    "    print(\"Voted for TRS\")\n",
    "if opt==\"5\":\n",
    "    print(\"Dont want to elect any person\")\n",
    "print(\"thanks\")"
   ]
  },
  {
   "cell_type": "code",
   "execution_count": 14,
   "metadata": {},
   "outputs": [
    {
     "name": "stdout",
     "output_type": "stream",
     "text": [
      "The parties participated:\n",
      "\t1.CONGRESS\n",
      "\t2.BJP\n",
      "\t3.TDP\n",
      "\t4.TRS\n",
      "\t5.NOTA\n",
      "enter an option:6\n",
      "thanks\n"
     ]
    }
   ],
   "source": [
    "print(\"The parties participated:\\n\\t1.CONGRESS\\n\\t2.BJP\\n\\t3.TDP\\n\\t4.TRS\\n\\t5.NOTA\")\n",
    "opt = input(\"enter an option:\")\n",
    "if opt==\"1\":\n",
    "    print(\"Voted for congress\")\n",
    "if opt==\"2\":\n",
    "    print(\"Voted for BJP\")\n",
    "if opt==\"3\":\n",
    "    print(\"Voted for TDP\")\n",
    "if opt==\"4\":\n",
    "    print(\"Voted for TRS\")\n",
    "if opt==\"5\":\n",
    "    print(\"Dont want to elect any person\")\n",
    "print(\"thanks\")"
   ]
  },
  {
   "cell_type": "code",
   "execution_count": 16,
   "metadata": {},
   "outputs": [
    {
     "name": "stdout",
     "output_type": "stream",
     "text": [
      "The parties participated:\n",
      "\t1.CONGRESS\n",
      "\t2.BJP\n",
      "\t3.TDP\n",
      "\t4.TRS\n",
      "\t5.NOTA\n",
      "enter an option:1\n",
      "Voted for congress\n",
      "thanks\n"
     ]
    }
   ],
   "source": [
    "print(\"The parties participated:\\n\\t1.CONGRESS\\n\\t2.BJP\\n\\t3.TDP\\n\\t4.TRS\\n\\t5.NOTA\")\n",
    "opt = input(\"enter an option:\")\n",
    "if opt in  [\"1\",\"2\",\"3\",\"4\",\"5\"]:\n",
    "    if opt==\"1\":\n",
    "        print(\"Voted for congress\")\n",
    "    if opt==\"2\":\n",
    "        print(\"Voted for BJP\")\n",
    "    if opt==\"3\":\n",
    "        print(\"Voted for TDP\")\n",
    "    if opt==\"4\":\n",
    "        print(\"Voted for TRS\")\n",
    "    if opt==\"5\":\n",
    "        print(\"Dont want to elect any person\")\n",
    "else:\n",
    "    print(\"invalid option...\")\n",
    "print(\"thanks\")"
   ]
  },
  {
   "cell_type": "code",
   "execution_count": 17,
   "metadata": {},
   "outputs": [
    {
     "name": "stdout",
     "output_type": "stream",
     "text": [
      "The parties participated:\n",
      "\t1.CONGRESS\n",
      "\t2.BJP\n",
      "\t3.TDP\n",
      "\t4.TRS\n",
      "\t5.NOTA\n",
      "enter an option:2\n",
      "Voted for BJP\n",
      "thanks\n"
     ]
    }
   ],
   "source": [
    "print(\"The parties participated:\\n\\t1.CONGRESS\\n\\t2.BJP\\n\\t3.TDP\\n\\t4.TRS\\n\\t5.NOTA\")\n",
    "opt = input(\"enter an option:\")\n",
    "if opt in  [\"1\",\"2\",\"3\",\"4\",\"5\"]:\n",
    "    if opt==\"1\":\n",
    "        print(\"Voted for congress\")\n",
    "    if opt==\"2\":\n",
    "        print(\"Voted for BJP\")\n",
    "    if opt==\"3\":\n",
    "        print(\"Voted for TDP\")\n",
    "    if opt==\"4\":\n",
    "        print(\"Voted for TRS\")\n",
    "    if opt==\"5\":\n",
    "        print(\"Dont want to elect any person\")\n",
    "else:\n",
    "    print(\"invalid option...\")\n",
    "print(\"thanks\")"
   ]
  },
  {
   "cell_type": "code",
   "execution_count": 18,
   "metadata": {},
   "outputs": [
    {
     "name": "stdout",
     "output_type": "stream",
     "text": [
      "The parties participated:\n",
      "\t1.CONGRESS\n",
      "\t2.BJP\n",
      "\t3.TDP\n",
      "\t4.TRS\n",
      "\t5.NOTA\n",
      "enter an option:20\n",
      "invalid option...\n",
      "thanks\n"
     ]
    }
   ],
   "source": [
    "print(\"The parties participated:\\n\\t1.CONGRESS\\n\\t2.BJP\\n\\t3.TDP\\n\\t4.TRS\\n\\t5.NOTA\")\n",
    "opt = input(\"enter an option:\")\n",
    "if opt in  [\"1\",\"2\",\"3\",\"4\",\"5\"]:\n",
    "    if opt==\"1\":\n",
    "        print(\"Voted for congress\")\n",
    "    if opt==\"2\":\n",
    "        print(\"Voted for BJP\")\n",
    "    if opt==\"3\":\n",
    "        print(\"Voted for TDP\")\n",
    "    if opt==\"4\":\n",
    "        print(\"Voted for TRS\")\n",
    "    if opt==\"5\":\n",
    "        print(\"Dont want to elect any person\")\n",
    "else:\n",
    "    print(\"invalid option...\")\n",
    "print(\"thanks\")"
   ]
  },
  {
   "cell_type": "code",
   "execution_count": 19,
   "metadata": {},
   "outputs": [
    {
     "name": "stdout",
     "output_type": "stream",
     "text": [
      "The parties participated:\n",
      "\t1.CONGRESS\n",
      "\t2.BJP\n",
      "\t3.TDP\n",
      "\t4.TRS\n",
      "\t5.NOTA\n",
      "enter an option:1\n",
      "Voted for congress\n",
      "thanks\n"
     ]
    }
   ],
   "source": [
    "print(\"The parties participated:\\n\\t1.CONGRESS\\n\\t2.BJP\\n\\t3.TDP\\n\\t4.TRS\\n\\t5.NOTA\")\n",
    "opt = input(\"enter an option:\")\n",
    "if opt in  [\"1\",\"2\",\"3\",\"4\",\"5\"]:\n",
    "    if opt==\"1\":\n",
    "        print(\"Voted for congress\")\n",
    "    if opt==\"2\":\n",
    "        print(\"Voted for BJP\")\n",
    "    if opt==\"3\":\n",
    "        print(\"Voted for TDP\")\n",
    "    if opt==\"4\":\n",
    "        print(\"Voted for TRS\")\n",
    "    if opt==\"5\":\n",
    "        print(\"Dont want to elect any person\")\n",
    "else:\n",
    "    print(\"invalid option...\")\n",
    "print(\"thanks\")"
   ]
  },
  {
   "cell_type": "code",
   "execution_count": 20,
   "metadata": {},
   "outputs": [
    {
     "name": "stdout",
     "output_type": "stream",
     "text": [
      "The parties participated:\n",
      "\t1.CONGRESS\n",
      "\t2.BJP\n",
      "\t3.TDP\n",
      "\t4.TRS\n",
      "\t5.NOTA\n",
      "enter an option:1\n",
      "Voted for congress\n",
      "thanks\n"
     ]
    }
   ],
   "source": [
    "print(\"The parties participated:\\n\\t1.CONGRESS\\n\\t2.BJP\\n\\t3.TDP\\n\\t4.TRS\\n\\t5.NOTA\")\n",
    "opt = input(\"enter an option:\")\n",
    "if opt in  [\"1\",\"2\",\"3\",\"4\",\"5\"]:\n",
    "    if opt==\"1\":\n",
    "        print(\"Voted for congress\")\n",
    "    elif opt==\"2\":\n",
    "        print(\"Voted for BJP\")\n",
    "    elif opt==\"3\":\n",
    "        print(\"Voted for TDP\")\n",
    "    elif opt==\"4\":\n",
    "        print(\"Voted for TRS\")\n",
    "    elif opt==\"5\":\n",
    "        print(\"Dont want to elect any person\")\n",
    "else:\n",
    "    print(\"invalid option...\")\n",
    "print(\"thanks\")"
   ]
  },
  {
   "cell_type": "code",
   "execution_count": 21,
   "metadata": {},
   "outputs": [
    {
     "name": "stdout",
     "output_type": "stream",
     "text": [
      "The parties participated:\n",
      "\t1.CONGRESS\n",
      "\t2.BJP\n",
      "\t3.TDP\n",
      "\t4.TRS\n",
      "\t5.NOTA\n",
      "enter an option:2\n",
      "Voted for BJP\n",
      "thanks\n"
     ]
    }
   ],
   "source": [
    "print(\"The parties participated:\\n\\t1.CONGRESS\\n\\t2.BJP\\n\\t3.TDP\\n\\t4.TRS\\n\\t5.NOTA\")\n",
    "opt = input(\"enter an option:\")\n",
    "if opt==\"1\":\n",
    "    print(\"Voted for congress\")\n",
    "elif opt==\"2\":\n",
    "    print(\"Voted for BJP\")\n",
    "elif opt==\"3\":\n",
    "    print(\"Voted for TDP\")\n",
    "elif opt==\"4\":\n",
    "    print(\"Voted for TRS\")\n",
    "elif opt==\"5\":\n",
    "    print(\"Dont want to elect any person\")\n",
    "else:\n",
    "    print(\"invalid option...\")\n",
    "print(\"thanks\")"
   ]
  },
  {
   "cell_type": "code",
   "execution_count": 22,
   "metadata": {},
   "outputs": [
    {
     "name": "stdout",
     "output_type": "stream",
     "text": [
      "The parties participated:\n",
      "\t1.CONGRESS\n",
      "\t2.BJP\n",
      "\t3.TDP\n",
      "\t4.TRS\n",
      "\t5.NOTA\n",
      "enter an option:20\n",
      "invalid option...\n",
      "thanks\n"
     ]
    }
   ],
   "source": [
    "print(\"The parties participated:\\n\\t1.CONGRESS\\n\\t2.BJP\\n\\t3.TDP\\n\\t4.TRS\\n\\t5.NOTA\")\n",
    "opt = input(\"enter an option:\")\n",
    "if opt==\"1\":\n",
    "    print(\"Voted for congress\")\n",
    "elif opt==\"2\":\n",
    "    print(\"Voted for BJP\")\n",
    "elif opt==\"3\":\n",
    "    print(\"Voted for TDP\")\n",
    "elif opt==\"4\":\n",
    "    print(\"Voted for TRS\")\n",
    "elif opt==\"5\":\n",
    "    print(\"Dont want to elect any person\")\n",
    "else:\n",
    "    print(\"invalid option...\")\n",
    "print(\"thanks\")"
   ]
  },
  {
   "cell_type": "code",
   "execution_count": null,
   "metadata": {},
   "outputs": [],
   "source": []
  }
 ],
 "metadata": {
  "kernelspec": {
   "display_name": "Python 3",
   "language": "python",
   "name": "python3"
  },
  "language_info": {
   "codemirror_mode": {
    "name": "ipython",
    "version": 3
   },
   "file_extension": ".py",
   "mimetype": "text/x-python",
   "name": "python",
   "nbconvert_exporter": "python",
   "pygments_lexer": "ipython3",
   "version": "3.7.0"
  }
 },
 "nbformat": 4,
 "nbformat_minor": 2
}
