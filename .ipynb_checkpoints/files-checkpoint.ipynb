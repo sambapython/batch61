{
 "cells": [
  {
   "cell_type": "code",
   "execution_count": 1,
   "metadata": {},
   "outputs": [],
   "source": [
    "path = \"data/customer.csv\""
   ]
  },
  {
   "cell_type": "code",
   "execution_count": 2,
   "metadata": {},
   "outputs": [
    {
     "data": {
      "text/plain": [
       "'data/customer.csv'"
      ]
     },
     "execution_count": 2,
     "metadata": {},
     "output_type": "execute_result"
    }
   ],
   "source": [
    "import os\n",
    "os.path.join(\"data\",\"customer.csv\")"
   ]
  },
  {
   "cell_type": "code",
   "execution_count": 3,
   "metadata": {},
   "outputs": [],
   "source": [
    "path = os.path.join(\"data\",\"customer.csv\")\n",
    "f=open(path,\"w\")"
   ]
  },
  {
   "cell_type": "code",
   "execution_count": 4,
   "metadata": {},
   "outputs": [
    {
     "data": {
      "text/plain": [
       "16"
      ]
     },
     "execution_count": 4,
     "metadata": {},
     "output_type": "execute_result"
    }
   ],
   "source": [
    "f.write(\"name,email,phone\")"
   ]
  },
  {
   "cell_type": "code",
   "execution_count": 5,
   "metadata": {},
   "outputs": [],
   "source": [
    "f.close()"
   ]
  },
  {
   "cell_type": "code",
   "execution_count": 6,
   "metadata": {},
   "outputs": [
    {
     "ename": "ValueError",
     "evalue": "I/O operation on closed file.",
     "output_type": "error",
     "traceback": [
      "\u001b[0;31m---------------------------------------------------------------------------\u001b[0m",
      "\u001b[0;31mValueError\u001b[0m                                Traceback (most recent call last)",
      "\u001b[0;32m<ipython-input-6-da0753b4cb72>\u001b[0m in \u001b[0;36m<module>\u001b[0;34m()\u001b[0m\n\u001b[0;32m----> 1\u001b[0;31m \u001b[0mf\u001b[0m\u001b[0;34m.\u001b[0m\u001b[0mwrite\u001b[0m\u001b[0;34m(\u001b[0m\u001b[0;34m\"some data\"\u001b[0m\u001b[0;34m)\u001b[0m\u001b[0;34m\u001b[0m\u001b[0m\n\u001b[0m",
      "\u001b[0;31mValueError\u001b[0m: I/O operation on closed file."
     ]
    }
   ],
   "source": [
    "f.write(\"some data\")"
   ]
  },
  {
   "cell_type": "code",
   "execution_count": 8,
   "metadata": {},
   "outputs": [
    {
     "data": {
      "text/plain": [
       "16"
      ]
     },
     "execution_count": 8,
     "metadata": {},
     "output_type": "execute_result"
    }
   ],
   "source": [
    "path = os.path.join(\"data\",\"customer.csv\")\n",
    "f=open(path,\"w\")\n",
    "f.write(\"name,email,phone\")"
   ]
  },
  {
   "cell_type": "code",
   "execution_count": 9,
   "metadata": {},
   "outputs": [],
   "source": [
    "f.flush()"
   ]
  },
  {
   "cell_type": "code",
   "execution_count": 10,
   "metadata": {},
   "outputs": [
    {
     "data": {
      "text/plain": [
       "29"
      ]
     },
     "execution_count": 10,
     "metadata": {},
     "output_type": "execute_result"
    }
   ],
   "source": [
    "f.write(\"\\nsai,sai@gmail.com,9676622023\")"
   ]
  },
  {
   "cell_type": "code",
   "execution_count": 11,
   "metadata": {},
   "outputs": [],
   "source": [
    "f.flush()"
   ]
  },
  {
   "cell_type": "code",
   "execution_count": 12,
   "metadata": {},
   "outputs": [],
   "source": [
    "f.close()"
   ]
  },
  {
   "cell_type": "code",
   "execution_count": 13,
   "metadata": {},
   "outputs": [],
   "source": [
    "path = os.path.join(\"data\",\"customer.csv\")\n",
    "f=open(path,\"a\")\n",
    "f.write(\"\\njay,jay@gmail.com,9676622024\")\n",
    "f.close()"
   ]
  },
  {
   "cell_type": "code",
   "execution_count": 14,
   "metadata": {},
   "outputs": [],
   "source": [
    "data = [\"\\nsai,sai@gmail.com,9676622023\",\"\\njay,jay@gmail.com,9676622024\"]\n",
    "path = os.path.join(\"data\",\"customer.csv\")\n",
    "f=open(path,\"a\")\n",
    "f.writelines(data)\n",
    "f.close()"
   ]
  },
  {
   "cell_type": "code",
   "execution_count": 15,
   "metadata": {},
   "outputs": [
    {
     "ename": "TypeError",
     "evalue": "write() argument must be str, not list",
     "output_type": "error",
     "traceback": [
      "\u001b[0;31m---------------------------------------------------------------------------\u001b[0m",
      "\u001b[0;31mTypeError\u001b[0m                                 Traceback (most recent call last)",
      "\u001b[0;32m<ipython-input-15-c5aae2ec92ba>\u001b[0m in \u001b[0;36m<module>\u001b[0;34m()\u001b[0m\n\u001b[1;32m      3\u001b[0m \u001b[0mpath\u001b[0m \u001b[0;34m=\u001b[0m \u001b[0mos\u001b[0m\u001b[0;34m.\u001b[0m\u001b[0mpath\u001b[0m\u001b[0;34m.\u001b[0m\u001b[0mjoin\u001b[0m\u001b[0;34m(\u001b[0m\u001b[0;34m\"data\"\u001b[0m\u001b[0;34m,\u001b[0m\u001b[0;34m\"customer1.csv\"\u001b[0m\u001b[0;34m)\u001b[0m\u001b[0;34m\u001b[0m\u001b[0m\n\u001b[1;32m      4\u001b[0m \u001b[0mf\u001b[0m\u001b[0;34m=\u001b[0m\u001b[0mopen\u001b[0m\u001b[0;34m(\u001b[0m\u001b[0mpath\u001b[0m\u001b[0;34m,\u001b[0m\u001b[0;34m\"a\"\u001b[0m\u001b[0;34m)\u001b[0m\u001b[0;34m\u001b[0m\u001b[0m\n\u001b[0;32m----> 5\u001b[0;31m \u001b[0mf\u001b[0m\u001b[0;34m.\u001b[0m\u001b[0mwrite\u001b[0m\u001b[0;34m(\u001b[0m\u001b[0mdata\u001b[0m\u001b[0;34m)\u001b[0m\u001b[0;34m\u001b[0m\u001b[0m\n\u001b[0m\u001b[1;32m      6\u001b[0m \u001b[0mf\u001b[0m\u001b[0;34m.\u001b[0m\u001b[0mclose\u001b[0m\u001b[0;34m(\u001b[0m\u001b[0;34m)\u001b[0m\u001b[0;34m\u001b[0m\u001b[0m\n",
      "\u001b[0;31mTypeError\u001b[0m: write() argument must be str, not list"
     ]
    }
   ],
   "source": [
    "data = [{\"name\":\"sai\",\"email\":\"sai@gmail.com\",\"phone\":\"9676622023\"},\n",
    "       {\"name\":\"jay\",\"email\":\"jay@gmail.com\",\"phone\":\"9676622024\"}]\n",
    "path = os.path.join(\"data\",\"customer1.csv\")\n",
    "f=open(path,\"a\")\n",
    "f.write(data)\n",
    "f.close()"
   ]
  },
  {
   "cell_type": "code",
   "execution_count": 16,
   "metadata": {},
   "outputs": [
    {
     "ename": "TypeError",
     "evalue": "write() argument must be str, not dict",
     "output_type": "error",
     "traceback": [
      "\u001b[0;31m---------------------------------------------------------------------------\u001b[0m",
      "\u001b[0;31mTypeError\u001b[0m                                 Traceback (most recent call last)",
      "\u001b[0;32m<ipython-input-16-417aa16a1e53>\u001b[0m in \u001b[0;36m<module>\u001b[0;34m()\u001b[0m\n\u001b[1;32m      3\u001b[0m \u001b[0mpath\u001b[0m \u001b[0;34m=\u001b[0m \u001b[0mos\u001b[0m\u001b[0;34m.\u001b[0m\u001b[0mpath\u001b[0m\u001b[0;34m.\u001b[0m\u001b[0mjoin\u001b[0m\u001b[0;34m(\u001b[0m\u001b[0;34m\"data\"\u001b[0m\u001b[0;34m,\u001b[0m\u001b[0;34m\"customer1.csv\"\u001b[0m\u001b[0;34m)\u001b[0m\u001b[0;34m\u001b[0m\u001b[0m\n\u001b[1;32m      4\u001b[0m \u001b[0mf\u001b[0m\u001b[0;34m=\u001b[0m\u001b[0mopen\u001b[0m\u001b[0;34m(\u001b[0m\u001b[0mpath\u001b[0m\u001b[0;34m,\u001b[0m\u001b[0;34m\"a\"\u001b[0m\u001b[0;34m)\u001b[0m\u001b[0;34m\u001b[0m\u001b[0m\n\u001b[0;32m----> 5\u001b[0;31m \u001b[0mf\u001b[0m\u001b[0;34m.\u001b[0m\u001b[0mwritelines\u001b[0m\u001b[0;34m(\u001b[0m\u001b[0mdata\u001b[0m\u001b[0;34m)\u001b[0m\u001b[0;34m\u001b[0m\u001b[0m\n\u001b[0m\u001b[1;32m      6\u001b[0m \u001b[0mf\u001b[0m\u001b[0;34m.\u001b[0m\u001b[0mclose\u001b[0m\u001b[0;34m(\u001b[0m\u001b[0;34m)\u001b[0m\u001b[0;34m\u001b[0m\u001b[0m\n",
      "\u001b[0;31mTypeError\u001b[0m: write() argument must be str, not dict"
     ]
    }
   ],
   "source": [
    "data = [{\"name\":\"sai\",\"email\":\"sai@gmail.com\",\"phone\":\"9676622023\"},\n",
    "       {\"name\":\"jay\",\"email\":\"jay@gmail.com\",\"phone\":\"9676622024\"}]\n",
    "path = os.path.join(\"data\",\"customer1.csv\")\n",
    "f=open(path,\"a\")\n",
    "f.writelines(data)\n",
    "f.close()"
   ]
  },
  {
   "cell_type": "code",
   "execution_count": 17,
   "metadata": {},
   "outputs": [],
   "source": [
    "data = [{\"name\":\"sai\",\"email\":\"sai@gmail.com\",\"phone\":\"9676622023\"},\n",
    "       {\"name\":\"jay\",\"email\":\"jay@gmail.com\",\"phone\":\"9676622024\"}]\n",
    "path = os.path.join(\"data\",\"customer1.csv\")\n",
    "f=open(path,\"a\")\n",
    "f.writelines(str(data))\n",
    "f.close()"
   ]
  },
  {
   "cell_type": "code",
   "execution_count": 18,
   "metadata": {},
   "outputs": [
    {
     "name": "stdout",
     "output_type": "stream",
     "text": [
      "[{'name': 'sai', 'email': 'sai@gmail.com', 'phone': '9676622023'}, {'name': 'jay', 'email': 'jay@gmail.com', 'phone': '9676622024'}]\n",
      "<class 'str'>\n"
     ]
    }
   ],
   "source": [
    "path = os.path.join(\"data\",\"customer1.csv\")\n",
    "f=open(path,\"r\")\n",
    "data = f.read()\n",
    "print(data)\n",
    "print(type(data))"
   ]
  },
  {
   "cell_type": "code",
   "execution_count": 19,
   "metadata": {},
   "outputs": [],
   "source": [
    "import pickle\n",
    "data = [{\"name\":\"sai\",\"email\":\"sai@gmail.com\",\"phone\":\"9676622023\"},\n",
    "       {\"name\":\"jay\",\"email\":\"jay@gmail.com\",\"phone\":\"9676622024\"}]\n",
    "path = os.path.join(\"data\",\"customer1.csv\")\n",
    "f=open(path,\"wb\")\n",
    "pickle.dump(data,f)\n",
    "f.close()"
   ]
  },
  {
   "cell_type": "code",
   "execution_count": 21,
   "metadata": {},
   "outputs": [
    {
     "name": "stdout",
     "output_type": "stream",
     "text": [
      "b'\\x80\\x03]q\\x00(}q\\x01(X\\x04\\x00\\x00\\x00nameq\\x02X\\x03\\x00\\x00\\x00saiq\\x03X\\x05\\x00\\x00\\x00emailq\\x04X\\r\\x00\\x00\\x00sai@gmail.comq\\x05X\\x05\\x00\\x00\\x00phoneq\\x06X\\n\\x00\\x00\\x009676622023q\\x07u}q\\x08(h\\x02X\\x03\\x00\\x00\\x00jayq\\th\\x04X\\r\\x00\\x00\\x00jay@gmail.comq\\nh\\x06X\\n\\x00\\x00\\x009676622024q\\x0bue.'\n",
      "<class 'bytes'>\n"
     ]
    }
   ],
   "source": [
    "path = os.path.join(\"data\",\"customer1.csv\")\n",
    "f=open(path,\"rb\")\n",
    "data = f.read()\n",
    "print(data)\n",
    "print(type(data))"
   ]
  },
  {
   "cell_type": "code",
   "execution_count": 22,
   "metadata": {},
   "outputs": [
    {
     "name": "stdout",
     "output_type": "stream",
     "text": [
      "[{'name': 'sai', 'email': 'sai@gmail.com', 'phone': '9676622023'}, {'name': 'jay', 'email': 'jay@gmail.com', 'phone': '9676622024'}]\n",
      "<class 'list'>\n"
     ]
    }
   ],
   "source": [
    "import pickle\n",
    "path = os.path.join(\"data\",\"customer1.csv\")\n",
    "f=open(path,\"rb\")\n",
    "data = pickle.load(f)\n",
    "print(data)\n",
    "print(type(data))"
   ]
  },
  {
   "cell_type": "code",
   "execution_count": 25,
   "metadata": {},
   "outputs": [
    {
     "name": "stdout",
     "output_type": "stream",
     "text": [
      "[{'name': 'sai', 'email': 'sai@gmail.com', 'phone': '9676622023'}, {'name': 'jay', 'email': 'jay@gmail.com', 'phone': '9676622024'}]\n",
      "<class 'list'>\n"
     ]
    }
   ],
   "source": [
    "# write into file\n",
    "import json\n",
    "data = [{\"name\":\"sai\",\"email\":\"sai@gmail.com\",\"phone\":\"9676622023\"},\n",
    "       {\"name\":\"jay\",\"email\":\"jay@gmail.com\",\"phone\":\"9676622024\"}]\n",
    "path = os.path.join(\"data\",\"customer1.json\")\n",
    "f=open(path,\"w\")\n",
    "json.dump(data,f)\n",
    "f.close()\n",
    "\n",
    "# read from file\n",
    "import pickle\n",
    "path = os.path.join(\"data\",\"customer1.json\")\n",
    "f=open(path,\"r\")\n",
    "data = json.load(f)\n",
    "print(data)\n",
    "print(type(data))"
   ]
  },
  {
   "cell_type": "code",
   "execution_count": 26,
   "metadata": {},
   "outputs": [
    {
     "name": "stdout",
     "output_type": "stream",
     "text": [
      "[{'email': 'sai@gmail.com', 'name': 'sai', 'phone': '9676622023'}, {'email': 'jay@gmail.com', 'name': 'jay', 'phone': '9676622024'}]\n",
      "<class 'list'>\n"
     ]
    }
   ],
   "source": [
    "# write into file\n",
    "import yaml\n",
    "data = [{\"name\":\"sai\",\"email\":\"sai@gmail.com\",\"phone\":\"9676622023\"},\n",
    "       {\"name\":\"jay\",\"email\":\"jay@gmail.com\",\"phone\":\"9676622024\"}]\n",
    "path = os.path.join(\"data\",\"customer1.yaml\")\n",
    "f=open(path,\"w\")\n",
    "yaml.dump(data,f)\n",
    "f.close()\n",
    "\n",
    "# read from file\n",
    "import yaml\n",
    "path = os.path.join(\"data\",\"customer1.yaml\")\n",
    "f=open(path,\"r\")\n",
    "data = yaml.load(f)\n",
    "print(data)\n",
    "print(type(data))"
   ]
  },
  {
   "cell_type": "code",
   "execution_count": 27,
   "metadata": {},
   "outputs": [
    {
     "name": "stdout",
     "output_type": "stream",
     "text": [
      "name,email,phone\n",
      "\n",
      "sai,sai@gmail.com,9676622023\n",
      "\n",
      "jay,jay@gmail.com,9676622024\n",
      "\n",
      "sai,sai@gmail.com,9676622023\n",
      "\n",
      "jay,jay@gmail.com,9676622024\n"
     ]
    }
   ],
   "source": [
    "path = os.path.join(\"data\",\"customer.csv\")\n",
    "f=open(path)\n",
    "for i in f:\n",
    "    print(i)"
   ]
  },
  {
   "cell_type": "code",
   "execution_count": 28,
   "metadata": {},
   "outputs": [
    {
     "name": "stdout",
     "output_type": "stream",
     "text": [
      "['name,email,phone\\n', 'sai,sai@gmail.com,9676622023\\n', 'jay,jay@gmail.com,9676622024\\n', 'sai,sai@gmail.com,9676622023\\n', 'jay,jay@gmail.com,9676622024']\n"
     ]
    }
   ],
   "source": [
    "path = os.path.join(\"data\",\"customer.csv\")\n",
    "f=open(path)\n",
    "data=f.readlines()\n",
    "print(data)"
   ]
  },
  {
   "cell_type": "code",
   "execution_count": 30,
   "metadata": {},
   "outputs": [
    {
     "name": "stdout",
     "output_type": "stream",
     "text": [
      "name,email,phone\n",
      "\n",
      "sai,sai@gmail.com,9676622023\n",
      "\n",
      "jay,jay@gmail.com,9676622024\n",
      "\n"
     ]
    }
   ],
   "source": [
    "path = os.path.join(\"data\",\"customer.csv\")\n",
    "f=open(path)\n",
    "print(f.readline())\n",
    "print(f.readline())\n",
    "print(f.readline())"
   ]
  },
  {
   "cell_type": "code",
   "execution_count": 31,
   "metadata": {},
   "outputs": [
    {
     "name": "stdout",
     "output_type": "stream",
     "text": [
      "name,email,phone\n",
      "\n",
      "sai,sai@gmail.com,9676622023\n",
      "\n",
      "jay,jay@gmail.com,9676622024\n",
      "\n",
      "sai,sai@gmail.com,9676622023\n",
      "\n",
      "jay,jay@gmail.com,9676622024\n",
      "\n"
     ]
    }
   ],
   "source": [
    "path = os.path.join(\"data\",\"customer.csv\")\n",
    "f=open(path)\n",
    "print(f.readline())\n",
    "print(f.readline())\n",
    "print(f.readline())\n",
    "print(f.readline())\n",
    "print(f.readline())\n",
    "print(f.readline())"
   ]
  },
  {
   "cell_type": "code",
   "execution_count": 34,
   "metadata": {},
   "outputs": [
    {
     "name": "stdout",
     "output_type": "stream",
     "text": [
      "name,email,phone\n",
      "sai,sai@gmail.com,9676622023\n",
      "jay,jay@gmail.com,9676622024\n",
      "sai,sai@gmail.com,9676622\n",
      "********************\n",
      "023\n",
      "jay,jay@gmail.com,9676622024\n",
      "********************\n",
      "\n",
      "\n"
     ]
    }
   ],
   "source": [
    "path = os.path.join(\"data\",\"customer.csv\")\n",
    "f=open(path)\n",
    "print(f.read(100))\n",
    "print(\"*\"*20)\n",
    "print(f.read(100))\n",
    "print(\"*\"*20)\n",
    "print(f.read(100))\n",
    "print(f.read(100))\n"
   ]
  },
  {
   "cell_type": "code",
   "execution_count": 35,
   "metadata": {},
   "outputs": [
    {
     "name": "stdout",
     "output_type": "stream",
     "text": [
      "name,email\n",
      ",phone\n",
      "sai\n",
      ",sai@gmail\n",
      ".com,96766\n",
      "22023\n",
      "jay,\n",
      "jay@gmail.\n",
      "com,967662\n",
      "2024\n",
      "sai,s\n",
      "ai@gmail.c\n",
      "om,9676622\n",
      "023\n",
      "jay,ja\n",
      "y@gmail.co\n",
      "m,96766220\n",
      "24\n"
     ]
    }
   ],
   "source": [
    "path = os.path.join(\"data\",\"customer.csv\")\n",
    "f=open(path)\n",
    "while True:\n",
    "    data = f.read(10)\n",
    "    if not data:\n",
    "        break\n",
    "    print(data)"
   ]
  },
  {
   "cell_type": "code",
   "execution_count": 36,
   "metadata": {},
   "outputs": [
    {
     "name": "stdout",
     "output_type": "stream",
     "text": [
      "name,email,phone\n",
      "\n",
      "sai,sai@gmail.com,9676622023\n",
      "\n",
      "jay,jay@gmail.com,9676622024\n",
      "\n",
      "sai,sai@gmail.com,9676622023\n",
      "\n",
      "jay,jay@gmail.com,9676622024\n"
     ]
    }
   ],
   "source": [
    "path = os.path.join(\"data\",\"customer.csv\")\n",
    "f=open(path)\n",
    "while True:\n",
    "    data = f.readline()\n",
    "    if not data:\n",
    "        break\n",
    "    print(data)"
   ]
  },
  {
   "cell_type": "code",
   "execution_count": 38,
   "metadata": {},
   "outputs": [],
   "source": [
    "f=open(\"int_str_list_mem.jpg\",\"rb\")\n",
    "data = f.read()\n",
    "f.close()\n",
    "f=open(\"bigfile.jpg\",\"wb\")\n",
    "for i in range(10):\n",
    "    f.write(data)\n",
    "    f.flush()"
   ]
  },
  {
   "cell_type": "code",
   "execution_count": null,
   "metadata": {},
   "outputs": [],
   "source": []
  }
 ],
 "metadata": {
  "kernelspec": {
   "display_name": "Python 3",
   "language": "python",
   "name": "python3"
  },
  "language_info": {
   "codemirror_mode": {
    "name": "ipython",
    "version": 3
   },
   "file_extension": ".py",
   "mimetype": "text/x-python",
   "name": "python",
   "nbconvert_exporter": "python",
   "pygments_lexer": "ipython3",
   "version": "3.7.0"
  }
 },
 "nbformat": 4,
 "nbformat_minor": 2
}
