{
 "cells": [
  {
   "cell_type": "code",
   "execution_count": 1,
   "metadata": {},
   "outputs": [
    {
     "ename": "SyntaxError",
     "evalue": "invalid syntax (<ipython-input-1-df6817495755>, line 2)",
     "output_type": "error",
     "traceback": [
      "\u001b[0;36m  File \u001b[0;32m\"<ipython-input-1-df6817495755>\"\u001b[0;36m, line \u001b[0;32m2\u001b[0m\n\u001b[0;31m    1sdwr = \"dsafdsf\"\u001b[0m\n\u001b[0m        ^\u001b[0m\n\u001b[0;31mSyntaxError\u001b[0m\u001b[0;31m:\u001b[0m invalid syntax\n"
     ]
    }
   ],
   "source": [
    "print(\"hello\")\n",
    "1sdwr = \"dsafdsf\""
   ]
  },
  {
   "cell_type": "code",
   "execution_count": 2,
   "metadata": {},
   "outputs": [
    {
     "name": "stdout",
     "output_type": "stream",
     "text": [
      "hello\n",
      "0.5\n",
      "thanks\n"
     ]
    }
   ],
   "source": [
    "print(\"hello\")\n",
    "print(1/2)\n",
    "print(\"thanks\")"
   ]
  },
  {
   "cell_type": "code",
   "execution_count": 3,
   "metadata": {},
   "outputs": [
    {
     "name": "stdout",
     "output_type": "stream",
     "text": [
      "hello\n"
     ]
    },
    {
     "ename": "ZeroDivisionError",
     "evalue": "division by zero",
     "output_type": "error",
     "traceback": [
      "\u001b[0;31m---------------------------------------------------------------------------\u001b[0m",
      "\u001b[0;31mZeroDivisionError\u001b[0m                         Traceback (most recent call last)",
      "\u001b[0;32m<ipython-input-3-84079c6628a0>\u001b[0m in \u001b[0;36m<module>\u001b[0;34m()\u001b[0m\n\u001b[1;32m      1\u001b[0m \u001b[0mprint\u001b[0m\u001b[0;34m(\u001b[0m\u001b[0;34m\"hello\"\u001b[0m\u001b[0;34m)\u001b[0m\u001b[0;34m\u001b[0m\u001b[0m\n\u001b[0;32m----> 2\u001b[0;31m \u001b[0mprint\u001b[0m\u001b[0;34m(\u001b[0m\u001b[0;36m1\u001b[0m\u001b[0;34m/\u001b[0m\u001b[0;36m0\u001b[0m\u001b[0;34m)\u001b[0m\u001b[0;34m\u001b[0m\u001b[0m\n\u001b[0m\u001b[1;32m      3\u001b[0m \u001b[0mprint\u001b[0m\u001b[0;34m(\u001b[0m\u001b[0;34m\"thanks\"\u001b[0m\u001b[0;34m)\u001b[0m\u001b[0;34m\u001b[0m\u001b[0m\n",
      "\u001b[0;31mZeroDivisionError\u001b[0m: division by zero"
     ]
    }
   ],
   "source": [
    "print(\"hello\")\n",
    "print(1/0)\n",
    "print(\"thanks\")"
   ]
  },
  {
   "cell_type": "code",
   "execution_count": 4,
   "metadata": {},
   "outputs": [
    {
     "name": "stdout",
     "output_type": "stream",
     "text": [
      "hello\n",
      "some issue\n",
      "other main block statements\n"
     ]
    }
   ],
   "source": [
    "try:\n",
    "    print(\"hello\")\n",
    "    print(1/0)\n",
    "    print(\"thanks\")\n",
    "except:\n",
    "    print(\"some issue\")\n",
    "print(\"other main block statements\")"
   ]
  },
  {
   "cell_type": "code",
   "execution_count": 5,
   "metadata": {},
   "outputs": [
    {
     "name": "stdout",
     "output_type": "stream",
     "text": [
      "welcome\n",
      "Enter number1:10\n",
      "enter number2:5\n",
      "before conversion:n1=10,n2=5\n",
      "after conversion:n1=10,n2=5\n",
      "result=2.0\n",
      "thank you...\n"
     ]
    }
   ],
   "source": [
    "print(\"welcome\")\n",
    "n1=input(\"Enter number1:\")\n",
    "n2=input(\"enter number2:\")\n",
    "print(f\"before conversion:n1={n1},n2={n2}\")\n",
    "n1=int(n1)\n",
    "n2=int(n2)\n",
    "print(f\"after conversion:n1={n1},n2={n2}\")\n",
    "res=n1/n2\n",
    "print(\"result=%s\"%res)\n",
    "print(\"thank you...\")"
   ]
  },
  {
   "cell_type": "code",
   "execution_count": 6,
   "metadata": {},
   "outputs": [
    {
     "ename": "ValueError",
     "evalue": "invalid literal for int() with base 10: '1.5'",
     "output_type": "error",
     "traceback": [
      "\u001b[0;31m---------------------------------------------------------------------------\u001b[0m",
      "\u001b[0;31mValueError\u001b[0m                                Traceback (most recent call last)",
      "\u001b[0;32m<ipython-input-6-aece86d34916>\u001b[0m in \u001b[0;36m<module>\u001b[0;34m()\u001b[0m\n\u001b[0;32m----> 1\u001b[0;31m \u001b[0mint\u001b[0m\u001b[0;34m(\u001b[0m\u001b[0;34m\"1.5\"\u001b[0m\u001b[0;34m)\u001b[0m\u001b[0;34m\u001b[0m\u001b[0m\n\u001b[0m",
      "\u001b[0;31mValueError\u001b[0m: invalid literal for int() with base 10: '1.5'"
     ]
    }
   ],
   "source": [
    "int(\"1.5\")"
   ]
  },
  {
   "cell_type": "code",
   "execution_count": 7,
   "metadata": {},
   "outputs": [
    {
     "name": "stdout",
     "output_type": "stream",
     "text": [
      "welcome\n",
      "Enter number1:1.5\n",
      "enter number2:0.3\n",
      "before conversion:n1=1.5,n2=0.3\n"
     ]
    },
    {
     "ename": "ValueError",
     "evalue": "invalid literal for int() with base 10: '1.5'",
     "output_type": "error",
     "traceback": [
      "\u001b[0;31m---------------------------------------------------------------------------\u001b[0m",
      "\u001b[0;31mValueError\u001b[0m                                Traceback (most recent call last)",
      "\u001b[0;32m<ipython-input-7-570052d829ed>\u001b[0m in \u001b[0;36m<module>\u001b[0;34m()\u001b[0m\n\u001b[1;32m      3\u001b[0m \u001b[0mn2\u001b[0m\u001b[0;34m=\u001b[0m\u001b[0minput\u001b[0m\u001b[0;34m(\u001b[0m\u001b[0;34m\"enter number2:\"\u001b[0m\u001b[0;34m)\u001b[0m\u001b[0;34m\u001b[0m\u001b[0m\n\u001b[1;32m      4\u001b[0m \u001b[0mprint\u001b[0m\u001b[0;34m(\u001b[0m\u001b[0;34mf\"before conversion:n1={n1},n2={n2}\"\u001b[0m\u001b[0;34m)\u001b[0m\u001b[0;34m\u001b[0m\u001b[0m\n\u001b[0;32m----> 5\u001b[0;31m \u001b[0mn1\u001b[0m\u001b[0;34m=\u001b[0m\u001b[0mint\u001b[0m\u001b[0;34m(\u001b[0m\u001b[0mn1\u001b[0m\u001b[0;34m)\u001b[0m\u001b[0;34m\u001b[0m\u001b[0m\n\u001b[0m\u001b[1;32m      6\u001b[0m \u001b[0mn2\u001b[0m\u001b[0;34m=\u001b[0m\u001b[0mint\u001b[0m\u001b[0;34m(\u001b[0m\u001b[0mn2\u001b[0m\u001b[0;34m)\u001b[0m\u001b[0;34m\u001b[0m\u001b[0m\n\u001b[1;32m      7\u001b[0m \u001b[0mprint\u001b[0m\u001b[0;34m(\u001b[0m\u001b[0;34mf\"after conversion:n1={n1},n2={n2}\"\u001b[0m\u001b[0;34m)\u001b[0m\u001b[0;34m\u001b[0m\u001b[0m\n",
      "\u001b[0;31mValueError\u001b[0m: invalid literal for int() with base 10: '1.5'"
     ]
    }
   ],
   "source": [
    "print(\"welcome\")\n",
    "n1=input(\"Enter number1:\")\n",
    "n2=input(\"enter number2:\")\n",
    "print(f\"before conversion:n1={n1},n2={n2}\")\n",
    "n1=int(n1)\n",
    "n2=int(n2)\n",
    "print(f\"after conversion:n1={n1},n2={n2}\")\n",
    "res=n1/n2\n",
    "print(\"result=%s\"%res)\n",
    "print(\"thank you...\")"
   ]
  },
  {
   "cell_type": "code",
   "execution_count": 8,
   "metadata": {},
   "outputs": [
    {
     "name": "stdout",
     "output_type": "stream",
     "text": [
      "welcome\n",
      "Enter number1:1\n",
      "enter number2:2\n",
      "before conversion:n1=1,n2=2\n",
      "after conversion:n1=1,n2=2\n",
      "result=0.5\n",
      "thank you...\n"
     ]
    }
   ],
   "source": [
    "print(\"welcome\")\n",
    "n1=input(\"Enter number1:\")\n",
    "n2=input(\"enter number2:\")\n",
    "print(f\"before conversion:n1={n1},n2={n2}\")\n",
    "n1=int(n1)\n",
    "n2=int(n2)\n",
    "print(f\"after conversion:n1={n1},n2={n2}\")\n",
    "res=n1/n2\n",
    "print(\"result=%s\"%res)\n",
    "print(\"thank you...\")"
   ]
  },
  {
   "cell_type": "code",
   "execution_count": 9,
   "metadata": {},
   "outputs": [
    {
     "name": "stdout",
     "output_type": "stream",
     "text": [
      "welcome\n",
      "Enter number1:1.5\n",
      "enter number2:0.3\n",
      "before conversion:n1=1.5,n2=0.3\n",
      "after conversion:n1=1.5,n2=0.3\n",
      "result=5.0\n",
      "thank you...\n"
     ]
    }
   ],
   "source": [
    "print(\"welcome\")\n",
    "n1=input(\"Enter number1:\")\n",
    "n2=input(\"enter number2:\")\n",
    "print(f\"before conversion:n1={n1},n2={n2}\")\n",
    "n1=float(n1)\n",
    "n2=float(n2)\n",
    "print(f\"after conversion:n1={n1},n2={n2}\")\n",
    "res=n1/n2\n",
    "print(\"result=%s\"%res)\n",
    "print(\"thank you...\")"
   ]
  },
  {
   "cell_type": "code",
   "execution_count": 11,
   "metadata": {},
   "outputs": [
    {
     "name": "stdout",
     "output_type": "stream",
     "text": [
      "result= 1.23\n"
     ]
    }
   ],
   "source": [
    "s=1.23\n",
    "print(\"result=\",s)"
   ]
  },
  {
   "cell_type": "code",
   "execution_count": 12,
   "metadata": {},
   "outputs": [
    {
     "name": "stdout",
     "output_type": "stream",
     "text": [
      "result=1.230000\n"
     ]
    }
   ],
   "source": [
    "s=1.23\n",
    "print(\"result=%f\"%s)"
   ]
  },
  {
   "cell_type": "code",
   "execution_count": 13,
   "metadata": {},
   "outputs": [
    {
     "name": "stdout",
     "output_type": "stream",
     "text": [
      "result=1.23\n"
     ]
    }
   ],
   "source": [
    "s=1.23\n",
    "print(\"result=%s\"%s)"
   ]
  },
  {
   "cell_type": "code",
   "execution_count": 14,
   "metadata": {},
   "outputs": [
    {
     "name": "stdout",
     "output_type": "stream",
     "text": [
      "welcome\n",
      "Enter number1:10\n",
      "enter number2:5\n",
      "before conversion:n1=10,n2=5\n",
      "after conversion:n1=10.0,n2=5.0\n",
      "result=2.0\n",
      "thank you...\n"
     ]
    }
   ],
   "source": [
    "print(\"welcome\")\n",
    "n1=input(\"Enter number1:\")\n",
    "n2=input(\"enter number2:\")\n",
    "print(f\"before conversion:n1={n1},n2={n2}\")\n",
    "n1=float(n1)\n",
    "n2=float(n2)\n",
    "print(f\"after conversion:n1={n1},n2={n2}\")\n",
    "res=n1/n2\n",
    "print(\"result=%s\"%res)\n",
    "print(\"thank you...\")"
   ]
  },
  {
   "cell_type": "code",
   "execution_count": 15,
   "metadata": {},
   "outputs": [
    {
     "name": "stdout",
     "output_type": "stream",
     "text": [
      "welcome\n",
      "Enter number1:12\n",
      "enter number2:0\n",
      "before conversion:n1=12,n2=0\n",
      "after conversion:n1=12.0,n2=0.0\n"
     ]
    },
    {
     "ename": "ZeroDivisionError",
     "evalue": "float division by zero",
     "output_type": "error",
     "traceback": [
      "\u001b[0;31m---------------------------------------------------------------------------\u001b[0m",
      "\u001b[0;31mZeroDivisionError\u001b[0m                         Traceback (most recent call last)",
      "\u001b[0;32m<ipython-input-15-639215ac1fe2>\u001b[0m in \u001b[0;36m<module>\u001b[0;34m()\u001b[0m\n\u001b[1;32m      6\u001b[0m \u001b[0mn2\u001b[0m\u001b[0;34m=\u001b[0m\u001b[0mfloat\u001b[0m\u001b[0;34m(\u001b[0m\u001b[0mn2\u001b[0m\u001b[0;34m)\u001b[0m\u001b[0;34m\u001b[0m\u001b[0m\n\u001b[1;32m      7\u001b[0m \u001b[0mprint\u001b[0m\u001b[0;34m(\u001b[0m\u001b[0;34mf\"after conversion:n1={n1},n2={n2}\"\u001b[0m\u001b[0;34m)\u001b[0m\u001b[0;34m\u001b[0m\u001b[0m\n\u001b[0;32m----> 8\u001b[0;31m \u001b[0mres\u001b[0m\u001b[0;34m=\u001b[0m\u001b[0mn1\u001b[0m\u001b[0;34m/\u001b[0m\u001b[0mn2\u001b[0m\u001b[0;34m\u001b[0m\u001b[0m\n\u001b[0m\u001b[1;32m      9\u001b[0m \u001b[0mprint\u001b[0m\u001b[0;34m(\u001b[0m\u001b[0;34m\"result=%s\"\u001b[0m\u001b[0;34m%\u001b[0m\u001b[0mres\u001b[0m\u001b[0;34m)\u001b[0m\u001b[0;34m\u001b[0m\u001b[0m\n\u001b[1;32m     10\u001b[0m \u001b[0mprint\u001b[0m\u001b[0;34m(\u001b[0m\u001b[0;34m\"thank you...\"\u001b[0m\u001b[0;34m)\u001b[0m\u001b[0;34m\u001b[0m\u001b[0m\n",
      "\u001b[0;31mZeroDivisionError\u001b[0m: float division by zero"
     ]
    }
   ],
   "source": [
    "print(\"welcome\")\n",
    "n1=input(\"Enter number1:\")\n",
    "n2=input(\"enter number2:\")\n",
    "print(f\"before conversion:n1={n1},n2={n2}\")\n",
    "n1=float(n1)\n",
    "n2=float(n2)\n",
    "print(f\"after conversion:n1={n1},n2={n2}\")\n",
    "res=n1/n2\n",
    "print(\"result=%s\"%res)\n",
    "print(\"thank you...\")"
   ]
  },
  {
   "cell_type": "code",
   "execution_count": 16,
   "metadata": {},
   "outputs": [
    {
     "name": "stdout",
     "output_type": "stream",
     "text": [
      "welcome\n",
      "Enter number1:12\n",
      "enter number2:6\n",
      "before conversion:n1=12,n2=6\n",
      "after conversion:n1=12.0,n2=6.0\n",
      "result=2.0\n",
      "thank you...\n"
     ]
    }
   ],
   "source": [
    "try:\n",
    "    print(\"welcome\")\n",
    "    n1=input(\"Enter number1:\")\n",
    "    n2=input(\"enter number2:\")\n",
    "    print(f\"before conversion:n1={n1},n2={n2}\")\n",
    "    n1=float(n1)\n",
    "    n2=float(n2)\n",
    "    print(f\"after conversion:n1={n1},n2={n2}\")\n",
    "    res=n1/n2\n",
    "    print(\"result=%s\"%res)\n",
    "    print(\"thank you...\")\n",
    "except:\n",
    "    print(\"please contact developer...\")"
   ]
  },
  {
   "cell_type": "code",
   "execution_count": 17,
   "metadata": {},
   "outputs": [
    {
     "name": "stdout",
     "output_type": "stream",
     "text": [
      "welcome\n",
      "Enter number1:12\n",
      "enter number2:0\n",
      "before conversion:n1=12,n2=0\n",
      "after conversion:n1=12.0,n2=0.0\n",
      "please contact developer...\n"
     ]
    }
   ],
   "source": [
    "try:\n",
    "    print(\"welcome\")\n",
    "    n1=input(\"Enter number1:\")\n",
    "    n2=input(\"enter number2:\")\n",
    "    print(f\"before conversion:n1={n1},n2={n2}\")\n",
    "    n1=float(n1)\n",
    "    n2=float(n2)\n",
    "    print(f\"after conversion:n1={n1},n2={n2}\")\n",
    "    res=n1/n2\n",
    "    print(\"result=%s\"%res)\n",
    "    print(\"thank you...\")\n",
    "except:\n",
    "    print(\"please contact developer...\")"
   ]
  },
  {
   "cell_type": "code",
   "execution_count": 18,
   "metadata": {},
   "outputs": [
    {
     "name": "stdout",
     "output_type": "stream",
     "text": [
      "welcome\n",
      "Enter number1:werw\n",
      "enter number2:ewr\n",
      "before conversion:n1=werw,n2=ewr\n",
      "please contact developer...\n"
     ]
    }
   ],
   "source": [
    "try:\n",
    "    print(\"welcome\")\n",
    "    n1=input(\"Enter number1:\")\n",
    "    n2=input(\"enter number2:\")\n",
    "    print(f\"before conversion:n1={n1},n2={n2}\")\n",
    "    n1=float(n1)\n",
    "    n2=float(n2)\n",
    "    print(f\"after conversion:n1={n1},n2={n2}\")\n",
    "    res=n1/n2\n",
    "    print(\"result=%s\"%res)\n",
    "    print(\"thank you...\")\n",
    "except:\n",
    "    print(\"please contact developer...\")"
   ]
  },
  {
   "cell_type": "code",
   "execution_count": 19,
   "metadata": {},
   "outputs": [
    {
     "name": "stdout",
     "output_type": "stream",
     "text": [
      "welcome\n",
      "Enter number1:12\n",
      "enter number2:wer\n",
      "before conversion:n1=12,n2=wer\n",
      "please contact developer...\n"
     ]
    }
   ],
   "source": [
    "try:\n",
    "    print(\"welcome\")\n",
    "    n1=input(\"Enter number1:\")\n",
    "    n2=input(\"enter number2:\")\n",
    "    print(f\"before conversion:n1={n1},n2={n2}\")\n",
    "    n1=float(n1)\n",
    "    n2=float(n2)\n",
    "    print(f\"after conversion:n1={n1},n2={n2}\")\n",
    "    res=n1/n2\n",
    "    print(\"result=%s\"%res)\n",
    "    print(\"thank you...\")\n",
    "except:\n",
    "    print(\"please contact developer...\")"
   ]
  },
  {
   "cell_type": "code",
   "execution_count": 20,
   "metadata": {},
   "outputs": [
    {
     "name": "stdout",
     "output_type": "stream",
     "text": [
      "welcome\n",
      "Enter number1:12\n",
      "enter number2:6\n",
      "before conversion:n1=12,n2=6\n",
      "after conversion:n1=12.0,n2=6.0\n",
      "result=2.0\n",
      "thank you...\n"
     ]
    }
   ],
   "source": [
    "print(\"welcome\")\n",
    "n1=input(\"Enter number1:\")\n",
    "n2=input(\"enter number2:\")\n",
    "print(f\"before conversion:n1={n1},n2={n2}\")\n",
    "try:\n",
    "    n1=float(n1)\n",
    "    n2=float(n2)\n",
    "    print(f\"after conversion:n1={n1},n2={n2}\")\n",
    "    res=n1/n2\n",
    "    print(\"result=%s\"%res)\n",
    "except:\n",
    "    print(\"please contact developer...\")\n",
    "print(\"thank you...\")"
   ]
  },
  {
   "cell_type": "code",
   "execution_count": 21,
   "metadata": {},
   "outputs": [
    {
     "name": "stdout",
     "output_type": "stream",
     "text": [
      "welcome\n",
      "Enter number1:12\n",
      "enter number2:0\n",
      "before conversion:n1=12,n2=0\n",
      "after conversion:n1=12.0,n2=0.0\n",
      "please contact developer...\n",
      "thank you...\n"
     ]
    }
   ],
   "source": [
    "print(\"welcome\")\n",
    "n1=input(\"Enter number1:\")\n",
    "n2=input(\"enter number2:\")\n",
    "print(f\"before conversion:n1={n1},n2={n2}\")\n",
    "try:\n",
    "    n1=float(n1)\n",
    "    n2=float(n2)\n",
    "    print(f\"after conversion:n1={n1},n2={n2}\")\n",
    "    res=n1/n2\n",
    "    print(\"result=%s\"%res)\n",
    "except:\n",
    "    print(\"please contact developer...\")\n",
    "print(\"thank you...\")"
   ]
  },
  {
   "cell_type": "code",
   "execution_count": 22,
   "metadata": {},
   "outputs": [
    {
     "name": "stdout",
     "output_type": "stream",
     "text": [
      "welcome\n",
      "Enter number1:12\n",
      "enter number2:6\n",
      "before conversion:n1=12,n2=6\n",
      "after conversion:n1=12.0,n2=6.0\n",
      "result=2.0\n",
      "thank you...\n"
     ]
    }
   ],
   "source": [
    "print(\"welcome\")\n",
    "n1=input(\"Enter number1:\")\n",
    "n2=input(\"enter number2:\")\n",
    "print(f\"before conversion:n1={n1},n2={n2}\")\n",
    "try:\n",
    "    n1=float(n1)\n",
    "    n2=float(n2)\n",
    "    print(f\"after conversion:n1={n1},n2={n2}\")\n",
    "    res=n1/n2\n",
    "    print(\"result=%s\"%res)\n",
    "except Exception as err:\n",
    "    print(\"Issue in inputs:%s\"%err)\n",
    "print(\"thank you...\")"
   ]
  },
  {
   "cell_type": "code",
   "execution_count": 23,
   "metadata": {},
   "outputs": [
    {
     "name": "stdout",
     "output_type": "stream",
     "text": [
      "welcome\n",
      "Enter number1:12\n",
      "enter number2:0\n",
      "before conversion:n1=12,n2=0\n",
      "after conversion:n1=12.0,n2=0.0\n",
      "Issue in inputs:float division by zero\n",
      "thank you...\n"
     ]
    }
   ],
   "source": [
    "print(\"welcome\")\n",
    "n1=input(\"Enter number1:\")\n",
    "n2=input(\"enter number2:\")\n",
    "print(f\"before conversion:n1={n1},n2={n2}\")\n",
    "try:\n",
    "    n1=float(n1)\n",
    "    n2=float(n2)\n",
    "    print(f\"after conversion:n1={n1},n2={n2}\")\n",
    "    res=n1/n2\n",
    "    print(\"result=%s\"%res)\n",
    "except Exception as err:\n",
    "    print(\"Issue in inputs:%s\"%err)\n",
    "print(\"thank you...\")"
   ]
  },
  {
   "cell_type": "code",
   "execution_count": 26,
   "metadata": {},
   "outputs": [
    {
     "name": "stdout",
     "output_type": "stream",
     "text": [
      "welcome\n",
      "Enter number1:12\n",
      "enter number2:6\n",
      "before conversion:n1=12,n2=6\n",
      "after conversion:n1=12.0,n2=6.0\n",
      "result=2.0\n",
      "thank you...\n"
     ]
    }
   ],
   "source": [
    "print(\"welcome\")\n",
    "n1=input(\"Enter number1:\")\n",
    "n2=input(\"enter number2:\")\n",
    "print(f\"before conversion:n1={n1},n2={n2}\")\n",
    "try:\n",
    "    n1=float(n1)\n",
    "    n2=float(n2)\n",
    "    print(f\"after conversion:n1={n1},n2={n2}\")\n",
    "    res=n1/n2\n",
    "    print(\"result=%s\"%res)\n",
    "except ValueError as err:\n",
    "    print(\"expecting only digits\")\n",
    "except ZeroDivisionError as err:\n",
    "    print(\"n2 should not equal to zero\")\n",
    "except Exception as err: # program raised errors can be match\n",
    "    print(\"Issue in inputs:%s\"%err)\n",
    "except: # this can be catch exceptions raised by system\n",
    "    print(\"except...\")\n",
    "    \n",
    "print(\"thank you...\")"
   ]
  },
  {
   "cell_type": "code",
   "execution_count": 27,
   "metadata": {},
   "outputs": [
    {
     "name": "stdout",
     "output_type": "stream",
     "text": [
      "welcome\n",
      "Enter number1:2\n",
      "enter number2:0\n",
      "before conversion:n1=2,n2=0\n",
      "after conversion:n1=2.0,n2=0.0\n",
      "n2 should not equal to zero\n",
      "thank you...\n"
     ]
    }
   ],
   "source": [
    "print(\"welcome\")\n",
    "n1=input(\"Enter number1:\")\n",
    "n2=input(\"enter number2:\")\n",
    "print(f\"before conversion:n1={n1},n2={n2}\")\n",
    "try:\n",
    "    n1=float(n1)\n",
    "    n2=float(n2)\n",
    "    print(f\"after conversion:n1={n1},n2={n2}\")\n",
    "    res=n1/n2\n",
    "    print(\"result=%s\"%res)\n",
    "except ValueError as err:\n",
    "    print(\"expecting only digits\")\n",
    "except ZeroDivisionError as err:\n",
    "    print(\"n2 should not equal to zero\")\n",
    "except Exception as err: # program raised errors can be match\n",
    "    print(\"Issue in inputs:%s\"%err)\n",
    "except: # this can be catch exceptions raised by system\n",
    "    print(\"except...\")\n",
    "    \n",
    "print(\"thank you...\")"
   ]
  },
  {
   "cell_type": "code",
   "execution_count": 28,
   "metadata": {},
   "outputs": [
    {
     "name": "stdout",
     "output_type": "stream",
     "text": [
      "welcome\n",
      "Enter number1:werwe\n",
      "enter number2:wer\n",
      "before conversion:n1=werwe,n2=wer\n",
      "expecting only digits\n",
      "thank you...\n"
     ]
    }
   ],
   "source": [
    "print(\"welcome\")\n",
    "n1=input(\"Enter number1:\")\n",
    "n2=input(\"enter number2:\")\n",
    "print(f\"before conversion:n1={n1},n2={n2}\")\n",
    "try:\n",
    "    n1=float(n1)\n",
    "    n2=float(n2)\n",
    "    print(f\"after conversion:n1={n1},n2={n2}\")\n",
    "    res=n1/n2\n",
    "    print(\"result=%s\"%res)\n",
    "except ValueError as err:\n",
    "    print(\"expecting only digits\")\n",
    "except ZeroDivisionError as err:\n",
    "    print(\"n2 should not equal to zero\")\n",
    "except Exception as err: # program raised errors can be match\n",
    "    print(\"Issue in inputs:%s\"%err)\n",
    "except: # this can be catch exceptions raised by system\n",
    "    print(\"except...\")\n",
    "    \n",
    "print(\"thank you...\")"
   ]
  },
  {
   "cell_type": "code",
   "execution_count": null,
   "metadata": {},
   "outputs": [],
   "source": []
  }
 ],
 "metadata": {
  "kernelspec": {
   "display_name": "Python 3",
   "language": "python",
   "name": "python3"
  },
  "language_info": {
   "codemirror_mode": {
    "name": "ipython",
    "version": 3
   },
   "file_extension": ".py",
   "mimetype": "text/x-python",
   "name": "python",
   "nbconvert_exporter": "python",
   "pygments_lexer": "ipython3",
   "version": "3.7.0"
  }
 },
 "nbformat": 4,
 "nbformat_minor": 2
}
